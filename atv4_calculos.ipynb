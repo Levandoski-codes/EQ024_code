{
 "cells": [
  {
   "cell_type": "markdown",
   "metadata": {},
   "source": [
    "# Atividade 4 EQ024: Tecnologia da Fluidização"
   ]
  },
  {
   "cell_type": "markdown",
   "metadata": {},
   "source": [
    "## Aluno: João Eduardo Levandoski"
   ]
  },
  {
   "cell_type": "raw",
   "metadata": {},
   "source": [
    "import os\n",
    "os.system('pip install numpy matplotlib scipy pandas')"
   ]
  },
  {
   "cell_type": "code",
   "execution_count": 16,
   "metadata": {},
   "outputs": [],
   "source": [
    "import matplotlib.pyplot as plt"
   ]
  },
  {
   "cell_type": "markdown",
   "metadata": {},
   "source": [
    "# Propriedades"
   ]
  },
  {
   "cell_type": "markdown",
   "metadata": {},
   "source": [
    "**Fluido:**\n",
    "\n",
    " - Tipo de gás: Ar comprimido         \n",
    "     - $\\rho$$_g$ (kg.m$^{-3}$): 1,116 @ T ($^o$C): 43 +/- 2           \n",
    "     - $\\mu$$_g$ (kg.m$^{-1}$.s$^{-1}$): 18 x 10$^{-6}$ @ T ($^o$C): 22    \n",
    "    \n",
    "    \n",
    "**Partículas:**\n",
    "\n",
    " - Classificação de Gerald: D          \n",
    " - Modelo de distribuição escolhido: RRB  \n",
    "     - $\\rho$$_{part}$ (kg/m$³$): 1159 - 1217  \n",
    "     - $\\epsilon$$_{part}$(%): 52,55 - 54,22       \n",
    "     - $\\phi$$_{part}$: 0,34 - 0,37        \n",
    "     - d$_{ps}$($\\mu$m): 3586,68      \n"
   ]
  },
  {
   "cell_type": "markdown",
   "metadata": {},
   "source": [
    "### Início dos dados para teste"
   ]
  },
  {
   "cell_type": "code",
   "execution_count": 17,
   "metadata": {},
   "outputs": [],
   "source": [
    "d_sauter = 160*10**-6                          \n",
    "densi_gas = 3.6                 \n",
    "temp = 43                   \n",
    "densi_part = 1500 #Aparente                   \n",
    "# densi_part = 1217 #Real                   \n",
    "g = 9.8                  \n",
    "visc = 20*10**-6                 \n",
    "esf = 0.35                  "
   ]
  },
  {
   "cell_type": "code",
   "execution_count": 18,
   "metadata": {},
   "outputs": [],
   "source": [
    "D_c = 4\n",
    "Lmf = 2\n",
    "emf = 0.48 # Tannous \n",
    "U = 0.4 #7.63 - 8.24 #???"
   ]
  },
  {
   "cell_type": "markdown",
   "metadata": {},
   "source": [
    "### Final dos dados para teste"
   ]
  },
  {
   "cell_type": "code",
   "execution_count": 19,
   "metadata": {},
   "outputs": [],
   "source": [
    "d_sauter = 3586.68*10**-6\n",
    "densi_gas = 1.116\n",
    "temp = 43\n",
    "### densi_part = 557.10 #Aparente\n",
    "densi_part = 1217 #Real\n",
    "g = 9.81\n",
    "visc = 18*10**-6\n",
    "esf = 0.35"
   ]
  },
  {
   "cell_type": "markdown",
   "metadata": {},
   "source": [
    "# Características do Equipamento/leito"
   ]
  },
  {
   "cell_type": "markdown",
   "metadata": {},
   "source": [
    "**Equipamento:**\n",
    "\n",
    " - Diâmetro: 250 mm\n",
    " - Altura: 800 mm \n",
    " \n",
    " \n",
    "**Leito:**\n",
    "\n",
    " - Altura: 187 - 203 mm\n",
    " "
   ]
  },
  {
   "cell_type": "code",
   "execution_count": 20,
   "metadata": {},
   "outputs": [],
   "source": [
    "D_c = 0.25\n",
    "Lmf = 1.13*0.203\n",
    "emf = 0.581893 # Fatah\n",
    "U = 2*(1.17) #7.63 - 8.24 #??"
   ]
  },
  {
   "cell_type": "code",
   "execution_count": 21,
   "metadata": {},
   "outputs": [],
   "source": [
    "# global U"
   ]
  },
  {
   "cell_type": "markdown",
   "metadata": {},
   "source": [
    "# Etapa 1              \n",
    "## Determinar  a  queda  de  pressão  mínima  permitida  através  do  distribuido"
   ]
  },
  {
   "cell_type": "code",
   "execution_count": 22,
   "metadata": {},
   "outputs": [
    {
     "data": {
      "text/plain": [
       "1143.9922200333008"
      ]
     },
     "execution_count": 22,
     "metadata": {},
     "output_type": "execute_result"
    }
   ],
   "source": [
    "Pb = (1 - emf)*(densi_part - densi_gas)*g*Lmf\n",
    "Pb"
   ]
  },
  {
   "cell_type": "code",
   "execution_count": 23,
   "metadata": {},
   "outputs": [
    {
     "data": {
      "text/plain": [
       "343.1976660099902"
      ]
     },
     "execution_count": 23,
     "metadata": {},
     "output_type": "execute_result"
    }
   ],
   "source": [
    "Pd = 0.3*Pb\n",
    "Pd"
   ]
  },
  {
   "cell_type": "markdown",
   "metadata": {},
   "source": [
    "# Etapa 2\n",
    "## Determinando o coeficiente  do orifício"
   ]
  },
  {
   "cell_type": "code",
   "execution_count": 24,
   "metadata": {},
   "outputs": [
    {
     "data": {
      "text/plain": [
       "36270.0"
      ]
     },
     "execution_count": 24,
     "metadata": {},
     "output_type": "execute_result"
    }
   ],
   "source": [
    "Re = D_c*U*densi_gas/visc\n",
    "Re"
   ]
  },
  {
   "cell_type": "code",
   "execution_count": 25,
   "metadata": {},
   "outputs": [
    {
     "data": {
      "text/plain": [
       "0.6"
      ]
     },
     "execution_count": 25,
     "metadata": {},
     "output_type": "execute_result"
    }
   ],
   "source": [
    "Cd_or = 0.6  # Pois está acima Re > 3000\n",
    "Cd_or"
   ]
  },
  {
   "cell_type": "markdown",
   "metadata": {},
   "source": [
    "# Etapa 3\n",
    "## Calculo da  Uor"
   ]
  },
  {
   "cell_type": "code",
   "execution_count": 26,
   "metadata": {},
   "outputs": [
    {
     "data": {
      "text/plain": [
       "14.880115894666389"
      ]
     },
     "execution_count": 26,
     "metadata": {},
     "output_type": "execute_result"
    }
   ],
   "source": [
    "Uor = Cd_or*(2*Pd/densi_gas)**(1/2)\n",
    "Uor"
   ]
  },
  {
   "cell_type": "code",
   "execution_count": null,
   "metadata": {},
   "outputs": [],
   "source": []
  },
  {
   "cell_type": "code",
   "execution_count": 27,
   "metadata": {},
   "outputs": [
    {
     "data": {
      "text/plain": [
       "0.0490625"
      ]
     },
     "execution_count": 27,
     "metadata": {},
     "output_type": "execute_result"
    }
   ],
   "source": [
    "pi = 3.14\n",
    "Area = pi*(D_c/2)**(2)\n",
    "Area"
   ]
  },
  {
   "cell_type": "code",
   "execution_count": 28,
   "metadata": {},
   "outputs": [
    {
     "data": {
      "text/plain": [
       "15.725683970235385"
      ]
     },
     "execution_count": 28,
     "metadata": {},
     "output_type": "execute_result"
    }
   ],
   "source": [
    "frac = U/Uor\n",
    "frac*100"
   ]
  },
  {
   "cell_type": "markdown",
   "metadata": {},
   "source": [
    "# Determinando o Diâmetro"
   ]
  },
  {
   "cell_type": "code",
   "execution_count": 29,
   "metadata": {},
   "outputs": [],
   "source": [
    "import numpy as np\n",
    "\n",
    "def di_orificios(*array):\n",
    "    \n",
    "#     global Uor\n",
    "#     global U\n",
    "    \n",
    "    dor = np.asarray(array)\n",
    "#     print(dor)\n",
    "    nor = (U/((pi/4)*(dor**2)*Uor)) \n",
    "    dis_or = (2/(nor*3**(1/2)))**(1/2)\n",
    "    dis_entre = dis_or - (dor)\n",
    "    L = (dor*5.2*((((dor*densi_gas)/\\\n",
    "                        (densi_part*d_sauter))**0.3)*\\\n",
    "                      (1.3*((Uor/(g*dor))**0.2) - 1)))\n",
    "#     print(array_dor)\n",
    "    return dor*1000, nor*Area, dis_entre*1000, L*1000"
   ]
  },
  {
   "cell_type": "code",
   "execution_count": 30,
   "metadata": {},
   "outputs": [
    {
     "data": {
      "image/png": "[encoded data removed]",
      "text/plain": [
       "<Figure size 2000x700 with 2 Axes>"
      ]
     },
     "metadata": {
      "needs_background": "light"
     },
     "output_type": "display_data"
    }
   ],
   "source": [
    "\n",
    "array_dor = np.linspace(0.001, 0.005, 100)\n",
    "fig = plt.figure(figsize=(20,7), dpi=100)\n",
    "diametro_or, num_or, dist_entre_bordas, l_jato = di_orificios(*(array_dor))\n",
    "ax = plt.axes()\n",
    "plt.plot(diametro_or, num_or, color='blue', label='Numero orificios')\n",
    "plt.title('Relação das variáveis com o diâmetro de orifício')\n",
    "plt.xlabel('Diâmetro de orifício (mm)')\n",
    "plt.ylabel('Número de furos')\n",
    "# plt.grid(linestyle='-.')\n",
    "plt.legend()\n",
    "a_bordas = ax.twinx()\n",
    "a_bordas.plot(diametro_or, dist_entre_bordas, color='red', label='Distancia entre bordas')\n",
    "a_bordas.plot(diametro_or, l_jato, color='black', label='L jato')\n",
    "plt.ylabel('Medida em (mm)')\n",
    "# plt.grid()\n",
    "plt.legend()\n",
    "# plt.ylim(0, 0.012)\n",
    "# plt.xlim(0, 0.006)\n",
    "plt.show()\n"
   ]
  },
  {
   "cell_type": "markdown",
   "metadata": {},
   "source": [
    "# Escolhas"
   ]
  },
  {
   "cell_type": "markdown",
   "metadata": {},
   "source": [
    "## Baseado no gráfico acima, foi escolhido:"
   ]
  },
  {
   "cell_type": "code",
   "execution_count": 31,
   "metadata": {},
   "outputs": [
    {
     "name": "stdout",
     "output_type": "stream",
     "text": [
      "diametro_or:     3.5 num_or: 802.3308 dist_entre_bordas: 4.902969 l_jato: 7.487028\n"
     ]
    }
   ],
   "source": [
    "diametro_orificio = [0.0035,]\n",
    "diametro_or, num_or, dist_entre_bordas, l_jato = di_orificios(*diametro_orificio)\n",
    "print(f'diametro_or:{diametro_or[0]:8.7} num_or: {num_or[0]:8.7} dist_entre_bordas: {dist_entre_bordas[0]:8.7} l_jato: {l_jato[0]:8.7}')"
   ]
  },
  {
   "cell_type": "code",
   "execution_count": null,
   "metadata": {},
   "outputs": [],
   "source": []
  },
  {
   "cell_type": "markdown",
   "metadata": {},
   "source": [
    "# Etapa 4\n",
    "## Espaçamento entre os centros dos furos (lado triangular)"
   ]
  },
  {
   "cell_type": "code",
   "execution_count": 34,
   "metadata": {},
   "outputs": [
    {
     "data": {
      "text/plain": [
       "0.0035"
      ]
     },
     "execution_count": 34,
     "metadata": {},
     "output_type": "execute_result"
    }
   ],
   "source": [
    "diametro_orificio[0]"
   ]
  },
  {
   "cell_type": "markdown",
   "metadata": {},
   "source": [
    "# Etapa 5\n",
    "## Determinar comprimento do jato"
   ]
  },
  {
   "cell_type": "code",
   "execution_count": 33,
   "metadata": {},
   "outputs": [
    {
     "data": {
      "text/plain": [
       "7.487028023326959"
      ]
     },
     "execution_count": 33,
     "metadata": {},
     "output_type": "execute_result"
    }
   ],
   "source": [
    "l_jato[0]"
   ]
  },
  {
   "cell_type": "code",
   "execution_count": null,
   "metadata": {},
   "outputs": [],
   "source": []
  }
 ],
 "metadata": {
  "kernelspec": {
   "display_name": "Python 3",
   "language": "python",
   "name": "python3"
  },
  "language_info": {
   "codemirror_mode": {
    "name": "ipython",
    "version": 3
   },
   "file_extension": ".py",
   "mimetype": "text/x-python",
   "name": "python",
   "nbconvert_exporter": "python",
   "pygments_lexer": "ipython3",
   "version": "3.7.3"
  }
 },
 "nbformat": 4,
 "nbformat_minor": 4
}
