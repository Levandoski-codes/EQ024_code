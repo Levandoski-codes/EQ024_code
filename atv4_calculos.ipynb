{
 "cells": [
  {
   "cell_type": "markdown",
   "metadata": {},
   "source": [
    "# Atividade 4 EQ024: Tecnologia da Fluidização"
   ]
  },
  {
   "cell_type": "markdown",
   "metadata": {},
   "source": [
    "## Aluno: João Eduardo Levandoski"
   ]
  },
  {
   "cell_type": "markdown",
   "metadata": {},
   "source": [
    "# Propriedades"
   ]
  },
  {
   "cell_type": "markdown",
   "metadata": {},
   "source": [
    "**Fluido:**\n",
    "\n",
    " - Tipo de gás: Ar comprimido         \n",
    "     - $\\rho$$_g$ (kg.m$^{-3}$): 1,116 @ T ($^o$C): 43 +/- 2           \n",
    "     - $\\mu$$_g$ (kg.m$^{-1}$.s$^{-1}$): 18 x 10$^{-6}$ @ T ($^o$C): 22    \n",
    "    \n",
    "    \n",
    "**Partículas:**\n",
    "\n",
    " - Classificação de Gerald: D          \n",
    " - Modelo de distribuição escolhido: RRB  \n",
    "     - $\\rho$$_{part}$ (kg/m$³$): 1159 - 1217  \n",
    "     - $\\epsilon$$_{part}$(%): 52,55 - 54,22       \n",
    "     - $\\phi$$_{part}$: 0,34 - 0,37        \n",
    "     - d$_{ps}$($\\mu$m): 3586,68      \n"
   ]
  },
  {
   "cell_type": "markdown",
   "metadata": {},
   "source": [
    "### Início dos dados para teste"
   ]
  },
  {
   "cell_type": "code",
   "execution_count": 114,
   "metadata": {},
   "outputs": [],
   "source": [
    "d_sauter = 160*10**-6                          \n",
    "densi_gas = 3.6                 \n",
    "temp = 43                   \n",
    "densi_part = 1500 #Aparente                   \n",
    "# densi_part = 1217 #Real                   \n",
    "g = 9.8                  \n",
    "visc = 20*10**-6                 \n",
    "esf = 0.35                  "
   ]
  },
  {
   "cell_type": "code",
   "execution_count": 115,
   "metadata": {},
   "outputs": [],
   "source": [
    "D_c = 4\n",
    "Lmf = 2\n",
    "emf = 0.48 # Tannous \n",
    "U = 0.4 #7.63 - 8.24 #???"
   ]
  },
  {
   "cell_type": "markdown",
   "metadata": {},
   "source": [
    "### Final dos dados para teste"
   ]
  },
  {
   "cell_type": "code",
   "execution_count": 116,
   "metadata": {},
   "outputs": [],
   "source": [
    "d_sauter = 3586.68*10**-6\n",
    "densi_gas = 1.116\n",
    "temp = 43\n",
    "### densi_part = 557.10 #Aparente\n",
    "densi_part = 1217 #Real\n",
    "g = 9.81\n",
    "visc = 18*10**-6\n",
    "esf = 0.35"
   ]
  },
  {
   "cell_type": "markdown",
   "metadata": {},
   "source": [
    "# Características do Equipamento/leito"
   ]
  },
  {
   "cell_type": "markdown",
   "metadata": {},
   "source": [
    "**Equipamento:**\n",
    "\n",
    " - Diâmetro: 250 mm\n",
    " - Altura: 800 mm \n",
    " \n",
    " \n",
    "**Leito:**\n",
    "\n",
    " - Altura: 187 - 203 mm\n",
    " "
   ]
  },
  {
   "cell_type": "code",
   "execution_count": 117,
   "metadata": {},
   "outputs": [],
   "source": [
    "D_c = 0.25\n",
    "Lmf = 1.13*0.203\n",
    "emf = 0.581893 # Fatah\n",
    "U = 2*(1.17) #7.63 - 8.24 #??"
   ]
  },
  {
   "cell_type": "markdown",
   "metadata": {},
   "source": [
    "# Etapa 1              \n",
    "## Determinar  a  queda  de  pressão  mínima  permitida  através  do  distribuido"
   ]
  },
  {
   "cell_type": "code",
   "execution_count": 118,
   "metadata": {},
   "outputs": [
    {
     "data": {
      "text/plain": [
       "1143.9922200333008"
      ]
     },
     "execution_count": 118,
     "metadata": {},
     "output_type": "execute_result"
    }
   ],
   "source": [
    "Pb = (1 - emf)*(densi_part - densi_gas)*g*Lmf\n",
    "Pb"
   ]
  },
  {
   "cell_type": "code",
   "execution_count": 119,
   "metadata": {},
   "outputs": [
    {
     "data": {
      "text/plain": [
       "343.1976660099902"
      ]
     },
     "execution_count": 119,
     "metadata": {},
     "output_type": "execute_result"
    }
   ],
   "source": [
    "Pd = 0.3*Pb\n",
    "Pd"
   ]
  },
  {
   "cell_type": "markdown",
   "metadata": {},
   "source": [
    "# Etapa 2\n",
    "## Determinando o coeficiente  do orifício"
   ]
  },
  {
   "cell_type": "code",
   "execution_count": 120,
   "metadata": {},
   "outputs": [
    {
     "data": {
      "text/plain": [
       "36270.0"
      ]
     },
     "execution_count": 120,
     "metadata": {},
     "output_type": "execute_result"
    }
   ],
   "source": [
    "Re = D_c*U*densi_gas/visc\n",
    "Re"
   ]
  },
  {
   "cell_type": "code",
   "execution_count": 121,
   "metadata": {},
   "outputs": [
    {
     "data": {
      "text/plain": [
       "0.6"
      ]
     },
     "execution_count": 121,
     "metadata": {},
     "output_type": "execute_result"
    }
   ],
   "source": [
    "Cd_or = 0.6  # Pois está acima Re > 3000\n",
    "Cd_or"
   ]
  },
  {
   "cell_type": "markdown",
   "metadata": {},
   "source": [
    "# Etapa 3\n",
    "## Calculo da  Uor"
   ]
  },
  {
   "cell_type": "code",
   "execution_count": 122,
   "metadata": {},
   "outputs": [
    {
     "data": {
      "text/plain": [
       "14.880115894666389"
      ]
     },
     "execution_count": 122,
     "metadata": {},
     "output_type": "execute_result"
    }
   ],
   "source": [
    "Uor = Cd_or*(2*Pd/densi_gas)**(1/2)\n",
    "Uor"
   ]
  },
  {
   "cell_type": "code",
   "execution_count": 123,
   "metadata": {},
   "outputs": [],
   "source": [
    "pi = 3.14\n",
    "Area = pi*(D_c/2)**(1/2)"
   ]
  },
  {
   "cell_type": "code",
   "execution_count": 131,
   "metadata": {},
   "outputs": [
    {
     "data": {
      "text/plain": [
       "0.15725683970235385"
      ]
     },
     "execution_count": 131,
     "metadata": {},
     "output_type": "execute_result"
    }
   ],
   "source": [
    "frac = U/Uor\n",
    "frac"
   ]
  },
  {
   "cell_type": "code",
   "execution_count": 132,
   "metadata": {},
   "outputs": [
    {
     "name": "stdout",
     "output_type": "stream",
     "text": [
      "dor\t\tNor\n",
      "0.001\t\t200327.2\n",
      "0.0015\t\t89034.3\n",
      "0.002\t\t50081.8\n",
      "0.0025\t\t32052.35\n",
      "0.003\t\t22258.58\n",
      "0.0035\t\t16353.24\n",
      "0.004\t\t12520.45\n",
      "0.0045\t\t9892.7\n"
     ]
    }
   ],
   "source": [
    "print('dor\\t\\tNor')\n",
    "for dor in [0.001, 0.0015, 0.002, 0.0025, 0.003, 0.0035, 0.004, 0.0045]:\n",
    "    Nor = (U/((pi/4)*(dor**2)*Uor))\n",
    "    print(f'{dor:.3}\\t\\t{Nor:.7}')"
   ]
  },
  {
   "cell_type": "code",
   "execution_count": 127,
   "metadata": {},
   "outputs": [
    {
     "data": {
      "text/plain": [
       "0.0035"
      ]
     },
     "execution_count": 127,
     "metadata": {},
     "output_type": "execute_result"
    }
   ],
   "source": [
    "dor = 0.0035\n",
    "# dor = 0.002 # Exemplo\n",
    "dor"
   ]
  },
  {
   "cell_type": "code",
   "execution_count": 133,
   "metadata": {},
   "outputs": [
    {
     "data": {
      "text/plain": [
       "16300"
      ]
     },
     "execution_count": 133,
     "metadata": {},
     "output_type": "execute_result"
    }
   ],
   "source": [
    "Nor = 16300\n",
    "# Nor = 4200 # Exemplo\n",
    "Nor"
   ]
  },
  {
   "cell_type": "markdown",
   "metadata": {},
   "source": [
    "# Etapa 4\n",
    "## Espaçamento entre os centros dos furos (lado triangular)"
   ]
  },
  {
   "cell_type": "code",
   "execution_count": 136,
   "metadata": {},
   "outputs": [
    {
     "data": {
      "text/plain": [
       "0.8416681283436361"
      ]
     },
     "execution_count": 136,
     "metadata": {},
     "output_type": "execute_result"
    }
   ],
   "source": [
    "dis_or = (2/(Nor*3**(1/2)))**(1/2)\n",
    "dis_or*100"
   ]
  },
  {
   "cell_type": "markdown",
   "metadata": {},
   "source": [
    "# Etapa 5\n",
    "## Determinar comprimento do jato"
   ]
  },
  {
   "cell_type": "code",
   "execution_count": 137,
   "metadata": {},
   "outputs": [
    {
     "data": {
      "text/plain": [
       "0.9720551127703471"
      ]
     },
     "execution_count": 137,
     "metadata": {},
     "output_type": "execute_result"
    }
   ],
   "source": [
    "Lj = dor*5.2*((((dor*densi_gas)/(densi_part*d_sauter))**0.3)*(1.3*((Uor/(g*dor))**0.2) - 1))\n",
    "Lj*100"
   ]
  },
  {
   "cell_type": "markdown",
   "metadata": {},
   "source": [
    "$U = \\frac{\\pi}{4} d_{or}^2 U_{or} N_{or}$"
   ]
  },
  {
   "cell_type": "code",
   "execution_count": null,
   "metadata": {},
   "outputs": [],
   "source": []
  }
 ],
 "metadata": {
  "kernelspec": {
   "display_name": "Python 3",
   "language": "python",
   "name": "python3"
  },
  "language_info": {
   "codemirror_mode": {
    "name": "ipython",
    "version": 3
   },
   "file_extension": ".py",
   "mimetype": "text/x-python",
   "name": "python",
   "nbconvert_exporter": "python",
   "pygments_lexer": "ipython3",
   "version": "3.7.3"
  }
 },
 "nbformat": 4,
 "nbformat_minor": 4
}
