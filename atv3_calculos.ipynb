{
 "cells": [
  {
   "cell_type": "markdown",
   "metadata": {},
   "source": [
    "# Atividade 3 EQ024: Tecnologias de Fluidização"
   ]
  },
  {
   "cell_type": "markdown",
   "metadata": {},
   "source": [
    "## Aluno: João Eduardo Levandoski"
   ]
  },
  {
   "cell_type": "markdown",
   "metadata": {},
   "source": [
    "# Propriedades"
   ]
  },
  {
   "cell_type": "code",
   "execution_count": 1,
   "metadata": {},
   "outputs": [],
   "source": [
    "d_sauter = 3631*10**-6\n",
    "densi_gas = 1.116\n",
    "temp = 43.2\n",
    "densi_part = 1217\n",
    "g = 9.81\n",
    "visc = 18*10**-6\n"
   ]
  },
  {
   "cell_type": "markdown",
   "metadata": {},
   "source": [
    "# Equações utilizadas"
   ]
  },
  {
   "cell_type": "markdown",
   "metadata": {},
   "source": [
    "1. $Re_{mf} = [K_1^2 + K_2 Ar]^{\\frac{1}{2}}$\n",
    "\n",
    "2. $Ar = \\frac{d_{sauter}^3 \\rho_{gas} (\\rho_{gas} - \\rho_{part}) g}{\\mu_{gas}}$\n",
    "\n",
    "3. $Re_{mf} = \\frac{d_p U_{mf} \\rho_g}{\\mu}$\n",
    "\n",
    "4. $U_{mf} = \\frac{Re_{mf} \\mu}{d_p \\rho_g} $"
   ]
  },
  {
   "cell_type": "code",
   "execution_count": 2,
   "metadata": {},
   "outputs": [],
   "source": [
    "Ar = (((d_sauter**3) * densi_gas * (densi_part - densi_gas) * g ))\\\n",
    "        /visc**2"
   ]
  },
  {
   "cell_type": "code",
   "execution_count": 3,
   "metadata": {},
   "outputs": [],
   "source": [
    "Ks = {\n",
    "    'Wen': (33.7, 0.0408),\n",
    "    'Richardson': (25.7, 0.0365),\n",
    "    'Saxena': (25.3, 0.0571),\n",
    "    'Babu': (25.3, 0.0651),\n",
    "    'Grace': (27.2, 0.0408),\n",
    "    'Chitester': (28.7, 0.0494),\n",
    "    'Tannous': (25.83, 0.043)\n",
    "}"
   ]
  },
  {
   "cell_type": "code",
   "execution_count": 4,
   "metadata": {},
   "outputs": [
    {
     "name": "stdout",
     "output_type": "stream",
     "text": [
      "Número de Arquimedes: 1966794.939\n",
      "Autor\t\tK1\tK2\t\tRe\t\tU (m/s)\n",
      "Wen       \t33.7\t0.0408\t\t251.573\t\t1.1175\n",
      "Richardson\t25.7\t0.0365\t\t243.463\t\t1.08147\n",
      "Saxena    \t25.3\t0.0571\t\t310.772\t\t1.38046\n",
      "Babu      \t25.3\t0.0651\t\t333.418\t\t1.48105\n",
      "Grace     \t27.2\t0.0408\t\t257.379\t\t1.14329\n",
      "Chitester \t28.7\t0.0494\t\t284.323\t\t1.26297\n",
      "Tannous   \t25.83\t0.043\t\t266.128\t\t1.18215\n"
     ]
    }
   ],
   "source": [
    "print(f'Número de Arquimedes: {Ar:.10}')\n",
    "print(f'Autor\\t\\tK1\\tK2\\t\\tRe\\t\\tU (m/s)')\n",
    "for autor in Ks:\n",
    "    K1 = Ks[autor][0]\n",
    "    K2 = Ks[autor][1]\n",
    "    Re_pmf = ((K1)**2 + K2*Ar)**(1/2) - K1\n",
    "    U_mf = ((Re_pmf * visc)/(d_sauter*densi_gas))\n",
    "    print(f'{autor:10}\\t{K1}\\t{K2}\\t\\t{Re_pmf:.6}\\t\\t{U_mf:.6}' )"
   ]
  },
  {
   "cell_type": "code",
   "execution_count": null,
   "metadata": {},
   "outputs": [],
   "source": []
  },
  {
   "cell_type": "code",
   "execution_count": null,
   "metadata": {},
   "outputs": [],
   "source": []
  }
 ],
 "metadata": {
  "kernelspec": {
   "display_name": "Python 3",
   "language": "python",
   "name": "python3"
  },
  "language_info": {
   "codemirror_mode": {
    "name": "ipython",
    "version": 3
   },
   "file_extension": ".py",
   "mimetype": "text/x-python",
   "name": "python",
   "nbconvert_exporter": "python",
   "pygments_lexer": "ipython3",
   "version": "3.7.3"
  }
 },
 "nbformat": 4,
 "nbformat_minor": 4
}
