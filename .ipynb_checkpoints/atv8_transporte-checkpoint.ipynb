{
 "cells": [
  {
   "cell_type": "markdown",
   "metadata": {},
   "source": [
    "# Atividade 3 EQ024: Tecnologias de Fluidização"
   ]
  },
  {
   "cell_type": "markdown",
   "metadata": {},
   "source": [
    "## Aluno: João Eduardo Levandoski"
   ]
  },
  {
   "cell_type": "markdown",
   "metadata": {},
   "source": [
    "### Comprimento de tubo reto: $20 m     (\\approx 65 ft)$\n",
    "### Acidentes 2 Cotovelos de 90°\n",
    "### $\\rho: 1217 kg/m^3     (\\approx 76  lbm/ft^3)$\n",
    "### Vazão mássica: $ 10 kg/h    (\\approx 22 lbm/h)$"
   ]
  },
  {
   "cell_type": "markdown",
   "metadata": {},
   "source": [
    "### Comprimento equivalente: $65 ft + 2*25ft = 105 ft$"
   ]
  },
  {
   "cell_type": "markdown",
   "metadata": {},
   "source": [
    "### Velocidade inicial: $\\approx 8000 ft/min$"
   ]
  },
  {
   "cell_type": "markdown",
   "metadata": {},
   "source": [
    "![carta1](imgs/velocidade.png)"
   ]
  },
  {
   "cell_type": "markdown",
   "metadata": {},
   "source": [
    "### Nas cartas, considerar apenas a linha preta"
   ]
  },
  {
   "cell_type": "markdown",
   "metadata": {},
   "source": [
    "### Com diâmetro de $3\"   Q \\approx  450 ft^3/min$"
   ]
  },
  {
   "cell_type": "markdown",
   "metadata": {},
   "source": [
    "![carta1](imgs/carta1.png)"
   ]
  },
  {
   "cell_type": "markdown",
   "metadata": {},
   "source": [
    "## Assim o teor de sólidos não pode ser calculado pela carta 2"
   ]
  },
  {
   "cell_type": "markdown",
   "metadata": {},
   "source": [
    "![carta2](imgs/carta2.png)"
   ]
  },
  {
   "cell_type": "markdown",
   "metadata": {},
   "source": [
    "## Nova vazão mássica: $ 454 kg/h    (\\approx 1000 lbm/h)$ pois é o mínimo da carta"
   ]
  },
  {
   "cell_type": "markdown",
   "metadata": {},
   "source": [
    "## Comprimento equivalente: $65 ft + 2*25ft = 105 ft$"
   ]
  },
  {
   "cell_type": "markdown",
   "metadata": {},
   "source": [
    "## Com diâmetro de $2\" (\\approx 5,08 cm)   Q \\approx 175 ft^3/min (\\approx 4955,45 L/min)$"
   ]
  },
  {
   "cell_type": "markdown",
   "metadata": {},
   "source": [
    "![carta1](imgs/carta1_1.png)"
   ]
  },
  {
   "cell_type": "markdown",
   "metadata": {},
   "source": [
    "## Teor de sólidos equivalente a $\\approx 1,5$"
   ]
  },
  {
   "cell_type": "markdown",
   "metadata": {},
   "source": [
    "![carta2](imgs/carta2_1.png)"
   ]
  },
  {
   "cell_type": "markdown",
   "metadata": {},
   "source": [
    "### Fator de projeto:$\\approx $ 200"
   ]
  },
  {
   "cell_type": "markdown",
   "metadata": {},
   "source": [
    "![carta3](imgs/carta3_1.png)"
   ]
  },
  {
   "cell_type": "markdown",
   "metadata": {},
   "source": [
    "### Perda de carga: $\\approx $ 2 psi"
   ]
  },
  {
   "cell_type": "markdown",
   "metadata": {},
   "source": [
    "![carta4](imgs/carta4_1.png)"
   ]
  },
  {
   "cell_type": "markdown",
   "metadata": {},
   "source": [
    "### Potência útil: $\\approx$ 2.25 hp"
   ]
  },
  {
   "cell_type": "markdown",
   "metadata": {},
   "source": [
    "![carta5](imgs/carta5_1.png)"
   ]
  },
  {
   "cell_type": "markdown",
   "metadata": {},
   "source": [
    "## Motor [escolhido](https://www.lojadomecanico.com.br/produto/119245/21/159/motocompressor-88-pes-50-litros-25hp-110220v-monofasico-motomil-360688)\n",
    "- Especificações técnicas:\n",
    "    - :: Tensão:110V 220 V (Cód.: 36068.8)\n",
    "    - :: Número de fases: Monofásico\n",
    "    - :: Frequência: 60 Hz\n",
    "    - :: Potência do motor: 2,5 HP\n",
    "    - :: Capacidade do reservatório: 50 litros\n",
    "    - :: Deslocamento Teórico: 8,8 pés³/min – 249 l/min **(\\*\\*)**\n",
    "    - :: Número de estágios: 1 estágio\n",
    "    - :: Número de pistão: 1 em linha\n",
    "    - :: Número de polos: 2 polos\n",
    "    - :: Pressão de operação (Máxima): 120 lbf/pol² - 8,3 bar\n",
    "    - :: Pressão de operação (Mínima): 80 lbf/pol² - 5,5 bar\n",
    "    - :: Volume de óleo: 250 ml                 \n",
    "\n",
    "\n",
    "**(\\*\\*)**(Problema, mas pode ser contornado trocando o pistão, pois um compressor montado nas necessidades do exercício não existe no [mercado](https://www.schulz.com.br/wp-content/uploads/2018/11/Catalogo-Motocompressores-de-Pistao-Schulz-Jet-Facil-ago-18-MI.pdf))"
   ]
  },
  {
   "cell_type": "code",
   "execution_count": null,
   "metadata": {},
   "outputs": [],
   "source": []
  }
 ],
 "metadata": {
  "kernelspec": {
   "display_name": "Python 3",
   "language": "python",
   "name": "python3"
  },
  "language_info": {
   "codemirror_mode": {
    "name": "ipython",
    "version": 3
   },
   "file_extension": ".py",
   "mimetype": "text/x-python",
   "name": "python",
   "nbconvert_exporter": "python",
   "pygments_lexer": "ipython3",
   "version": "3.7.3"
  }
 },
 "nbformat": 4,
 "nbformat_minor": 4
}
