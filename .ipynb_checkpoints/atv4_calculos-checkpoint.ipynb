{
 "cells": [
  {
   "cell_type": "markdown",
   "metadata": {},
   "source": [
    "# Atividade 4 EQ024: Tecnologia da Fluidização"
   ]
  },
  {
   "cell_type": "markdown",
   "metadata": {},
   "source": [
    "## Aluno: João Eduardo Levandoski"
   ]
  },
  {
   "cell_type": "markdown",
   "metadata": {},
   "source": [
    "# Propriedades"
   ]
  },
  {
   "cell_type": "markdown",
   "metadata": {},
   "source": [
    "**Fluido:**\n",
    "\n",
    " - Tipo de gás: Ar comprimido         \n",
    "     - $\\rho$$_g$ (kg.m$^{-3}$): 1,116 @ T ($^o$C): 43 +/- 2           \n",
    "     - $\\mu$$_g$ (kg.m$^{-1}$.s$^{-1}$): 18 x 10$^{-6}$ @ T ($^o$C): 22    \n",
    "    \n",
    "    \n",
    "**Partículas:**\n",
    "\n",
    " - Classificação de Gerald: D          \n",
    " - Modelo de distribuição escolhido: RRB  \n",
    "     - $\\rho$$_{part}$ (kg/m$³$): 1159 - 1217  \n",
    "     - $\\epsilon$$_{part}$(%): 52,55 - 54,22       \n",
    "     - $\\phi$$_{part}$: 0,34 - 0,37        \n",
    "     - d$_{ps}$($\\mu$m): 3586,68      \n"
   ]
  },
  {
   "cell_type": "markdown",
   "metadata": {},
   "source": [
    "### Início dos dados para teste"
   ]
  },
  {
   "cell_type": "code",
   "execution_count": 178,
   "metadata": {},
   "outputs": [],
   "source": [
    "d_sauter = 160*10**-6\n",
    "densi_gas = 3.6\n",
    "temp = 43\n",
    "densi_part = 1500 #Aparente\n",
    "# densi_part = 1217 #Real\n",
    "g = 9.8\n",
    "visc = 20*10**-6\n",
    "esf = 0.35"
   ]
  },
  {
   "cell_type": "code",
   "execution_count": 179,
   "metadata": {},
   "outputs": [],
   "source": [
    "D_c = 4\n",
    "Lmf = 2\n",
    "emf = 0.48 # Tannous \n",
    "U = 0.4 #7.63 - 8.24 #???"
   ]
  },
  {
   "cell_type": "markdown",
   "metadata": {},
   "source": [
    "### Final dos dados para teste"
   ]
  },
  {
   "cell_type": "code",
   "execution_count": 180,
   "metadata": {},
   "outputs": [],
   "source": [
    "d_sauter = 3586.68*10**-6\n",
    "densi_gas = 1.116\n",
    "temp = 43\n",
    "densi_part = 557.10 #Aparente\n",
    "# densi_part = 1217 #Real\n",
    "g = 9.81\n",
    "visc = 18*10**-6\n",
    "esf = 0.35"
   ]
  },
  {
   "cell_type": "markdown",
   "metadata": {},
   "source": [
    "# Características do Equipamento/leito"
   ]
  },
  {
   "cell_type": "markdown",
   "metadata": {},
   "source": [
    "**Equipamento:**\n",
    "\n",
    " - Diâmetro: 250 mm\n",
    " - Altura: 800 mm \n",
    " \n",
    " \n",
    "**Leito:**\n",
    "\n",
    " - Altura: 187 - 203 mm\n",
    " "
   ]
  },
  {
   "cell_type": "code",
   "execution_count": 181,
   "metadata": {},
   "outputs": [],
   "source": [
    "D_c = 0.25\n",
    "Lmf = 1.13*0.203\n",
    "emf = 0.581893 # Fatah\n",
    "U = 3*(0.76) #7.63 - 8.24 #??"
   ]
  },
  {
   "cell_type": "markdown",
   "metadata": {},
   "source": [
    "# Etapa 1"
   ]
  },
  {
   "cell_type": "code",
   "execution_count": 182,
   "metadata": {},
   "outputs": [
    {
     "data": {
      "text/plain": [
       "523.1102395154428"
      ]
     },
     "execution_count": 182,
     "metadata": {},
     "output_type": "execute_result"
    }
   ],
   "source": [
    "Pb = (1 - emf)*(densi_part - densi_gas)*g*Lmf\n",
    "Pb"
   ]
  },
  {
   "cell_type": "code",
   "execution_count": 183,
   "metadata": {},
   "outputs": [
    {
     "data": {
      "text/plain": [
       "156.93307185463283"
      ]
     },
     "execution_count": 183,
     "metadata": {},
     "output_type": "execute_result"
    }
   ],
   "source": [
    "Pd = 0.3*Pb\n",
    "Pd"
   ]
  },
  {
   "cell_type": "markdown",
   "metadata": {},
   "source": [
    "# Etapa 2"
   ]
  },
  {
   "cell_type": "code",
   "execution_count": 184,
   "metadata": {},
   "outputs": [
    {
     "data": {
      "text/plain": [
       "35340.00000000001"
      ]
     },
     "execution_count": 184,
     "metadata": {},
     "output_type": "execute_result"
    }
   ],
   "source": [
    "Re = D_c*U*densi_gas/visc\n",
    "Re"
   ]
  },
  {
   "cell_type": "code",
   "execution_count": 185,
   "metadata": {},
   "outputs": [
    {
     "data": {
      "text/plain": [
       "0.6"
      ]
     },
     "execution_count": 185,
     "metadata": {},
     "output_type": "execute_result"
    }
   ],
   "source": [
    "Cd_or = 0.6 ##???\n",
    "Cd_or"
   ]
  },
  {
   "cell_type": "markdown",
   "metadata": {},
   "source": [
    "# Etapa 3\n"
   ]
  },
  {
   "cell_type": "code",
   "execution_count": 186,
   "metadata": {},
   "outputs": [
    {
     "data": {
      "text/plain": [
       "10.062163938836475"
      ]
     },
     "execution_count": 186,
     "metadata": {},
     "output_type": "execute_result"
    }
   ],
   "source": [
    "Uor = Cd_or*(2*Pd/densi_gas)**(1/2)\n",
    "Uor"
   ]
  },
  {
   "cell_type": "code",
   "execution_count": 187,
   "metadata": {},
   "outputs": [],
   "source": [
    "dor = 0.002"
   ]
  },
  {
   "cell_type": "code",
   "execution_count": 188,
   "metadata": {},
   "outputs": [],
   "source": [
    "Nor = 4200"
   ]
  },
  {
   "cell_type": "markdown",
   "metadata": {},
   "source": [
    "# Etapa 4"
   ]
  },
  {
   "cell_type": "code",
   "execution_count": 189,
   "metadata": {},
   "outputs": [
    {
     "data": {
      "text/plain": [
       "1.6580974024890924"
      ]
     },
     "execution_count": 189,
     "metadata": {},
     "output_type": "execute_result"
    }
   ],
   "source": [
    "dis_or = (2/(Nor*3**(1/2)))**(1/2)\n",
    "dis_or*100"
   ]
  },
  {
   "cell_type": "markdown",
   "metadata": {},
   "source": [
    "# Etapa 5"
   ]
  },
  {
   "cell_type": "code",
   "execution_count": 190,
   "metadata": {},
   "outputs": [
    {
     "data": {
      "text/plain": [
       "0.47755993448532236"
      ]
     },
     "execution_count": 190,
     "metadata": {},
     "output_type": "execute_result"
    }
   ],
   "source": [
    "Lj = dor*5.2*((((dor*densi_gas)/(densi_part*d_sauter))**0.3)*(1.3*((Uor/(g*dor))**0.2) - 1))\n",
    "Lj*100"
   ]
  },
  {
   "cell_type": "code",
   "execution_count": null,
   "metadata": {},
   "outputs": [],
   "source": []
  }
 ],
 "metadata": {
  "kernelspec": {
   "display_name": "Python 3",
   "language": "python",
   "name": "python3"
  },
  "language_info": {
   "codemirror_mode": {
    "name": "ipython",
    "version": 3
   },
   "file_extension": ".py",
   "mimetype": "text/x-python",
   "name": "python",
   "nbconvert_exporter": "python",
   "pygments_lexer": "ipython3",
   "version": "3.7.3"
  }
 },
 "nbformat": 4,
 "nbformat_minor": 4
}
