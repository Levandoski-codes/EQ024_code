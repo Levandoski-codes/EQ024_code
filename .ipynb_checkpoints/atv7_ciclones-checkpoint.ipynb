{
 "cells": [
  {
   "cell_type": "markdown",
   "metadata": {},
   "source": [
    "# Atividade 7 EQ024: Tecnologia da Fluidização"
   ]
  },
  {
   "cell_type": "markdown",
   "metadata": {},
   "source": [
    "## Aluno: João Eduardo Levandoski"
   ]
  },
  {
   "cell_type": "code",
   "execution_count": 1,
   "metadata": {},
   "outputs": [],
   "source": [
    "from math import pi, ceil\n",
    "import numpy as np"
   ]
  },
  {
   "cell_type": "code",
   "execution_count": 2,
   "metadata": {},
   "outputs": [
    {
     "data": {
      "text/plain": [
       "351.0"
      ]
     },
     "execution_count": 2,
     "metadata": {},
     "output_type": "execute_result"
    }
   ],
   "source": [
    "umf = 1.17 # Tannous\n",
    "u = 3*umf \n",
    "# u = 2\n",
    "F = 15/3600  ##################### Foi um chute\n",
    "# n do modelo é 3.975\n",
    "# dlinha = 3099.5\n",
    "u # colococar mais alta 6 a 20 m/s\n",
    "u =  u * 100\n",
    "u"
   ]
  },
  {
   "cell_type": "code",
   "execution_count": 3,
   "metadata": {},
   "outputs": [],
   "source": [
    "L_mf = 0.203\n",
    "\n",
    "H = 1.15633 * L_mf"
   ]
  },
  {
   "cell_type": "code",
   "execution_count": 4,
   "metadata": {
    "jupyter": {
     "source_hidden": true
    }
   },
   "outputs": [],
   "source": [
    "d_sauter = 3586.68*10**-6\n",
    "d_med = d_sauter\n",
    "densi_gas = 1.116\n",
    "densi_part = 1217 #Real\n",
    "densi_part_apa = 557.10\n",
    "densi_h2o = 1000\n",
    "g = 9.81\n",
    "visc = 18*10**-6\n",
    "D_c = 0.25 \n",
    "A_sec = (pi*D_c**2)/4\n",
    "Ne = 5\n",
    "Q = A_sec*u\n",
    "\n",
    "# def _dpc(Dc, densi_part, densi_gas, Q, Ne=5):\n",
    "#     return ((9*visc*0.25*Dc)/((densi_part-densi_gas)*(Q*(0.25*0.5*Dc))*2*pi*Ne))**(1/2)"
   ]
  },
  {
   "cell_type": "code",
   "execution_count": 5,
   "metadata": {},
   "outputs": [],
   "source": [
    "d_sauter = 3586.68*10**-4 # está em cm\n",
    "d_med = d_sauter\n",
    "densi_gas = 1.116 / 1000 # está em g/cm³\n",
    "densi_part = 1217 / 1000 #Real # está em g/cm³\n",
    "densi_part_apa = 557.10 / 1000 # está em g/cm³\n",
    "densi_h2o = 1000 / 1000 # está em g/cm³\n",
    "g = 9.81 *100 #cm/s² \n",
    "visc = 18*(10**-6)*10 # g/cm.s\n",
    "D_c = 0.25 *100 # para cm\n",
    "A_sec = (pi*D_c**2)/4\n",
    "Ne = 5\n",
    "Q = A_sec*u"
   ]
  },
  {
   "cell_type": "raw",
   "metadata": {},
   "source": [
    "##### Ynae\n",
    "d_sauter = 275*10**-4\n",
    "d_med = d_sauter\n",
    "densi_gas = 1.01 / 1000 # está em g/cm³              \n",
    "temp = 75              \n",
    "densi_part = 1250.20 / 1000 # está em g/cm³               \n",
    "g = 9.81 *100              \n",
    "visc = (20.7*10**-6) *10\n",
    "D_c = 0.14 *100\n",
    "A_sec = (pi*D_c**2)/4\n",
    "esf = 0.54  \n",
    "u =  17 * 100\n",
    "u             "
   ]
  },
  {
   "cell_type": "code",
   "execution_count": 6,
   "metadata": {},
   "outputs": [
    {
     "data": {
      "text/plain": [
       "0.358668"
      ]
     },
     "execution_count": 6,
     "metadata": {},
     "output_type": "execute_result"
    }
   ],
   "source": [
    "d_med"
   ]
  },
  {
   "cell_type": "raw",
   "metadata": {},
   "source": [
    "b =((dpc**2)*2*pi*Ne*u*(densi_part-densi_gas)/(9*visc))\n",
    "b "
   ]
  },
  {
   "cell_type": "markdown",
   "metadata": {},
   "source": [
    "$d_{pc} = \\sqrt{\\frac{9\\mu 0.25D_c}{(\\rho_{part} - \\rho_{gas})u2\\pi N_e}}$\n",
    "\n",
    "$D_c = \\bigg(\\frac{d_{pc}^2 Q (\\rho_{part} - \\rho_{gas})}{\\mu 0.095^2}\\bigg)^{\\frac{1}{3}}$"
   ]
  },
  {
   "cell_type": "code",
   "execution_count": 7,
   "metadata": {},
   "outputs": [],
   "source": [
    "def _Dc(dpc, Q, densi_part, densi_gas, visc):\n",
    "    return (((dpc**2)*Q*(densi_part - densi_gas))/(visc*0.095**2))**(1/3)\n",
    "\n",
    "# def _dpc(Dc, densi_part, densi_gas, u, Ne=5):\n",
    "#     return ((9*visc*0.25*Dc)/((densi_part-densi_gas)*u*2*pi*Ne))**(1/2)\n",
    "def _dpc_lapple(Dc, Q, densi_part, densi_gas, visc):\n",
    "    return Dc*0.095*((visc*Dc)/(Q*(densi_part - densi_gas)))**(1/2)\n",
    "\n",
    "def _n(d_p, dpc):\n",
    "    return (1+ (1.25/((d_p/100)/dpc))**2.64)**(-2/3)\n",
    "\n",
    "def _dpc(Dc, densi_part, densi_gas, Q, Ne=5):\n",
    "    Vc = Q/(0.25*0.5*Dc**2)\n",
    "    return ((9*visc*0.25*Dc)/((densi_part-densi_gas)*Vc*2*pi*Ne))**(1/2), Vc"
   ]
  },
  {
   "cell_type": "code",
   "execution_count": 17,
   "metadata": {},
   "outputs": [],
   "source": [
    "def calc_dpc(D_c, densi_part, densi_gas, u, A_sec, visc, d_med):\n",
    "    i =0\n",
    "    Dc = D_c\n",
    "    \n",
    "    while True and i < 100:\n",
    "        i+=1\n",
    "        dpc, Vc = _dpc(Dc, densi_part, densi_gas, A_sec*u, Ne=5)\n",
    "        Dc = _Dc(dpc, A_sec*u, densi_part, densi_gas, visc)\n",
    "        n = _n(d_med, dpc)\n",
    "        if i > 1:\n",
    "            erro = abs(dpc - dpc_ant)/dpc\n",
    "            if erro <= 1e-4:\n",
    "                break\n",
    "        dpc_ant = dpc\n",
    "    print(Dc, dpc,n, Vc, i)\n",
    "    return dpc, Dc, n"
   ]
  },
  {
   "cell_type": "markdown",
   "metadata": {},
   "source": [
    "# Passo 1 - distribuição"
   ]
  },
  {
   "cell_type": "code",
   "execution_count": 18,
   "metadata": {
    "jupyter": {
     "source_hidden": true
    }
   },
   "outputs": [],
   "source": [
    "d_p = np.array([6680,\n",
    "                4699,\n",
    "                3327,\n",
    "                2362,\n",
    "                1651,\n",
    "                1168,\n",
    "                833,\n",
    "                589,\n",
    "                0])\n",
    "\n",
    "x_i = np.array([0.,\n",
    "                0.2597611,\n",
    "                0.4556962,\n",
    "                0.19433054,\n",
    "                0.06400428,\n",
    "                0.01800677,\n",
    "                0.00410055,\n",
    "                0.00178285,\n",
    "                0.])"
   ]
  },
  {
   "cell_type": "markdown",
   "metadata": {},
   "source": [
    "# Passo 2 - Cálculo do d* (diâmetro de corte)"
   ]
  },
  {
   "cell_type": "markdown",
   "metadata": {},
   "source": [
    "![rrb_n](rrb_n.png)"
   ]
  },
  {
   "cell_type": "code",
   "execution_count": 19,
   "metadata": {},
   "outputs": [
    {
     "data": {
      "text/plain": [
       "1347.608695652174"
      ]
     },
     "execution_count": 19,
     "metadata": {},
     "output_type": "execute_result"
    }
   ],
   "source": [
    "# tomando eficiencia como = 0.8\n",
    "# meu n = 3.975\n",
    "d_linha = 3099.5 * 10**-4\n",
    "dpc = d_linha/2.3\n",
    "dpc*10**4"
   ]
  },
  {
   "cell_type": "code",
   "execution_count": 20,
   "metadata": {},
   "outputs": [
    {
     "name": "stdout",
     "output_type": "stream",
     "text": [
      "dc\t\t\t dpc\t\t\tn\n",
      "19.1038809735224 0.00023251859168468028 0.999124340383754 3756.5348903620647 100\n",
      "CPU times: user 6.26 ms, sys: 3.87 ms, total: 10.1 ms\n",
      "Wall time: 8.56 ms\n"
     ]
    },
    {
     "data": {
      "text/plain": [
       "2.3251859168468028"
      ]
     },
     "execution_count": 20,
     "metadata": {},
     "output_type": "execute_result"
    }
   ],
   "source": [
    "%%time\n",
    "print('dc\\t\\t\\t dpc\\t\\t\\tn')\n",
    "dpc, _, n = calc_dpc(D_c, densi_part, densi_gas, u, A_sec, visc, d_med) # Fiz um recursão, mas nao sei se isso é verdadeiro\n",
    "dpc*10**4"
   ]
  },
  {
   "cell_type": "code",
   "execution_count": null,
   "metadata": {},
   "outputs": [
    {
     "name": "stdout",
     "output_type": "stream",
     "text": [
      "--Call--\n",
      "> /home/levandoski/anaconda3/lib/python3.7/site-packages/IPython/core/displayhook.py(252)__call__()\n",
      "-> def __call__(self, result=None):\n",
      "--KeyboardInterrupt--\n"
     ]
    }
   ],
   "source": [
    "breakpoint()"
   ]
  },
  {
   "cell_type": "code",
   "execution_count": null,
   "metadata": {},
   "outputs": [],
   "source": [
    "aaaa"
   ]
  },
  {
   "cell_type": "code",
   "execution_count": null,
   "metadata": {},
   "outputs": [],
   "source": [
    "import matplotlib.pyplot as plt\n",
    "for d_pi in d_p[0:-1]:\n",
    "    d_med = d_pi*10**-4\n",
    "    try:\n",
    "        n = _n(d_med, dpc)\n",
    "        plt.scatter(d_med*10**4, n, color='r')\n",
    "#         plt.scatter(d_med*10**4, dpc, color='r')\n",
    "    except:\n",
    "        pass\n",
    "plt.show()"
   ]
  },
  {
   "cell_type": "markdown",
   "metadata": {},
   "source": [
    "### maior diâmetro: 6680 $\\mu m$ ou 0.6680 $c m$\n",
    "### menor diâmetro: 589 $\\mu m$ ou 0.0589 $c m$"
   ]
  },
  {
   "cell_type": "markdown",
   "metadata": {},
   "source": [
    "# Passo 3 - Cálculo do parâmetro b do ciclone"
   ]
  },
  {
   "cell_type": "code",
   "execution_count": null,
   "metadata": {},
   "outputs": [],
   "source": [
    "b =((dpc**2)*2*pi*Ne*u*(densi_part-densi_gas)/(9*visc))\n",
    "b "
   ]
  },
  {
   "cell_type": "markdown",
   "metadata": {},
   "source": [
    "# Passo 4 - Cálculo do diâmetro da base"
   ]
  },
  {
   "cell_type": "code",
   "execution_count": null,
   "metadata": {},
   "outputs": [],
   "source": [
    "Dc = 4*b\n",
    "Dc"
   ]
  },
  {
   "cell_type": "code",
   "execution_count": null,
   "metadata": {},
   "outputs": [],
   "source": [
    "a = Dc/2\n",
    "a"
   ]
  },
  {
   "cell_type": "code",
   "execution_count": null,
   "metadata": {},
   "outputs": [],
   "source": [
    "D_c"
   ]
  },
  {
   "cell_type": "markdown",
   "metadata": {},
   "source": [
    "# Passo 5 - Cálculo do número de ciclones (Paralelos)"
   ]
  },
  {
   "cell_type": "code",
   "execution_count": null,
   "metadata": {},
   "outputs": [],
   "source": [
    "N = Q/(u*a*b)\n",
    "N"
   ]
  },
  {
   "cell_type": "markdown",
   "metadata": {},
   "source": [
    "# Passo 6 - Cálculo da perda de carga"
   ]
  },
  {
   "cell_type": "code",
   "execution_count": null,
   "metadata": {},
   "outputs": [],
   "source": [
    "N = ceil(N)\n",
    "N"
   ]
  },
  {
   "cell_type": "code",
   "execution_count": null,
   "metadata": {},
   "outputs": [],
   "source": [
    "Q_1 = Q/N\n",
    "Q_1"
   ]
  },
  {
   "cell_type": "code",
   "execution_count": null,
   "metadata": {},
   "outputs": [],
   "source": [
    "Dc_1 = ((dpc**2)*Q_1*(densi_part-densi_gas)/(visc*(0.095**2)))**(1/3)\n",
    "Dc_1"
   ]
  },
  {
   "cell_type": "code",
   "execution_count": null,
   "metadata": {},
   "outputs": [],
   "source": [
    "u_1 = Q_1/(a*b)\n",
    "u_1"
   ]
  },
  {
   "cell_type": "code",
   "execution_count": null,
   "metadata": {},
   "outputs": [],
   "source": [
    "hl = (N*(u**2)/(2*g))*(densi_part/densi_h2o)*10\n",
    "hl"
   ]
  },
  {
   "cell_type": "markdown",
   "metadata": {},
   "source": [
    "# Passo 7 - Cálculo da potência"
   ]
  },
  {
   "cell_type": "code",
   "execution_count": null,
   "metadata": {},
   "outputs": [],
   "source": [
    "E = 0.5\n",
    "P = (Q_1/10**6)*hl*10/(75*E)\n",
    "P "
   ]
  },
  {
   "cell_type": "markdown",
   "metadata": {},
   "source": [
    "# Seguindo a Ynae"
   ]
  },
  {
   "cell_type": "markdown",
   "metadata": {},
   "source": [
    "chutar o Dc                   \n",
    "chuta a velocidade u              \n",
    "usa pra calcular a perda de carga hl             "
   ]
  },
  {
   "cell_type": "code",
   "execution_count": null,
   "metadata": {},
   "outputs": [],
   "source": [
    "Dc = D_c\n",
    "u = 17* 100\n",
    "a = 0.5*Dc\n",
    "b = 0.25*Dc\n",
    "Q = u*(a*b)\n",
    "Q"
   ]
  },
  {
   "cell_type": "code",
   "execution_count": null,
   "metadata": {},
   "outputs": [],
   "source": [
    "dpc = _dpc_lapple(Dc, Q, densi_part, densi_gas, visc)"
   ]
  },
  {
   "cell_type": "code",
   "execution_count": null,
   "metadata": {},
   "outputs": [],
   "source": [
    "dpc*10**4"
   ]
  },
  {
   "cell_type": "code",
   "execution_count": null,
   "metadata": {},
   "outputs": [],
   "source": [
    "_n(d_med, dpc)"
   ]
  },
  {
   "cell_type": "code",
   "execution_count": null,
   "metadata": {},
   "outputs": [],
   "source": [
    "d_med"
   ]
  },
  {
   "cell_type": "code",
   "execution_count": null,
   "metadata": {},
   "outputs": [],
   "source": []
  },
  {
   "cell_type": "markdown",
   "metadata": {},
   "source": [
    "# Passo 5 - Cálculo do número de ciclones (Paralelos)"
   ]
  },
  {
   "cell_type": "code",
   "execution_count": null,
   "metadata": {},
   "outputs": [],
   "source": [
    "N = Q/(u*a*b)\n",
    "N"
   ]
  },
  {
   "cell_type": "markdown",
   "metadata": {},
   "source": [
    "# Passo 6 - Cálculo da perda de carga"
   ]
  },
  {
   "cell_type": "code",
   "execution_count": null,
   "metadata": {},
   "outputs": [],
   "source": [
    "N = ceil(N)\n",
    "N"
   ]
  },
  {
   "cell_type": "code",
   "execution_count": null,
   "metadata": {},
   "outputs": [],
   "source": [
    "Q_1 = Q/N\n",
    "Q_1"
   ]
  },
  {
   "cell_type": "code",
   "execution_count": null,
   "metadata": {},
   "outputs": [],
   "source": [
    "Dc_1 = ((dpc**2)*Q_1*(densi_part-densi_gas)/(visc*(0.095**2)))**(1/3)\n",
    "Dc_1"
   ]
  },
  {
   "cell_type": "code",
   "execution_count": null,
   "metadata": {},
   "outputs": [],
   "source": [
    "u_1 = Q_1/(a*b)\n",
    "u_1"
   ]
  },
  {
   "cell_type": "code",
   "execution_count": null,
   "metadata": {},
   "outputs": [],
   "source": [
    "hl = (N*(u**2)/(2*g))*(densi_part/densi_h2o)\n",
    "hl"
   ]
  },
  {
   "cell_type": "markdown",
   "metadata": {},
   "source": [
    "# Passo 7 - Cálculo da potência"
   ]
  },
  {
   "cell_type": "code",
   "execution_count": null,
   "metadata": {},
   "outputs": [],
   "source": [
    "E = 0.5\n",
    "P = (Q_1/10**6)*hl*10/(75*E)\n",
    "P "
   ]
  },
  {
   "cell_type": "code",
   "execution_count": null,
   "metadata": {},
   "outputs": [],
   "source": [
    "q = m³/s\n",
    "p = mm de h20\n"
   ]
  },
  {
   "cell_type": "markdown",
   "metadata": {},
   "source": [
    "O DIÂMETRO DE CORTE (D’) (cm) PODE SER CALCULADO PELA EXPRESSÃO\n",
    "DE ROSIN, RAMMLER E INTELMANN:\n",
    "D’ = {(9.μ.B)/[6,2832.N.v.(ρ S – ρ F )]} ^1/2\n",
    "B = largura do duto de entrada do ciclone (cm)\n",
    "μ = viscosidade do gás (poise)\n",
    "N = n° de voltas feitas pelo gás no interior do ciclone (iguais a 5 para os\n",
    "ciclones de proporções já apresentadas).\n",
    "v = velocidade de entrada do gás no ciclone (cm/s) baseada na área BH\n",
    "(recomenda-se adotar 15 m/s).\n",
    "ρ S = massa específica das partículas sólidas (g/cm3)\n",
    "ρ F = massa específica do gás (g/cm3)"
   ]
  },
  {
   "cell_type": "markdown",
   "metadata": {},
   "source": [
    "O DIÂMETRO DA MENOR PARTÍCULA QUE É COMPLETAMENTE COLETADA\n",
    "PELO CICLONE É CALCULADO PELA SEGUINTE EXPRESSÃO:\n",
    "D’min = {(9.μ.B)/[3,1416.N.v.(ρ S – ρ F )]} ^1/2\n",
    "ONDE SE OBSERVA QUE: D’min = D’/(2) ^1/2"
   ]
  },
  {
   "cell_type": "markdown",
   "metadata": {},
   "source": [
    "O DIÂMETRO DA MENOR PARTÍCULA QUE É COMPLETAMENTE COLETADA\n",
    "PELO CICLONE É CALCULADO PELA SEGUINTE EXPRESSÃO:\n",
    "D’min = {(9.μ.B)/[3,1416.N.v.(ρ S – ρ F )]} 1/2\n",
    "ONDE SE OBSERVA QUE: D’min = D’/(2) 1/2"
   ]
  },
  {
   "cell_type": "markdown",
   "metadata": {},
   "source": [
    "AS EQUAÇÕES SERVEM PARA DIMENSIONAR OS CICLONES. COM\n",
    "B = Dc/4 E N=5,\n",
    "UTILIZANDO v EM (m/s) PARA VALORES ESCOLHIDOS ENTRE 6 E 20 m/s, μ\n",
    "EM (cP), ρ S e ρ F EM (g/cm3), D’ EM (microns), RESULTARÁ EM Dc =\n",
    "diâmetro da parte cilíndrica do ciclone (cm):\n",
    "Dc = (1,396/1000) x [v.( ρ S - ρ F ).(D’)2]/ μ\n",
    "A ALTURA (H) DO DUTO DE ENTRADA É CALCULADA A PARTIR DA\n",
    "VELOCIDADE E DA VAZÃO DE PROJETO Q (m3/s)\n",
    "H = (Q)/(B.v)\n",
    "SE H RESULTAR MUITO DIFERENTE DE Dc/2 RECOMENDA-SE REPROJETAR\n",
    "OU UTILIZAR CICLONES EM PARALELO."
   ]
  },
  {
   "cell_type": "markdown",
   "metadata": {},
   "source": [
    "# Seguindo as recomendações do professor da FURG"
   ]
  },
  {
   "cell_type": "markdown",
   "metadata": {},
   "source": [
    "## Passos (TUDO SI)\n",
    "### Parte 1 - Encontrar o $D_c$\n",
    "\n",
    " 1. Conhecer as propriedades e qual distribuição granulométrica a amostra segue;\n",
    " 1. Saber qual tipo de ciclone será utilizado;\n",
    " 1. Sabendo a vazão, temos que supor uma velocidade de entrada entre $5 < v_e (m/s) < 20$ no caso do Lapple;\n",
    " 1. Supor uma eficiência normalmente de 80 %;\n",
    " 1. Usar o gráfico condizente com com a distribuição escolhida para encontrar o diâmetro de corte;\n",
    " 1. Usando a Eq de projeto, encontramos $D_c$;\n",
    "     - $D_c = \\bigg(\\frac{d_{pc}^2 Q (\\rho_{part} - \\rho_{gas})}{\\mu 0.095^2}\\bigg)^{\\frac{1}{3}}$;\n",
    "     - $Q = v_e A_e$\n",
    "     - $A_e = (0.5)(0.25)D_c^2$;\n",
    "     - Como não sabemos a vazão de cada ciclone, subistituímos ela pela velocidade suposta;\n",
    "     - A área de entrada pode ser escrita em função de $D_c$;\n",
    "     - Recomendo usar uma função encontrar zeros aqui, pois é chato isolar o $D_c$;\n",
    " 1. Calcular o $D_c$.\n",
    " \n",
    "### Parte 2 - Encontrar o número de ciclones\n",
    "\n",
    " 1. Com a velocidade e o $D_c$ podemos encontrar a vazão de cada ciclone;\n",
    " 1. O N será a divisão da vazão total pela vazão individual;\n",
    "    - $N = \\frac{Q_t}{Q}$;\n",
    " 1. Após isso arredondar para mais ou para menos o número de ciclones;\n",
    " 1. Calcular a nova vazão;\n",
    "    - $Q = \\frac{Q_t}{N}$;\n",
    " 1. Usando a Eq de projeto calcular o novo diâmetro;\n",
    "     - Mantendo o mesmo $d_{pc}$;\n",
    "     - $D_c = \\bigg(\\frac{d_{pc}^2 Q (\\rho_{part} - \\rho_{gas})}{\\mu 0.095^2}\\bigg)^{\\frac{1}{3}}$;\n",
    " 1. Calcular a nova $v_e$;\n",
    "     - $v_e = \\frac{Q}{A_e}$;\n",
    "     - Ver se a $v_e$ está dentro do limite.\n",
    "\n",
    "### Parte 3 - Encontrar a perda de carga\n",
    "\n",
    " 1. Calcular a perda de carga (Pa);\n",
    "     - $\\beta = \\frac{\\Delta P}{\\rho_g \\frac{v_c^2}{v}}$\n",
    "     - $v_c = \\frac{Q_i}{\\frac{\\pi D_c^2}{4}}$\n",
    "     - $\\beta = 315$ - padrão Lapple\n",
    "\n",
    "### Parte 4 - Encontrar a potência do soprador\n",
    " 1. $Pot_p = Q_{total} \\frac{\\Delta P_1}{\\eta} (W)$"
   ]
  },
  {
   "cell_type": "markdown",
   "metadata": {},
   "source": []
  }
 ],
 "metadata": {
  "kernelspec": {
   "display_name": "Python 3",
   "language": "python",
   "name": "python3"
  },
  "language_info": {
   "codemirror_mode": {
    "name": "ipython",
    "version": 3
   },
   "file_extension": ".py",
   "mimetype": "text/x-python",
   "name": "python",
   "nbconvert_exporter": "python",
   "pygments_lexer": "ipython3",
   "version": "3.7.3"
  }
 },
 "nbformat": 4,
 "nbformat_minor": 4
}
