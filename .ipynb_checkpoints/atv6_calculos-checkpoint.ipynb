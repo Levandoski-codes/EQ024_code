{
 "cells": [
  {
   "cell_type": "markdown",
   "metadata": {},
   "source": [
    "# Atividade 6 EQ024: Tecnologia da Fluidização"
   ]
  },
  {
   "cell_type": "markdown",
   "metadata": {},
   "source": [
    "## Aluno: João Eduardo Levandoski"
   ]
  },
  {
   "cell_type": "markdown",
   "metadata": {},
   "source": [
    "**Equipamento:**\n",
    "\n",
    " - Diâmetro: 0.250 m\n",
    " - Altura: 0.800 m \n",
    " \n",
    " \n",
    "**Leito:**\n",
    "\n",
    " - Altura: 0.187 - 0.203 m\n",
    " "
   ]
  },
  {
   "cell_type": "code",
   "execution_count": 59,
   "metadata": {},
   "outputs": [],
   "source": [
    "d_sauter = 3586.68*10**-6\n",
    "densi_gas = 1.116\n",
    "densi_part = 1217 #Real\n",
    "densi_part_apa = 557.10\n",
    "g = 9.81\n",
    "visc = 18*10**-6"
   ]
  },
  {
   "cell_type": "code",
   "execution_count": 60,
   "metadata": {},
   "outputs": [],
   "source": [
    "# Porosidade minima\n",
    "# Tannous: 0.815396\n",
    "# Fatah: 0.586491\n",
    "# Broadhurst: 0.708473"
   ]
  },
  {
   "cell_type": "code",
   "execution_count": 61,
   "metadata": {},
   "outputs": [],
   "source": [
    "\n",
    "\n",
    "umf = 1.17\n",
    "u = 3*umf\n",
    "D_c = 0.25"
   ]
  },
  {
   "cell_type": "code",
   "execution_count": 62,
   "metadata": {},
   "outputs": [
    {
     "data": {
      "text/plain": [
       "0.22938999999999998"
      ]
     },
     "execution_count": 62,
     "metadata": {},
     "output_type": "execute_result"
    }
   ],
   "source": [
    "L_u = 1.13*0.203\n",
    "L_u"
   ]
  },
  {
   "cell_type": "code",
   "execution_count": 63,
   "metadata": {},
   "outputs": [
    {
     "data": {
      "text/plain": [
       "4.629759295877414"
      ]
     },
     "execution_count": 63,
     "metadata": {},
     "output_type": "execute_result"
    }
   ],
   "source": [
    "pi = 3.14\n",
    "massa = (pi*D_c**2)*L_u*densi_part_apa*(1-0.815396)\n",
    "# massa = 5679*10**-3\n",
    "massa"
   ]
  },
  {
   "cell_type": "code",
   "execution_count": 64,
   "metadata": {},
   "outputs": [],
   "source": [
    "def pinto(dp, d_gas, ms, u):\n",
    "    Re_p = ((dp*u*d_gas)/(visc))\n",
    "    return 0.1124*(dp**-0.0452)*((ms/d_gas)**1.1293)*((1/Re_p)**-0.0451)"
   ]
  },
  {
   "cell_type": "code",
   "execution_count": 65,
   "metadata": {},
   "outputs": [],
   "source": [
    "def cipolato(ms):\n",
    "    x2 = (ms-1.5)/0.5\n",
    "    return 0.258 + 0.082*x2\n",
    "    "
   ]
  },
  {
   "cell_type": "code",
   "execution_count": 66,
   "metadata": {},
   "outputs": [],
   "source": [
    "def baron(U, umf, g, dc,h):\n",
    "    db = dc\n",
    "    db = (0.853*((1+0.272*(u - umf)*(10**2))**(1/3))*((1+0.0684*h*(10**2))**1.21))*(10**-2)\n",
    "    Ub = (U - umf) + 0.35*((g*db)**0.5)\n",
    "#     K = 2.1 #(regime de bolhas)\n",
    "    K = 6.5 #(regime slugging)\n",
    "    return ((K*Ub)**2)/(2*g)"
   ]
  },
  {
   "cell_type": "code",
   "execution_count": 67,
   "metadata": {},
   "outputs": [],
   "source": [
    "def hambullahpu(dc, u, umf, h):\n",
    "    db = dc*0.7\n",
    "    db = (0.853*((1+0.272*(u - umf)*(10**2))**(1/3))*((1+0.0684*h*(10**2))**1.21))*(10**-2)\n",
    "    return 11.6*db"
   ]
  },
  {
   "cell_type": "code",
   "execution_count": 68,
   "metadata": {},
   "outputs": [],
   "source": [
    "def sciazko(U, Umf, dc=0, h=0):\n",
    "    Dbe = dc\n",
    "    Dbe = (0.853*((1+0.272*(U - Umf)*(10**2))**(1/3))*((1+0.0684*h*(10**2))**1.21))*(10**-2)\n",
    "    return 1.5*(Dbe**0.5)\n",
    "#     return 1.215 + 1.421*(U-Umf)"
   ]
  },
  {
   "cell_type": "code",
   "execution_count": 69,
   "metadata": {},
   "outputs": [
    {
     "name": "stdout",
     "output_type": "stream",
     "text": [
      "U = 3.51 m/s\n",
      "Baron: 15.686\n",
      "Hambullahpu: 1.2438\n",
      "Cipolato: 0.77128\n",
      "Sciazko: 0.72056\n",
      "Pinto: 0.97494\n"
     ]
    }
   ],
   "source": [
    "u = 3*umf\n",
    "print(f\"\"\"U = {u} m/s\n",
    "Baron: {baron(u, umf, g, D_c, L_u):.5}\n",
    "Hambullahpu: {hambullahpu(D_c, u, umf, L_u):.5}\n",
    "Cipolato: {cipolato(massa):.5}\n",
    "Sciazko: {L_u + sciazko(u, umf, D_c, L_u):.5}\n",
    "Pinto: {pinto(densi_part, densi_gas, massa, u):.5}\"\"\")"
   ]
  },
  {
   "cell_type": "code",
   "execution_count": 70,
   "metadata": {},
   "outputs": [],
   "source": [
    "import matplotlib.pyplot as plt\n",
    "import numpy as np"
   ]
  },
  {
   "cell_type": "code",
   "execution_count": 81,
   "metadata": {},
   "outputs": [
    {
     "data": {
      "image/png": "[encoded data removed]",
      "text/plain": [
       "<Figure size 1008x504 with 1 Axes>"
      ]
     },
     "metadata": {
      "needs_background": "light"
     },
     "output_type": "display_data"
    }
   ],
   "source": [
    "\n",
    "baron_res = []\n",
    "hambullahpu_res = []\n",
    "sciazko_res = []\n",
    "pinto_res = []\n",
    "cipolato_res = []\n",
    "i = []\n",
    "for j in np.linspace(1,5, 100):\n",
    "    i.append(j)\n",
    "    u = j*umf\n",
    "    cipolato_res.append(cipolato(massa))\n",
    "    baron_res.append(baron(u, umf, g, D_c, L_u))\n",
    "    hambullahpu_res.append(hambullahpu(D_c, u, umf, L_u))\n",
    "    sciazko_res.append(L_u + sciazko(u, umf, D_c, L_u))\n",
    "    pinto_res.append(pinto(densi_part, densi_gas, massa, u))\n",
    "\n",
    "fig = plt.figure(figsize=(14,7))\n",
    "plt.plot(i, cipolato_res, color='green', label='Cipolato')\n",
    "# plt.plot(i, baron_res, color='black', label='baron')\n",
    "plt.plot(i, hambullahpu_res, color='orange', label='hambullahpu')\n",
    "plt.plot(i, sciazko_res, color='blue', label='sciazko')\n",
    "plt.plot(i, pinto_res, color='red', label='pinto')\n",
    "plt.xlabel('N vezes $U_{mf}$: ' + f'{umf}')\n",
    "plt.ylabel('TDH')\n",
    "plt.axhline(y=1.5, color='black', linestyle='-.') # aumentei a coluna pra nao perder material\n",
    "plt.axhline(y=L_u, color='grey', linestyle='-.')\n",
    "plt.legend()\n",
    "plt.show()"
   ]
  },
  {
   "cell_type": "markdown",
   "metadata": {},
   "source": [
    "# K$_{is}$"
   ]
  },
  {
   "cell_type": "code",
   "execution_count": null,
   "metadata": {},
   "outputs": [],
   "source": []
  },
  {
   "cell_type": "code",
   "execution_count": 72,
   "metadata": {},
   "outputs": [],
   "source": [
    "def k_geldart(U, Uti, densi_gas):\n",
    "    return densi_gas*U*23.7*np.exp(-5.4*Uti/U)"
   ]
  },
  {
   "cell_type": "code",
   "execution_count": 73,
   "metadata": {},
   "outputs": [],
   "source": [
    "def k_zenz(Ug, dpi, densi_part, densi_gas, g=9.81):\n",
    "    A = (Ug**2)/(g*dpi*(densi_part**2))\n",
    "    \n",
    "    if A < 3*10**-4:\n",
    "        ki = densi_gas*Ug*(1.26*10**7)*(A**1.88)\n",
    "    else:\n",
    "        ki = densi_gas*Ug*(4.31*10**4)*(A**1.18)\n",
    "    return ki"
   ]
  },
  {
   "cell_type": "code",
   "execution_count": 74,
   "metadata": {},
   "outputs": [],
   "source": [
    "def wen_chen(U, Uti, d_i, densi_part, densi_gas, g, D_c):\n",
    "    \n",
    "    A = densi_gas*d_i*(U - Uti)/visc\n",
    "    \n",
    "    if A <= (2.38/D_c):\n",
    "        B = (D_c**2)*5.17*A**-1.5\n",
    "    else:\n",
    "        B = (D_c)*12.3*A**-2.5\n",
    "        \n",
    "    lamb = (B*d_i**2)/(densi_part*(visc/densi_gas)**2.5)\n",
    "    \n",
    "    Ei = (1+(lamb*(U-Uti)**2)/(2*g*D_c))**(-1/4.7)\n",
    "    \n",
    "    Ki = densi_part*(1-Ei)*(U-Uti)\n",
    "    \n",
    "    return Ki\n",
    "    \n",
    "    "
   ]
  },
  {
   "cell_type": "code",
   "execution_count": 75,
   "metadata": {},
   "outputs": [
    {
     "name": "stdout",
     "output_type": "stream",
     "text": [
      "5.331631741485245\n",
      "8.035280831279175\n",
      "11.313489736652908\n",
      "15.008878853901575\n"
     ]
    }
   ],
   "source": [
    "Uts = np.array([1.85717, 1.59055, 1.36815, 1.18443,])\n",
    "Diametros = np.array([4013.0, 2844.5, 2006.5, 1409.5, 1000.5])*10**-6\n",
    "Ug = 3*umf\n",
    "for uti in Uts:\n",
    "    print(k_geldart(Ug, uti,densi_gas))"
   ]
  },
  {
   "cell_type": "code",
   "execution_count": 76,
   "metadata": {},
   "outputs": [
    {
     "name": "stdout",
     "output_type": "stream",
     "text": [
      "4.013 6.083370757064524\n",
      "2.8445 11.6181008614151\n",
      "2.0065 17.621382127185665\n",
      "1.4095 26.73138051980027\n"
     ]
    }
   ],
   "source": [
    "for dpi in Diametros[:-1]:\n",
    "    print(dpi*1000, k_zenz(Ug, dpi, densi_part, densi_gas, g))"
   ]
  },
  {
   "cell_type": "code",
   "execution_count": 77,
   "metadata": {},
   "outputs": [
    {
     "name": "stdout",
     "output_type": "stream",
     "text": [
      "4.013 2.696662635708938\n",
      "2.8445 3.45035111517514\n",
      "2.0065 4.337314159748287\n",
      "1.4095 5.388652367119779\n"
     ]
    }
   ],
   "source": [
    "for i in range(len(Uts)):\n",
    "    Uti = Uts[i]\n",
    "    d_i = Diametros[i]\n",
    "    print(d_i*1000, wen_chen(Ug, Uti, d_i, densi_part, densi_gas, g, D_c))"
   ]
  },
  {
   "cell_type": "code",
   "execution_count": null,
   "metadata": {},
   "outputs": [],
   "source": []
  }
 ],
 "metadata": {
  "kernelspec": {
   "display_name": "Python 3",
   "language": "python",
   "name": "python3"
  },
  "language_info": {
   "codemirror_mode": {
    "name": "ipython",
    "version": 3
   },
   "file_extension": ".py",
   "mimetype": "text/x-python",
   "name": "python",
   "nbconvert_exporter": "python",
   "pygments_lexer": "ipython3",
   "version": "3.7.3"
  }
 },
 "nbformat": 4,
 "nbformat_minor": 4
}
