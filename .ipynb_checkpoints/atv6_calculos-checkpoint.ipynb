{
 "cells": [
  {
   "cell_type": "markdown",
   "metadata": {},
   "source": [
    "**Equipamento:**\n",
    "\n",
    " - Diâmetro: 0.250 m\n",
    " - Altura: 0.800 m \n",
    " \n",
    " \n",
    "**Leito:**\n",
    "\n",
    " - Altura: 0.187 - 0.203 m\n",
    " "
   ]
  },
  {
   "cell_type": "code",
   "execution_count": 1,
   "metadata": {},
   "outputs": [],
   "source": [
    "d_sauter = 3586.68*10**-6\n",
    "densi_gas = 1.116\n",
    "densi_part = 1217 #Real\n",
    "g = 9.81\n",
    "visc = 18*10**-6"
   ]
  },
  {
   "cell_type": "code",
   "execution_count": 2,
   "metadata": {},
   "outputs": [],
   "source": [
    "massa = 5679*10**-3\n",
    "\n",
    "umf = 1.17\n",
    "u = 3*umf\n",
    "D_c = 0.25"
   ]
  },
  {
   "cell_type": "code",
   "execution_count": 3,
   "metadata": {},
   "outputs": [
    {
     "data": {
      "text/plain": [
       "0.22938999999999998"
      ]
     },
     "execution_count": 3,
     "metadata": {},
     "output_type": "execute_result"
    }
   ],
   "source": [
    "Lmf = 1.13*0.203\n",
    "Lmf"
   ]
  },
  {
   "cell_type": "code",
   "execution_count": 4,
   "metadata": {},
   "outputs": [],
   "source": [
    "def pinto(dp, d_gas, ms, u):\n",
    "    Re_p = ((dp*u*d_gas)/(visc))\n",
    "    return 0.1124*(dp**-0.0452)*((ms/d_gas)**1.1293)*((1/Re_p)**-0.0451)"
   ]
  },
  {
   "cell_type": "code",
   "execution_count": 5,
   "metadata": {},
   "outputs": [],
   "source": [
    "def cipolato(ms):\n",
    "    x2 = (ms-1.5)/0.5\n",
    "    return 0.258 + 0.082*x2\n",
    "    "
   ]
  },
  {
   "cell_type": "code",
   "execution_count": 6,
   "metadata": {},
   "outputs": [],
   "source": [
    "def baron(U, umf, g, dc,h):\n",
    "    db = dc\n",
    "    db = (0.853*((1+0.272*(u - umf)*(10**2))**(1/3))*((1+0.0684*h*(10**2))**1.21))*(10**-2)\n",
    "    Ub = (U - umf) + 0.35*((g*db)**0.5)\n",
    "#     K = 2.1 #(regime de bolhas)\n",
    "    K = 6.5 #(regime slugging)\n",
    "    return ((K*Ub)**2)/(2*g)"
   ]
  },
  {
   "cell_type": "code",
   "execution_count": 7,
   "metadata": {},
   "outputs": [],
   "source": [
    "def hambullahpu(dc, u, umf, h):\n",
    "    db = dc*0.7\n",
    "    db = (0.853*((1+0.272*(u - umf)*(10**2))**(1/3))*((1+0.0684*h*(10**2))**1.21))*(10**-2)\n",
    "    return 11.6*db"
   ]
  },
  {
   "cell_type": "code",
   "execution_count": 8,
   "metadata": {},
   "outputs": [],
   "source": [
    "def sciazko(U, Umf, dc=0, h=0):\n",
    "    Dbe = dc\n",
    "    Dbe = (0.853*((1+0.272*(U - Umf)*(10**2))**(1/3))*((1+0.0684*h*(10**2))**1.21))*(10**-2)\n",
    "    return 1.5*(Dbe**0.5)\n",
    "#     return 1.215 + 1.421*(U-Umf)"
   ]
  },
  {
   "cell_type": "code",
   "execution_count": 9,
   "metadata": {},
   "outputs": [
    {
     "name": "stdout",
     "output_type": "stream",
     "text": [
      "U = 3.51 m/s\n",
      "Baron: 15.686\n",
      "Hambullahpu: 1.2438\n",
      "Cipolato: 0.94336\n",
      "Sciazko: 0.72056\n",
      "Pinto: 1.2279\n"
     ]
    }
   ],
   "source": [
    "u = 3*umf\n",
    "print(f\"\"\"U = {u} m/s\n",
    "Baron: {baron(u, umf, g, D_c, Lmf):.5}\n",
    "Hambullahpu: {hambullahpu(D_c, u, umf, Lmf):.5}\n",
    "Cipolato: {cipolato(massa):.5}\n",
    "Sciazko: {Lmf + sciazko(u, umf, D_c, Lmf):.5}\n",
    "Pinto: {pinto(densi_part, densi_gas, massa, u):.5}\"\"\")"
   ]
  },
  {
   "cell_type": "code",
   "execution_count": 10,
   "metadata": {},
   "outputs": [],
   "source": [
    "import matplotlib.pyplot as plt\n",
    "import numpy as np"
   ]
  },
  {
   "cell_type": "code",
   "execution_count": 11,
   "metadata": {},
   "outputs": [
    {
     "data": {
      "image/png": "[encoded data removed]",
      "text/plain": [
       "<Figure size 1008x504 with 1 Axes>"
      ]
     },
     "metadata": {
      "needs_background": "light"
     },
     "output_type": "display_data"
    }
   ],
   "source": [
    "\n",
    "baron_res = []\n",
    "hambullahpu_res = []\n",
    "sciazko_res = []\n",
    "pinto_res = []\n",
    "cipolato_res = []\n",
    "i = []\n",
    "for j in np.linspace(1,5, 100):\n",
    "    i.append(j)\n",
    "    u = j*umf\n",
    "    cipolato_res.append(cipolato(massa))\n",
    "    baron_res.append(baron(u, umf, g, D_c, Lmf))\n",
    "    hambullahpu_res.append(hambullahpu(D_c, u, umf, Lmf))\n",
    "    sciazko_res.append(Lmf + sciazko(u, umf, D_c, Lmf))\n",
    "    pinto_res.append(pinto(densi_part, densi_gas, massa, u))\n",
    "\n",
    "fig = plt.figure(figsize=(14,7))\n",
    "plt.plot(i, cipolato_res, color='green', label='Cipolato')\n",
    "# plt.plot(i, baron_res, color='black', label='baron')\n",
    "plt.plot(i, hambullahpu_res, color='orange', label='hambullahpu')\n",
    "plt.plot(i, sciazko_res, color='blue', label='sciazko')\n",
    "plt.plot(i, pinto_res, color='red', label='pinto')\n",
    "plt.xlabel('N vezes $U_{mf}$: ' + f'{umf}')\n",
    "plt.ylabel('TDH')\n",
    "plt.axhline(y=1.5, color='black', linestyle='-.') # aumentei a coluna pra nao perder material\n",
    "plt.axhline(y=Lmf, color='grey', linestyle='-.')\n",
    "plt.legend()\n",
    "plt.show()"
   ]
  },
  {
   "cell_type": "markdown",
   "metadata": {},
   "source": [
    "# K$_{is}$"
   ]
  },
  {
   "cell_type": "code",
   "execution_count": null,
   "metadata": {},
   "outputs": [],
   "source": []
  },
  {
   "cell_type": "code",
   "execution_count": 12,
   "metadata": {},
   "outputs": [],
   "source": [
    "def k_geldart(U, Uti, densi_gas):\n",
    "    return densi_gas*U*23.7*np.exp(-5.4*Uti/U)"
   ]
  },
  {
   "cell_type": "code",
   "execution_count": 13,
   "metadata": {},
   "outputs": [],
   "source": [
    "def k_zenz(Ug, dpi, densi_part, densi_gas, g=9.81):\n",
    "    A = (Ug**2)/(g*dpi*(densi_part**2))\n",
    "    \n",
    "    if A < 3*10**-4:\n",
    "        ki = densi_gas*Ug*(1.26*10**7)*(A**1.88)\n",
    "    else:\n",
    "        ki = densi_gas*Ug*(4.31*10**4)*(A**1.18)\n",
    "    return ki"
   ]
  },
  {
   "cell_type": "code",
   "execution_count": 19,
   "metadata": {},
   "outputs": [],
   "source": [
    "def wen_chen(U, Uti, d_i, densi_part, densi_gas, g, D_c):\n",
    "    \n",
    "    A = densi_gas*d_i*(U - Uti)/visc\n",
    "    \n",
    "    if A <= (2.38/D_c):\n",
    "        B = (D_c**2)*5.17*A**-1.5\n",
    "    else:\n",
    "        B = (D_c)*12.3*A**-2.5\n",
    "        \n",
    "    lamb = (B*d_i**2)/(densi_part*(visc/densi_gas)**2.5)\n",
    "    \n",
    "    Ei = (1+(lamb*(U-Uti)**2)/(2*g*D_c))**(-1/4.7)\n",
    "    \n",
    "    Ki = densi_part*(1-Ei)*(U-Uti)\n",
    "    \n",
    "    return Ki\n",
    "    \n",
    "    "
   ]
  },
  {
   "cell_type": "code",
   "execution_count": 27,
   "metadata": {},
   "outputs": [
    {
     "name": "stdout",
     "output_type": "stream",
     "text": [
      "5.331631741485245\n",
      "8.035280831279175\n",
      "11.313489736652908\n",
      "15.008878853901575\n"
     ]
    }
   ],
   "source": [
    "Uts = np.array([1.85717, 1.59055, 1.36815, 1.18443,])\n",
    "Diametros = np.array([4013.0, 2844.5, 2006.5, 1409.5, 1000.5])*10**-6\n",
    "Ug = 3*umf\n",
    "for uti in Uts:\n",
    "    print(k_geldart(Ug, uti,densi_gas))"
   ]
  },
  {
   "cell_type": "code",
   "execution_count": 32,
   "metadata": {},
   "outputs": [
    {
     "name": "stdout",
     "output_type": "stream",
     "text": [
      "4.013 6.083370757064524\n",
      "2.8445 11.6181008614151\n",
      "2.0065 17.621382127185665\n",
      "1.4095 26.73138051980027\n"
     ]
    }
   ],
   "source": [
    "for dpi in Diametros[:-1]:\n",
    "    print(dpi*1000, k_zenz(Ug, dpi, densi_part, densi_gas, g))"
   ]
  },
  {
   "cell_type": "code",
   "execution_count": 31,
   "metadata": {},
   "outputs": [
    {
     "name": "stdout",
     "output_type": "stream",
     "text": [
      "4.013 2.696662635708938\n",
      "2.8445 3.45035111517514\n",
      "2.0065 4.337314159748287\n",
      "1.4095 5.388652367119779\n"
     ]
    }
   ],
   "source": [
    "for i in range(len(Uts)):\n",
    "    Uti = Uts[i]\n",
    "    d_i = Diametros[i]\n",
    "    print(d_i*1000, wen_chen(Ug, Uti, d_i, densi_part, densi_gas, g, D_c))"
   ]
  },
  {
   "cell_type": "code",
   "execution_count": 17,
   "metadata": {},
   "outputs": [],
   "source": [
    "# comentar possiveis quebras, porem nao é tao grande\n"
   ]
  },
  {
   "cell_type": "code",
   "execution_count": 18,
   "metadata": {},
   "outputs": [
    {
     "data": {
      "text/plain": [
       "(4,)"
      ]
     },
     "execution_count": 18,
     "metadata": {},
     "output_type": "execute_result"
    }
   ],
   "source": [
    "Diametros[:-1].shape"
   ]
  },
  {
   "cell_type": "code",
   "execution_count": null,
   "metadata": {},
   "outputs": [],
   "source": []
  },
  {
   "cell_type": "code",
   "execution_count": null,
   "metadata": {},
   "outputs": [],
   "source": []
  },
  {
   "cell_type": "raw",
   "metadata": {},
   "source": [
    "Diâmetro\tFração\t\tCumulativo\tRe\t\tUₘ (m/s)\tUt (m/s)\n",
    "  5689.5\t    50.0 %\t   100.0 %\t 545.162\t 1.54547\t 2.57151\n",
    "  4013.0\t  5.8119 %\t  50.009 %\t 313.048\t  1.2582\t 2.17738\n",
    "  2844.5\t  31.103 %\t  44.198 %\t 177.461\t 1.00625\t 1.85717\n",
    "  2006.5\t  11.624 %\t  13.101 %\t 96.3935\t0.774849\t 1.59055\n",
    "  1409.5\t  1.3561 %\t  1.4791 %\t 49.0981\t0.561833\t 1.36815\n",
    "  1000.5\t 0.10567 %\t 0.12326 %\t 23.5307\t0.379338\t 1.18443\n",
    "   711.0\t0.017612 %\t0.017609 %\t 10.2555\t0.232647\t 1.01703\n",
    "   294.5\t     0.0 %\t     0.0 %\t0.859185\t0.0470554\t0.552301"
   ]
  },
  {
   "cell_type": "code",
   "execution_count": null,
   "metadata": {},
   "outputs": [],
   "source": []
  }
 ],
 "metadata": {
  "kernelspec": {
   "display_name": "Python 3",
   "language": "python",
   "name": "python3"
  },
  "language_info": {
   "codemirror_mode": {
    "name": "ipython",
    "version": 3
   },
   "file_extension": ".py",
   "mimetype": "text/x-python",
   "name": "python",
   "nbconvert_exporter": "python",
   "pygments_lexer": "ipython3",
   "version": "3.7.3"
  }
 },
 "nbformat": 4,
 "nbformat_minor": 4
}
