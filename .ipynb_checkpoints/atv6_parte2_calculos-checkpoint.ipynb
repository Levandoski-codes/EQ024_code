{
 "cells": [
  {
   "cell_type": "markdown",
   "metadata": {},
   "source": [
    "# Atividade 6 parte 2 (Elutriação) EQ024: Tecnologia da Fluidização"
   ]
  },
  {
   "cell_type": "markdown",
   "metadata": {},
   "source": [
    "## Aluno: João Eduardo Levandoski"
   ]
  },
  {
   "cell_type": "code",
   "execution_count": 1,
   "metadata": {},
   "outputs": [],
   "source": [
    "import numpy as np"
   ]
  },
  {
   "cell_type": "markdown",
   "metadata": {},
   "source": [
    "# Dados e propriedades"
   ]
  },
  {
   "cell_type": "markdown",
   "metadata": {},
   "source": [
    "**Equipamento:**\n",
    "\n",
    " - Diâmetro: 0.250 m\n",
    " - Altura: 0.800 m **Porém será considerado 1.5 m** \n",
    " \n",
    " \n",
    "**Leito:**\n",
    "\n",
    " - Altura fixo: 0.203 m  "
   ]
  },
  {
   "cell_type": "code",
   "execution_count": 2,
   "metadata": {},
   "outputs": [],
   "source": [
    "umf = 1.17 # Tannous\n",
    "u = 3*umf\n",
    "# u = 2\n",
    "F = 0.5  ##################### Foi um chute"
   ]
  },
  {
   "cell_type": "code",
   "execution_count": 3,
   "metadata": {},
   "outputs": [],
   "source": [
    "L_mf = 0.203\n",
    "\n",
    "H = 1.15633 * L_mf"
   ]
  },
  {
   "cell_type": "code",
   "execution_count": 4,
   "metadata": {},
   "outputs": [],
   "source": [
    "d_sauter = 3586.68*10**-6\n",
    "densi_gas = 1.116\n",
    "densi_part = 1217 #Real\n",
    "densi_part_apa = 557.10\n",
    "g = 9.81\n",
    "visc = 18*10**-6\n",
    "D_c = 0.25\n",
    "A_sec = (3.14*D_c**2)/4"
   ]
  },
  {
   "cell_type": "code",
   "execution_count": 5,
   "metadata": {},
   "outputs": [],
   "source": [
    "d_p = np.array([6680,\n",
    "                4699,\n",
    "                3327,\n",
    "                2362,\n",
    "                1651,\n",
    "                1168,\n",
    "                833,\n",
    "                589,\n",
    "                0])\n",
    "d_med = np.array([5689.5,\n",
    "                  4013.0,\n",
    "                  2844.5,\n",
    "                  2006.5,\n",
    "                  1409.5,\n",
    "                  1000.5,\n",
    "                  711.0,\n",
    "                  294.5])\n",
    "x_i = np.array([0.,\n",
    "                0.2597611,\n",
    "                0.4556962,\n",
    "                0.19433054,\n",
    "                0.06400428,\n",
    "                0.01800677,\n",
    "                0.00410055,\n",
    "                0.00178285,\n",
    "                0.])\n",
    "x_imed = np.array([0.26041,\n",
    "                   0.45684,\n",
    "                   0.19482,\n",
    "                   0.064164,\n",
    "                   0.018052,\n",
    "                   0.0041108,\n",
    "                   0.0017873,\n",
    "                   0.])\n",
    "u_mf = np.array([1.54547,\n",
    "                 1.2582,\n",
    "                 1.00625,\n",
    "                 0.774849,\n",
    "                 0.561833,\n",
    "                 0.379338,\n",
    "                 0.232647,\n",
    "                 0.0470554])\n",
    "U_t = np.array([2.57151,\n",
    "                2.17738,\n",
    "                1.85717,\n",
    "                1.59055,\n",
    "                1.36815,\n",
    "                1.18443,\n",
    "                1.01703,\t\n",
    "                0.55230])"
   ]
  },
  {
   "cell_type": "code",
   "execution_count": 6,
   "metadata": {},
   "outputs": [],
   "source": [
    "def k_geldart(U, Uti, densi_gas):\n",
    "    return densi_gas*U*23.7*np.exp(-5.4*Uti/U)"
   ]
  },
  {
   "cell_type": "code",
   "execution_count": 7,
   "metadata": {},
   "outputs": [],
   "source": [
    "def k_zenz(Ug, dpi, densi_part, densi_gas, g=9.81):\n",
    "    A = (Ug**2)/(g*dpi*(densi_part**2))\n",
    "    \n",
    "    if A < 3*10**-4:\n",
    "        ki = densi_gas*Ug*(1.26*10**7)*(A**1.88)\n",
    "    else:\n",
    "        ki = densi_gas*Ug*(4.31*10**4)*(A**1.18)\n",
    "    return ki"
   ]
  },
  {
   "cell_type": "code",
   "execution_count": 8,
   "metadata": {},
   "outputs": [],
   "source": [
    "def wen_chen(U, Uti, d_i, densi_part, densi_gas, g, D_c):\n",
    "    \n",
    "    A = densi_gas*d_i*(U - Uti)/visc\n",
    "    \n",
    "    if A <= (2.38/D_c):\n",
    "        B = (D_c**2)*5.17*A**-1.5\n",
    "    else:\n",
    "        B = (D_c)*12.3*A**-2.5\n",
    "        \n",
    "    lamb = (B*d_i**2)/(densi_part*(visc/densi_gas)**2.5)\n",
    "    \n",
    "    Ei = (1+(lamb*(U-Uti)**2)/(2*g*D_c))**(-1/4.7)\n",
    "    \n",
    "    Ki = densi_part*(1-Ei)*(U-Uti)\n",
    "    \n",
    "    return Ki\n",
    "    \n",
    "    "
   ]
  },
  {
   "cell_type": "code",
   "execution_count": 9,
   "metadata": {},
   "outputs": [],
   "source": [
    "def calc_xbi(xfi, F, kih, A, Rt=0, err=0.01):\n",
    "    xbi = _xbi(xfi, F, kih, A, Rt)\n",
    "    i=0\n",
    "    while True and i < 100:\n",
    "               \n",
    "        xbi_ant = xbi\n",
    "        Rt = _Rt(kih, A, xbi)\n",
    "        xbi = _xbi(xfi, F, kih, A, Rt)\n",
    "        i+=1        \n",
    "        diff = abs((xbi-xbi_ant)/xbi)\n",
    "#         print(i, Rt, xbi, diff)\n",
    "        if diff <= err:\n",
    "            break\n",
    "    return xbi, Rt\n",
    "\n",
    "def calc_xBi(xfi, F, kih, A, n=1, Rt=0, err=0.01):\n",
    "    xBi = _xBi(xfi, F, kih, A, Rt)\n",
    "    i=0\n",
    "    while True and i < 100:\n",
    "               \n",
    "        xBi_ant = xBi\n",
    "        Rt = _Rt(kih, A, xBi)\n",
    "        xBi = _xBi(xfi, F, kih, A, Rt)\n",
    "        i+=1        \n",
    "        diff = abs((xBi-xBi_ant)/xBi)\n",
    "#         print(i, Rt, xBi, diff)\n",
    "        if diff <= err:\n",
    "            break\n",
    "    return xBi, Rt"
   ]
  },
  {
   "cell_type": "code",
   "execution_count": 10,
   "metadata": {},
   "outputs": [],
   "source": [
    "def _xbi(xfi, F, kih, A, Rt):\n",
    "    return xfi*F/(kih*A + F - Rt)\n",
    "\n",
    "def _xBi(xfi, F, kih, A, Rt, n=1):\n",
    "    return xfi*F/(kih*A + F +n*Rt-(1-n)*Rt)\n",
    "\n",
    "def _Rt(kih, A, xbi):\n",
    "    return kih*A*xbi\n",
    "\n",
    "def _Eih(kih, xbi):\n",
    "    return kih*xbi"
   ]
  },
  {
   "cell_type": "raw",
   "metadata": {},
   "source": [
    "TDH (F)\n",
    "U = 3.51 m/s\n",
    "Baron: 15.686\n",
    "Hambullahpu: 1.2438\n",
    "Cipolato: 0.77128\n",
    "Sciazko: 0.72056\n",
    "Pinto: 0.97494"
   ]
  },
  {
   "cell_type": "code",
   "execution_count": null,
   "metadata": {},
   "outputs": [],
   "source": []
  },
  {
   "cell_type": "code",
   "execution_count": null,
   "metadata": {},
   "outputs": [],
   "source": []
  },
  {
   "cell_type": "markdown",
   "metadata": {},
   "source": [
    "# Elutriação"
   ]
  },
  {
   "cell_type": "markdown",
   "metadata": {},
   "source": [
    "# Passo 1"
   ]
  },
  {
   "cell_type": "code",
   "execution_count": null,
   "metadata": {},
   "outputs": [],
   "source": []
  },
  {
   "cell_type": "code",
   "execution_count": null,
   "metadata": {},
   "outputs": [],
   "source": []
  },
  {
   "cell_type": "code",
   "execution_count": null,
   "metadata": {},
   "outputs": [],
   "source": []
  },
  {
   "cell_type": "code",
   "execution_count": null,
   "metadata": {},
   "outputs": [],
   "source": []
  },
  {
   "cell_type": "markdown",
   "metadata": {},
   "source": [
    "# Passo 2"
   ]
  },
  {
   "cell_type": "code",
   "execution_count": null,
   "metadata": {},
   "outputs": [],
   "source": []
  },
  {
   "cell_type": "code",
   "execution_count": null,
   "metadata": {},
   "outputs": [],
   "source": []
  },
  {
   "cell_type": "code",
   "execution_count": null,
   "metadata": {},
   "outputs": [],
   "source": []
  },
  {
   "cell_type": "code",
   "execution_count": null,
   "metadata": {},
   "outputs": [],
   "source": []
  },
  {
   "cell_type": "markdown",
   "metadata": {},
   "source": [
    "# Passo 3"
   ]
  },
  {
   "cell_type": "code",
   "execution_count": 11,
   "metadata": {},
   "outputs": [
    {
     "name": "stdout",
     "output_type": "stream",
     "text": [
      "      dpi  \tki_ge\t ki_zenz     ki_wen\t\tki_med\t     xbi\tRt\t\tEih\t   Eih*A\n",
      "    5689.5|    1.7765|    3.1559|    1.7058        |    2.2128|   0.22281|  0.024189        |   0.49303|  0.024189\n",
      "    4013.0|    3.2577|    6.0834|    2.4203        |    3.9205|   0.36743|  0.070674        |    1.4405|  0.070674\n",
      "    2844.5|    5.3316|    11.618|    3.2007        |    6.7168|   0.12348|  0.040693        |   0.82942|  0.040693\n",
      "    2006.5|    8.0353|    17.621|    4.1049        |    9.9205|  0.033053|  0.016087        |    0.3279|  0.016087\n",
      "    1409.5|    11.313|    26.731|    5.1702        |    14.405| 0.0075127| 0.0053096        |   0.10822| 0.0053096\n",
      "    1000.5|    15.009|    40.055|    6.3895        |    20.485| 0.0013669| 0.0013738        |  0.028001| 0.0013738\n",
      "     711.0|    19.418|    59.939|    7.8402        |    29.066|0.00046414|0.00066189        |  0.013491|0.00066189\n",
      "\n",
      "\n",
      "\n",
      "\n",
      "\n",
      "\n",
      "Eh:     3.2405 Rt:    0.15899 Eh*A/F (%):     31.798    Eh/U (%):    0.92323\n"
     ]
    }
   ],
   "source": [
    "k_gedart_res = []\n",
    "k_zenz_res = []\n",
    "k_wen_chen_res = []\n",
    "xbi_res = []\n",
    "Rt_res = []\n",
    "ki_med_res = []\n",
    "Eih_res = []\n",
    "xpi_res = []\n",
    "Rt = 0\n",
    "Eh = 0\n",
    "xp = 0\n",
    "i = []\n",
    "# print('len:', len(d_med))\n",
    "print(f'      dpi  \\tki_ge\\t ki_zenz     ki_wen\\t\\tki_med\\t     xbi\\tRt\\t\\tEih\\t   Eih*A')\n",
    "for j in range(len(d_med)-1):\n",
    "    i.append(j)\n",
    "    dpi = d_med[j]*10**-6\n",
    "    Uti = U_t[j]\n",
    "    xfi = x_imed[j]\n",
    "    \n",
    "    ki_ge = k_geldart(u, Uti, densi_gas)\n",
    "    ki_zenz = k_zenz(u, dpi, densi_part, densi_gas)\n",
    "    ki_wen = wen_chen(u, Uti, dpi, densi_part, densi_gas, g, D_c)\n",
    "    ki_med = (ki_ge+ki_zenz+ki_wen)/3\n",
    "    xbi, Rti = calc_xbi(xfi, F, kih=ki_med, A=A_sec, err=1e-5)\n",
    "    Eih = ki_med*xbi\n",
    "#     print(Eih, A_sec, Rt,'\\n\\n\\n\\n')\n",
    "    xpi = Eih*A_sec\n",
    "    init = 10\n",
    "    form = 5\n",
    "    print(f'{dpi*10**6:{init}.{form}}|{ki_ge:{init}.{form}}|{ki_zenz:{init}.{form}}|{ki_wen:{init}.{form}}\\\n",
    "        |{ki_med:{init}.{form}}|{xbi:{init}.{form}}|{Rti:{init}.{form}}\\\n",
    "        |{Eih:{init}.{form}}|{Eih*A_sec:{init}.{form}}')\n",
    "#     print(j, ki_ge, ki_zenz, ki_wen, ki_med, xbi, Rt, Eih)\n",
    "    \n",
    "    \n",
    "    \n",
    "    \n",
    "    Rt += Rti\n",
    "    Eh += Eih\n",
    "    xp += xpi\n",
    "    \n",
    "    k_gedart_res.append(ki_ge)\n",
    "    k_zenz_res.append(ki_zenz)\n",
    "    k_wen_chen_res.append(ki_wen)\n",
    "    ki_med_res.append(ki_med)\n",
    "    xbi_res.append(xbi)\n",
    "    Rt_res.append(Rt)\n",
    "    Eih_res.append(Eih)\n",
    "    xpi_res.append(xpi)\n",
    "print('\\n\\n\\n\\n\\n')\n",
    "print(f'Eh: {Eh:{init}.{form}} Rt: {Rt:{init}.{form}} Eh*A/F (%): {Eh*A_sec*100/F:{init}.{form}}\\\n",
    "    Eh/U (%): {Eh/u:{init}.{form}}')"
   ]
  },
  {
   "cell_type": "markdown",
   "metadata": {},
   "source": [
    "# Passo 4"
   ]
  },
  {
   "cell_type": "code",
   "execution_count": 12,
   "metadata": {},
   "outputs": [
    {
     "data": {
      "text/plain": [
       "0.1589886271519034"
      ]
     },
     "execution_count": 12,
     "metadata": {},
     "output_type": "execute_result"
    }
   ],
   "source": [
    "Rt"
   ]
  },
  {
   "cell_type": "code",
   "execution_count": 13,
   "metadata": {},
   "outputs": [
    {
     "data": {
      "text/plain": [
       "0.34101137284809657"
      ]
     },
     "execution_count": 13,
     "metadata": {},
     "output_type": "execute_result"
    }
   ],
   "source": [
    "Q = F - Rt\n",
    "Q"
   ]
  },
  {
   "cell_type": "code",
   "execution_count": 14,
   "metadata": {},
   "outputs": [
    {
     "data": {
      "text/plain": [
       "0.5"
      ]
     },
     "execution_count": 14,
     "metadata": {},
     "output_type": "execute_result"
    }
   ],
   "source": [
    "F"
   ]
  },
  {
   "cell_type": "code",
   "execution_count": 15,
   "metadata": {},
   "outputs": [
    {
     "name": "stdout",
     "output_type": "stream",
     "text": [
      "    dpi\t\t  xbi\t\t   xpi\t\t\txfi\n",
      "    5689.5\t|     0.223\t|    0.0242        |      0.16\n",
      "    4013.0\t|     0.367\t|    0.0707        |     0.273\n",
      "    2844.5\t|     0.123\t|    0.0407        |    0.0972\n",
      "    2006.5\t|    0.0331\t|    0.0161        |    0.0277\n",
      "    1409.5\t|   0.00751\t|   0.00531        |   0.00681\n",
      "    1000.5\t|   0.00137\t|   0.00137        |   0.00137\n",
      "     711.0\t|  0.000464\t|  0.000662        |  0.000527\n"
     ]
    }
   ],
   "source": [
    "xfi_res = []\n",
    "print(f'    dpi\\t\\t  xbi\\t\\t   xpi\\t\\t\\txfi')\n",
    "for i,_ in enumerate(xbi_res):\n",
    "    xbi = xbi_res[i]\n",
    "    xpi = xpi_res[i]\n",
    "    xfi = (xpi*Rt+xbi*Q)/F\n",
    "    xfi_res.append(xfi)\n",
    "    init = 10\n",
    "    form = 3\n",
    "    print(f'{d_med[i]:{init}.5}\\t|{xbi:{init}.{form}}\\t|{xpi:{init}.{form}}\\\n",
    "        |{xfi:{init}.{form}}')\n",
    "#     print(xbi, xpi, xfi)"
   ]
  },
  {
   "cell_type": "code",
   "execution_count": null,
   "metadata": {},
   "outputs": [],
   "source": []
  },
  {
   "cell_type": "markdown",
   "metadata": {},
   "source": [
    "# Passo 5 N = 1"
   ]
  },
  {
   "cell_type": "code",
   "execution_count": 16,
   "metadata": {},
   "outputs": [
    {
     "name": "stdout",
     "output_type": "stream",
     "text": [
      "      dpi  \tki_ge\t ki_zenz     ki_wen\t\tki_med\t     xBi\tRT\t\tEih\t   Eih*A\n",
      "    5689.5|    1.7765|    3.1559|    1.7058        |    2.2128|   0.20636|  0.022403        |   0.45662|  0.022403\n",
      "    4013.0|    3.2577|    6.0834|    2.4203        |    3.9205|   0.30421|  0.058515        |    1.1926|  0.058514\n",
      "    2844.5|    5.3316|    11.618|    3.2007        |    6.7168|   0.11241|  0.037043        |   0.75501|  0.037043\n",
      "    2006.5|    8.0353|    17.621|    4.1049        |    9.9205|  0.032008|  0.015579        |   0.31754|  0.015579\n",
      "    1409.5|    11.313|    26.731|    5.1702        |    14.405| 0.0074471| 0.0052632        |   0.10728| 0.0052632\n",
      "    1000.5|    15.009|    40.055|    6.3895        |    20.485| 0.0013644| 0.0013713        |   0.02795| 0.0013713\n",
      "     711.0|    19.418|    59.939|    7.8402        |    29.066|0.00046382|0.00066143        |  0.013481|0.00066143\n",
      "\n",
      "\n",
      "\n",
      "\n",
      "\n",
      "\n",
      "Eh:     2.8705 RT:    0.14084 Eh*A/F (%):     28.167    Eh/U (%):    0.81781\n"
     ]
    }
   ],
   "source": [
    "k_gedart_res = []\n",
    "k_zenz_res = []\n",
    "k_wen_chen_res = []\n",
    "xBi_res = []\n",
    "RT_res = []\n",
    "ki_med_res = []\n",
    "Eih_res = []\n",
    "xPi_res = []\n",
    "RT = 0\n",
    "Eh = 0\n",
    "xP = 0\n",
    "i = []\n",
    "# print('len:', len(d_med))\n",
    "print(f'      dpi  \\tki_ge\\t ki_zenz     ki_wen\\t\\tki_med\\t     xBi\\tRT\\t\\tEih\\t   Eih*A')\n",
    "for j in range(len(d_med)-1):\n",
    "    i.append(j)\n",
    "    dpi = d_med[j]*10**-6\n",
    "    Uti = U_t[j]\n",
    "    xFi = x_imed[j]\n",
    "    \n",
    "    ki_ge = k_geldart(u, Uti, densi_gas)\n",
    "    ki_zenz = k_zenz(u, dpi, densi_part, densi_gas)\n",
    "    ki_wen = wen_chen(u, Uti, dpi, densi_part, densi_gas, g, D_c)\n",
    "    ki_med = (ki_ge+ki_zenz+ki_wen)/3\n",
    "    xBi, RTi = calc_xBi(xFi, F, kih=ki_med, A=A_sec, err=1e-5)\n",
    "    Eih = ki_med*xBi\n",
    "#     print(Eih, A_sec, RT,'\\n\\n\\n\\n')\n",
    "    xPi = Eih*A_sec\n",
    "    init = 10\n",
    "    form = 5\n",
    "    print(f'{dpi*10**6:{init}.{form}}|{ki_ge:{init}.{form}}|{ki_zenz:{init}.{form}}|{ki_wen:{init}.{form}}\\\n",
    "        |{ki_med:{init}.{form}}|{xBi:{init}.{form}}|{RTi:{init}.{form}}\\\n",
    "        |{Eih:{init}.{form}}|{Eih*A_sec:{init}.{form}}')\n",
    "#     print(j, ki_ge, ki_zenz, ki_wen, ki_med, xBi, RT, Eih)\n",
    "    \n",
    "    \n",
    "    \n",
    "    \n",
    "    RT += RTi\n",
    "    Eh += Eih\n",
    "    xP += xPi\n",
    "    \n",
    "    k_gedart_res.append(ki_ge)\n",
    "    k_zenz_res.append(ki_zenz)\n",
    "    k_wen_chen_res.append(ki_wen)\n",
    "    ki_med_res.append(ki_med)\n",
    "    xBi_res.append(xBi)\n",
    "    RT_res.append(RT)\n",
    "    Eih_res.append(Eih)\n",
    "    xPi_res.append(xPi)\n",
    "print('\\n\\n\\n\\n\\n')\n",
    "print(f'Eh: {Eh:{init}.{form}} RT: {RT:{init}.{form}} Eh*A/F (%): {Eh*A_sec*100/F:{init}.{form}}\\\n",
    "    Eh/U (%): {Eh/u:{init}.{form}}')"
   ]
  },
  {
   "cell_type": "code",
   "execution_count": 17,
   "metadata": {},
   "outputs": [
    {
     "data": {
      "text/plain": [
       "0.14083548949707464"
      ]
     },
     "execution_count": 17,
     "metadata": {},
     "output_type": "execute_result"
    }
   ],
   "source": [
    "RT"
   ]
  },
  {
   "cell_type": "code",
   "execution_count": 18,
   "metadata": {},
   "outputs": [
    {
     "data": {
      "text/plain": [
       "0.35916451050292536"
      ]
     },
     "execution_count": 18,
     "metadata": {},
     "output_type": "execute_result"
    }
   ],
   "source": [
    "Q_1 = F - RT\n",
    "Q_1"
   ]
  },
  {
   "cell_type": "code",
   "execution_count": 19,
   "metadata": {},
   "outputs": [
    {
     "data": {
      "text/plain": [
       "0.5"
      ]
     },
     "execution_count": 19,
     "metadata": {},
     "output_type": "execute_result"
    }
   ],
   "source": [
    "F"
   ]
  },
  {
   "cell_type": "code",
   "execution_count": 20,
   "metadata": {},
   "outputs": [
    {
     "name": "stdout",
     "output_type": "stream",
     "text": [
      "    dpi\t\t  xbi\t\t   xpi\t\t\txfi\n",
      "    5689.5\t|     0.206\t|    0.0224        |     0.155\n",
      "    4013.0\t|     0.304\t|    0.0585        |     0.235\n",
      "    2844.5\t|     0.112\t|     0.037        |    0.0912\n",
      "    2006.5\t|     0.032\t|    0.0156        |    0.0274\n",
      "    1409.5\t|   0.00745\t|   0.00526        |   0.00683\n",
      "    1000.5\t|   0.00136\t|   0.00137        |   0.00137\n",
      "     711.0\t|  0.000464\t|  0.000661        |  0.000519\n"
     ]
    }
   ],
   "source": [
    "xFi_res = []\n",
    "print(f'    dpi\\t\\t  xbi\\t\\t   xpi\\t\\t\\txfi')\n",
    "for i,_ in enumerate(xbi_res):\n",
    "    xBi = xBi_res[i]\n",
    "    xPi = xPi_res[i]\n",
    "    xFi = (xPi*RT+xBi*Q_1)/F\n",
    "    xFi_res.append(xFi)\n",
    "    init = 10\n",
    "    form = 3\n",
    "    print(f'{d_med[i]:{init}.5}\\t|{xBi:{init}.{form}}\\t|{xPi:{init}.{form}}\\\n",
    "        |{xFi:{init}.{form}}')\n",
    "#     print(xbi, xpi, xfi)"
   ]
  },
  {
   "cell_type": "code",
   "execution_count": null,
   "metadata": {},
   "outputs": [],
   "source": []
  },
  {
   "cell_type": "markdown",
   "metadata": {},
   "source": [
    "# Passo 6"
   ]
  },
  {
   "cell_type": "code",
   "execution_count": null,
   "metadata": {},
   "outputs": [],
   "source": []
  },
  {
   "cell_type": "code",
   "execution_count": null,
   "metadata": {},
   "outputs": [],
   "source": []
  }
 ],
 "metadata": {
  "kernelspec": {
   "display_name": "Python 3",
   "language": "python",
   "name": "python3"
  },
  "language_info": {
   "codemirror_mode": {
    "name": "ipython",
    "version": 3
   },
   "file_extension": ".py",
   "mimetype": "text/x-python",
   "name": "python",
   "nbconvert_exporter": "python",
   "pygments_lexer": "ipython3",
   "version": "3.7.3"
  }
 },
 "nbformat": 4,
 "nbformat_minor": 4
}
