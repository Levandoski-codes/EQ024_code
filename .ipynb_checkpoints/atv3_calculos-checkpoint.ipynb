{
 "cells": [
  {
   "cell_type": "markdown",
   "metadata": {},
   "source": [
    "# Atividade 3 EQ024: Tecnologias de Fluidização"
   ]
  },
  {
   "cell_type": "markdown",
   "metadata": {},
   "source": [
    "## Aluno: João Eduardo Levandoski"
   ]
  },
  {
   "cell_type": "markdown",
   "metadata": {},
   "source": [
    "# Propriedades"
   ]
  },
  {
   "cell_type": "markdown",
   "metadata": {},
   "source": [
    "Tipo de gás: Ar comprimido         \n",
    "    $\\rho$$_g$ (kg.m$^{-3}$): 1,116 @ T ($^o$C): 43 +/- 2           \n",
    "    $\\mu$$_g$ (kg.m$^{-1}$.s$^{-1}$): 18 x 10$^{-6}$ @ T ($^o$C): 22                    \n",
    "    Classificação de Gerald: D          \n",
    "    Modelo de distribuição escolhido: RRB  \n",
    "    $\\rho$$_{part}$ (kg/m$³$): 1159 - 1217  \n",
    "    $\\epsilon$$_{part}$(%): 52,55 - 54,22       \n",
    "    $\\phi$$_{part}$: 0,34 - 0,37        \n",
    "    d$_{ps}$($\\mu$m): 3586,68      \n",
    "    "
   ]
  },
  {
   "cell_type": "code",
   "execution_count": 1,
   "metadata": {},
   "outputs": [],
   "source": [
    "d_sauter = 3586.68*10**-6\n",
    "densi_gas = 1.116\n",
    "temp = 43\n",
    "densi_part = 1217\n",
    "g = 9.81\n",
    "visc = 18*10**-6"
   ]
  },
  {
   "cell_type": "markdown",
   "metadata": {},
   "source": [
    "# Equações utilizadas"
   ]
  },
  {
   "cell_type": "markdown",
   "metadata": {},
   "source": [
    "1. $Re_{mf} = [K_1^2 + K_2 Ar]^{\\frac{1}{2}}$\n",
    "\n",
    "2. $Ar = \\frac{d_{sauter}^3 \\rho_{gas} (\\rho_{gas} - \\rho_{part}) g}{\\mu_{gas}}$\n",
    "\n",
    "3. $Re_{mf} = \\frac{d_p U_{mf} \\rho_g}{\\mu}$\n",
    "\n",
    "4. $U_{mf} = \\frac{Re_{mf} \\mu}{d_p \\rho_g} $"
   ]
  },
  {
   "cell_type": "code",
   "execution_count": 2,
   "metadata": {},
   "outputs": [],
   "source": [
    "Ar = (((d_sauter**3) * densi_gas * (densi_part - densi_gas) * g ))\\\n",
    "        /visc**2"
   ]
  },
  {
   "cell_type": "code",
   "execution_count": 3,
   "metadata": {},
   "outputs": [],
   "source": [
    "Ks = {\n",
    "    'Wen': (33.7, 0.0408),\n",
    "    'Richardson': (25.7, 0.0365),\n",
    "    'Saxena': (25.3, 0.0571),\n",
    "    'Babu': (25.3, 0.0651),\n",
    "    'Grace': (27.2, 0.0408),\n",
    "    'Chitester': (28.7, 0.0494),\n",
    "    'Tannous': (25.83, 0.043)\n",
    "}"
   ]
  },
  {
   "cell_type": "code",
   "execution_count": 4,
   "metadata": {},
   "outputs": [
    {
     "name": "stdout",
     "output_type": "stream",
     "text": [
      "Número de Arquimedes: 1895650.32\n",
      "Autor\t\tK1\tK2\t\tRe\t\tUₘ (m/s)\n",
      "Wen       \t33.7\t0.0408\t\t246.44\t\t1.10822\n",
      "Richardson\t25.7\t0.0365\t\t238.595\t\t1.07294\n",
      "Saxena    \t25.3\t0.0571\t\t304.672\t\t1.37009\n",
      "Babu      \t25.3\t0.0651\t\t326.903\t\t1.47006\n",
      "Grace     \t27.2\t0.0408\t\t252.232\t\t1.13427\n",
      "Chitester \t28.7\t0.0494\t\t278.658\t\t1.2531\n",
      "Tannous   \t25.83\t0.043\t\t260.841\t\t1.17298\n"
     ]
    }
   ],
   "source": [
    "print(f'Número de Arquimedes: {Ar:.10}')\n",
    "print('Autor\\t\\tK1\\tK2\\t\\tRe\\t\\tUₘ (m/s)')\n",
    "for autor in Ks:\n",
    "    K1 = Ks[autor][0]\n",
    "    K2 = Ks[autor][1]\n",
    "    Re_pmf = ((K1)**2 + K2*Ar)**(1/2) - K1\n",
    "    U_mf = ((Re_pmf * visc)/(d_sauter*densi_gas))\n",
    "    print(f'{autor:10}\\t{K1}\\t{K2}\\t\\t{Re_pmf:.6}\\t\\t{U_mf:.6}' )"
   ]
  },
  {
   "cell_type": "markdown",
   "metadata": {},
   "source": [
    "# Porosidade"
   ]
  },
  {
   "cell_type": "markdown",
   "metadata": {},
   "source": [
    "![porosidade](graf_porosi.png)             \n",
    "Utilizando o gráfico acima e $\\phi$: 0,35, foi possível estimar a porosidade do leito fixo $\\epsilon$: 0,75   \n"
   ]
  },
  {
   "cell_type": "code",
   "execution_count": null,
   "metadata": {},
   "outputs": [],
   "source": []
  }
 ],
 "metadata": {
  "kernelspec": {
   "display_name": "Python 3",
   "language": "python",
   "name": "python3"
  },
  "language_info": {
   "codemirror_mode": {
    "name": "ipython",
    "version": 3
   },
   "file_extension": ".py",
   "mimetype": "text/x-python",
   "name": "python",
   "nbconvert_exporter": "python",
   "pygments_lexer": "ipython3",
   "version": "3.7.3"
  }
 },
 "nbformat": 4,
 "nbformat_minor": 4
}
