{
 "cells": [
  {
   "cell_type": "markdown",
   "metadata": {},
   "source": [
    "# Atividade 3 EQ024: Tecnologias de Fluidização"
   ]
  },
  {
   "cell_type": "markdown",
   "metadata": {},
   "source": [
    "## Aluno: João Eduardo Levandoski"
   ]
  },
  {
   "cell_type": "markdown",
   "metadata": {},
   "source": [
    "# Propriedades"
   ]
  },
  {
   "cell_type": "markdown",
   "metadata": {},
   "source": [
    "**Fluido:**\n",
    "\n",
    " - Tipo de gás: Ar comprimido         \n",
    "     - $\\rho$$_g$ (kg.m$^{-3}$): 1,116 @ T ($^o$C): 43 +/- 2           \n",
    "     - $\\mu$$_g$ (kg.m$^{-1}$.s$^{-1}$): 18 x 10$^{-6}$ @ T ($^o$C): 22    \n",
    "    \n",
    "    \n",
    "**Partículas:**\n",
    "\n",
    " - Classificação de Gerald: D          \n",
    " - Modelo de distribuição escolhido: RRB  \n",
    "     - $\\rho$$_{part}$ (kg/m$³$): 1159 - 1217  \n",
    "     - $\\epsilon$$_{part}$(%): 52,55 - 54,22       \n",
    "     - $\\phi$$_{part}$: 0,34 - 0,37        \n",
    "     - d$_{ps}$($\\mu$m): 3586,68      \n"
   ]
  },
  {
   "cell_type": "code",
   "execution_count": 331,
   "metadata": {},
   "outputs": [],
   "source": [
    "d_sauter = 3586.68*10**-6\n",
    "densi_gas = 1.116\n",
    "temp = 43\n",
    "# densi_part = 557.10\n",
    "densi_part = 1217 #Aparente\n",
    "g = 9.81\n",
    "visc = 18*10**-6\n",
    "esf = 0.35\n",
    "# esf = 1"
   ]
  },
  {
   "cell_type": "markdown",
   "metadata": {},
   "source": [
    "##### Ynae\n",
    "d_sauter = 2.75*10**-4                  \n",
    "densi_gas = 1.01               \n",
    "temp = 75              \n",
    "densi_part = 1250.20                \n",
    "g = 9.81              \n",
    "visc = 20.7*10**-6              \n",
    "esf = 0.54               "
   ]
  },
  {
   "cell_type": "markdown",
   "metadata": {},
   "source": [
    "####  Taisa\n",
    "d_sauter = 2100*10**-6                 \n",
    "densi_gas = 1.12               \n",
    "####  densi_part = 557.10                 \n",
    "densi_part = 1217 #aparente                   \n",
    "g = 9.81                    \n",
    "visc = 19.3*10**-6                    \n",
    "esf = 0.37              \n",
    "####  esf = 0.9                \n",
    "####  esf = 1               "
   ]
  },
  {
   "cell_type": "markdown",
   "metadata": {},
   "source": [
    "#### Joel                    \n",
    "d_sauter = 379.68*10**-6                              \n",
    "densi_gas = 1.198                               \n",
    "temp = 43                  \n",
    "#### densi_part = 557.10                        \n",
    "densi_part = 1103.1 #Aparente                         \n",
    "g = 9.81                  \n",
    "visc = 17.5*10**-6                     \n",
    "esf = 0.642                  \n",
    "#### esf = 1             "
   ]
  },
  {
   "cell_type": "markdown",
   "metadata": {},
   "source": [
    "# Características do Equipamento/leito"
   ]
  },
  {
   "cell_type": "markdown",
   "metadata": {},
   "source": [
    "**Equipamento:**\n",
    "\n",
    " - Diâmetro: 250 mm\n",
    " - Altura: 800 mm \n",
    " \n",
    " \n",
    "**Leito:**\n",
    "\n",
    " - Altura: 187 - 203 mm\n",
    " "
   ]
  },
  {
   "cell_type": "code",
   "execution_count": 332,
   "metadata": {},
   "outputs": [],
   "source": [
    "D_c = 0.25"
   ]
  },
  {
   "cell_type": "markdown",
   "metadata": {},
   "source": [
    "# Equações utilizadas (U$_{mf}$)\n",
    "\n",
    "1. $Re_{mf} = [K_1^2 + K_2 Ar]^{\\frac{1}{2}}$\n",
    "\n",
    "2. $Ar = \\frac{d_{sauter}^3 \\rho_{gas} (\\rho_{part} - \\rho_{gas}) g}{\\mu_{gas}^2}$\n",
    "\n",
    "3. $Re_{mf} = \\frac{d_p U_{mf} \\rho_g}{\\mu}$\n",
    "\n",
    "4. $U_{mf} = \\frac{Re_{mf} \\mu}{d_p \\rho_g} $"
   ]
  },
  {
   "cell_type": "code",
   "execution_count": 333,
   "metadata": {},
   "outputs": [
    {
     "name": "stdout",
     "output_type": "stream",
     "text": [
      "Arquimedes: 1895650.32\n"
     ]
    }
   ],
   "source": [
    "Ar = (d_sauter**3) * densi_gas * (densi_part - densi_gas) * g/(visc**2)\n",
    "print(f'Arquimedes: {Ar:.9}')"
   ]
  },
  {
   "cell_type": "markdown",
   "metadata": {},
   "source": [
    "# Velocidade terminal"
   ]
  },
  {
   "cell_type": "markdown",
   "metadata": {},
   "source": [
    "# Equações utilizadas ($U_t$)\n",
    "\n",
    "13. $U_t = \\Big[ \\frac{4 \\overline{d}_p(\\rho_p - \\rho_g)g}{3\\rho_gC_d} \\Big]^{\\frac{1}{2}}$\n",
    "\n",
    "14.  $Re_p = \\frac{d_p U_t \\rho_g}{\\mu}$\n",
    "\n",
    "15. $C_d = \\frac{24}{Re_p} \\big[1 + (8,171e^{-4,0655\\phi})Re_p^{0,0964 + 0,5565\\phi} \\big] + \\frac{73,69e^{-5,0748\\phi}Re_p}{Re_p + 5,378e^{6,2122\\phi}} $"
   ]
  },
  {
   "cell_type": "code",
   "execution_count": 334,
   "metadata": {},
   "outputs": [],
   "source": [
    "def find_u_t(u_mf, d_p, densi_gas, visc, esf, g=9.81, err=0.0001):\n",
    "    from math import exp\n",
    "    i = 0\n",
    "    u_old = 10*u_mf\n",
    "    \n",
    "    while i < 100:\n",
    "        i += 1\n",
    "        Re_p = ((d_p*u_old*densi_gas)/(visc))\n",
    "        A = (1 + (8.1716*(exp(-4.0655*esf)))*Re_p**(0.0964+0.5565*esf)) \n",
    "        B = ((73.69*exp(-5.0748*esf)*Re_p)/(Re_p + 5.378*exp(6.2122*esf)))\n",
    "        Cd= ((24/Re_p)*A + B)\n",
    "        u_new = ((4*d_p*(densi_part-densi_gas)*g)/(3*densi_gas*Cd))**(1/2)\n",
    "        \n",
    "        dif = abs((u_new-u_old)/u_new)\n",
    "        \n",
    "        if dif < err:\n",
    "#             print(Re_p)\n",
    "            break\n",
    "        u_old = u_new\n",
    "    return u_new, Cd"
   ]
  },
  {
   "cell_type": "code",
   "execution_count": 335,
   "metadata": {},
   "outputs": [],
   "source": [
    "Ks = {\n",
    "    'Wen': (33.7, 0.0408),\n",
    "    'Richardson': (25.7, 0.0365),\n",
    "    'Saxena': (25.3, 0.0571),\n",
    "    'Babu': (25.3, 0.0651),\n",
    "    'Grace': (27.2, 0.0408),\n",
    "    'Chitester': (28.7, 0.0494),\n",
    "    'Tannous': (25.83, 0.043)\n",
    "}"
   ]
  },
  {
   "cell_type": "code",
   "execution_count": 336,
   "metadata": {},
   "outputs": [
    {
     "name": "stdout",
     "output_type": "stream",
     "text": [
      "Número de Arquimedes: 1895650.32\n",
      "Autor\t\tK1\tK2\t\tRe\t\tUₘ (m/s)\tUt (m/s)\tCd\n",
      "Wen     \t33.7\t0.0408\t\t  246.44\t 1.10822\t 2.06596\t11.9753\n",
      "Richardson\t25.7\t0.0365\t\t 238.595\t 1.07294\t 2.06596\t11.9753\n",
      "Saxena  \t25.3\t0.0571\t\t 304.672\t 1.37009\t 2.06596\t11.9753\n",
      "Babu    \t25.3\t0.0651\t\t 326.903\t 1.47006\t 2.06596\t11.9753\n",
      "Grace   \t27.2\t0.0408\t\t 252.232\t 1.13427\t 2.06596\t11.9753\n",
      "Chitester\t28.7\t0.0494\t\t 278.658\t  1.2531\t 2.06596\t11.9753\n",
      "Tannous \t25.83\t0.043\t\t 260.841\t 1.17298\t 2.06596\t11.9753\n"
     ]
    }
   ],
   "source": [
    "print(f'Número de Arquimedes: {Ar:.10}')\n",
    "print('Autor\\t\\tK1\\tK2\\t\\tRe\\t\\tUₘ (m/s)\\tUt (m/s)\\tCd')\n",
    "for autor in Ks:\n",
    "    K1 = Ks[autor][0]\n",
    "    K2 = Ks[autor][1]\n",
    "    Re_pmf = ((K1)**2 + K2*Ar)**(1/2) - K1\n",
    "    u_mf = ((Re_pmf * visc)/(d_sauter*densi_gas))\n",
    "    u_t, cd = find_u_t(u_mf, d_sauter, densi_gas, visc, esf, g=9.81)\n",
    "    print(f'{autor:8}\\t{K1}\\t{K2}\\t\\t{Re_pmf:8.6}\\t{u_mf:8.6}\\t{u_t:8.6}\\t{cd:.6}')"
   ]
  },
  {
   "cell_type": "markdown",
   "metadata": {},
   "source": [
    "# Porosidade"
   ]
  },
  {
   "cell_type": "markdown",
   "metadata": {},
   "source": [
    "# Equações utilizadas ($\\epsilon$$_{mf}$)\n",
    "\n",
    "5. Wen: $\\epsilon _{mf} ^{0,47} \\phi ^2 Ar = 18 Re_{mf} + 2,7 \\phi ^{0,687} Re_{mf}$\n",
    "\n",
    "6. Fatah: $\\epsilon_{mf} = 0,4332 + 0,234\\log{Ar} - 0,1598(\\log{Ar})^2 + 0,0358(\\log{Ar})^3 - 0,002495(\\log{Ar})^4$\n",
    "\n",
    "1. ~**Fatah: $\\epsilon_{mf} = 0,4332 + 0,234\\log{Ar} - 0,1598(\\log{Ar})^2 + 0,0358(\\log{Ar})^3 - 0,0002495(\\log{Ar})^4$**~ **Errada**\n",
    "\n",
    "7. Broadhurst: $\\epsilon_{mf} = \\frac{0,586}{\\phi ^{0,72}} Ar^{-0,029} M_v ^{-0,021}$\n",
    "\n",
    "8. Tannous: $\\epsilon_{mf} ^n = \\frac{U_{mf}}{U_{i}} \\Bigg\\{ \\begin{matrix} \n",
    "                                    U_i = U_t e^{\\frac{-d_p}{D_c}}\\\\ \n",
    "                                    n = 4,81 Re_t^{-0,904} \n",
    "                                 \\end{matrix}$ \n",
    "\n",
    "9. $M_v = \\frac{\\rho_p}{\\rho_g}$"
   ]
  },
  {
   "cell_type": "code",
   "execution_count": 337,
   "metadata": {},
   "outputs": [],
   "source": [
    "def por_tannous(d_p, u_mf, u_t, densi_gas, D_c, visc):\n",
    "    from math import exp\n",
    "    Re_t = ((d_p*u_t*densi_gas)/(visc))\n",
    "    e = (u_mf/(u_t*exp(-d_p/D_c)))**(1/(4.81*(Re_t**-0.094)))\n",
    "    return e\n",
    "def por_fatah(Ar):\n",
    "    from math import log10\n",
    "    e = 0.4332 + 0.234*log10(Ar) - 0.1598*(log10(Ar))**2 + 0.0358*(log10(Ar))**3 - 0.002495*(log10(Ar))**4\n",
    "    return e\n",
    "def por_Broadhurst(Ar, esf, densi_part, densi_gas):\n",
    "    e = (0.586/(esf**0.72)) * (Ar**-0.029)*((densi_part/densi_gas)**-0.021)\n",
    "    return e"
   ]
  },
  {
   "cell_type": "code",
   "execution_count": 338,
   "metadata": {},
   "outputs": [
    {
     "name": "stdout",
     "output_type": "stream",
     "text": [
      "Porosidade minima\n",
      "Tannous: 0.815396\n",
      "Fatah: 0.586491\n",
      "Broadhurst: 0.708473\n"
     ]
    }
   ],
   "source": [
    "print('Porosidade minima')\n",
    "print(f'Tannous: {por_tannous(d_sauter, u_mf, u_t, densi_gas, D_c, visc):.6}')\n",
    "print(f'Fatah: {por_fatah(Ar):.6}')\n",
    "print(f'Broadhurst: {por_Broadhurst(Ar, esf, densi_part, densi_gas):.6}')"
   ]
  },
  {
   "cell_type": "markdown",
   "metadata": {},
   "source": [
    "![porosidade](graf_porosi.png)             \n",
    "Utilizando o gráfico acima e $\\overline{\\phi}$: 0,35, foi possível estimar a porosidade do leito fixo $\\overline{\\epsilon}$: 0,75   \n"
   ]
  },
  {
   "cell_type": "markdown",
   "metadata": {},
   "source": [
    "# Equações utilizadas ($\\epsilon$)\n",
    "\n",
    "10. Lewis: $\\epsilon = 1 + \\frac{0,0034(U - U_{mf})}{(\\overline{d}_p)^{0,5}}$\n",
    "\n",
    "11. Babu: $\\epsilon = 1 + \\frac{1,957(U - U_{mf})^{0,738} (\\overline{d}_p)^{1,006} \\rho_p^{0,376}}{(\\rho_g)^{0,126} (U_{mf})^{0,937}}$\n",
    "\n",
    "12. Thonglimp: $\\epsilon = 1,10Re^{0,29}Ar^{-0,19}M_v^{0,05}$\n",
    "\n",
    "13. Tannous: $\\epsilon = 0,46Re^{0,43}Ar^{-0,22}M_v^{0,12}$"
   ]
  },
  {
   "cell_type": "code",
   "execution_count": 339,
   "metadata": {},
   "outputs": [],
   "source": [
    "def exp_lewis(u, u_mf, d_p):\n",
    "    e = 1 + ((0.0034*(u-u_mf))/(d_p**0.5))\n",
    "    return e\n",
    "def exp_babu(u, u_mf, d_p, densi_part, densi_gas):\n",
    "    e = 1 + ((1.957*((u-u_mf)**0.738)*(d_p**1.006)*(densi_part**0.376))/((densi_gas**0.126)*(u_mf**0.937)))\n",
    "    return e\n",
    "def exp_thonglimp(u, Ar, densi_part, densi_gas):\n",
    "    Re = d_p*u*densi_gas/visc\n",
    "    Mv = densi_part/densi_gas\n",
    "    e = 1.10*(Re**0.29)*(Ar**-0.19)*(Mv**0.05)\n",
    "    return e\n",
    "def exp_tannous(u, Ar, densi_part, densi_gas):\n",
    "    Re = d_p*u*densi_gas/visc\n",
    "    Mv = densi_part/densi_gas\n",
    "    e = 0.46*(Re**0.43)*(Ar**-0.22)*(Mv**0.12)\n",
    "    return e"
   ]
  },
  {
   "cell_type": "code",
   "execution_count": 340,
   "metadata": {},
   "outputs": [
    {
     "name": "stdout",
     "output_type": "stream",
     "text": [
      "Expansão do Leito\n",
      "Lewis: 1.13318\n",
      "Babu: 1.15633\n",
      "Thonglimp: 0.691216\n",
      "Tannous: 0.776908\n"
     ]
    }
   ],
   "source": [
    "d_p = d_sauter\n",
    "u = 3*u_mf\n",
    "le =  exp_lewis(u, u_mf, d_p)\n",
    "ba = exp_babu(u, u_mf, d_p, densi_part, densi_gas)\n",
    "th = exp_thonglimp(u, Ar, densi_part, densi_gas)\n",
    "ta =  exp_tannous(u, Ar, densi_part, densi_gas)\n",
    "print(f'Expansão do Leito\\nLewis: {le:.6}\\nBabu: {ba:.6}\\nThonglimp: {th:.6}\\nTannous: {ta:.6}')"
   ]
  },
  {
   "cell_type": "code",
   "execution_count": null,
   "metadata": {},
   "outputs": [],
   "source": []
  }
 ],
 "metadata": {
  "kernelspec": {
   "display_name": "Python 3",
   "language": "python",
   "name": "python3"
  },
  "language_info": {
   "codemirror_mode": {
    "name": "ipython",
    "version": 3
   },
   "file_extension": ".py",
   "mimetype": "text/x-python",
   "name": "python",
   "nbconvert_exporter": "python",
   "pygments_lexer": "ipython3",
   "version": "3.7.3"
  }
 },
 "nbformat": 4,
 "nbformat_minor": 4
}
