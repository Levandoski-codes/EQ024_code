{
 "cells": [
  {
   "cell_type": "markdown",
   "metadata": {},
   "source": [
    "# Atividade 5 EQ024: Tecnologias de Fluidização\n",
    " - Determinar as velocidades de mínima fluidização de mistura e a velocidade completa de fluidização para partículas heterogêneas considerando seu processo composto de partículas binárias (agrupar as partículas em dois tamanhos) e polidispersas.\n",
    " - Determinar as velocidades de mínima fluidização e terminal para cada tamanho de partícula.\n",
    " - Comparar com os resultados obtidos na atividade 03, para partículas homogêneas."
   ]
  },
  {
   "cell_type": "markdown",
   "metadata": {},
   "source": [
    "[Resultados](#Resultados) Resultados"
   ]
  },
  {
   "cell_type": "raw",
   "metadata": {},
   "source": [
    "import os d_sauter\n",
    "os.system('pip install numpy matplotlib scipy pandas')"
   ]
  },
  {
   "cell_type": "markdown",
   "metadata": {},
   "source": [
    "## Aluno: João Eduardo Levandoski"
   ]
  },
  {
   "cell_type": "code",
   "execution_count": 94,
   "metadata": {},
   "outputs": [],
   "source": [
    "import random\n",
    "import matplotlib.pyplot as plt\n",
    "import numpy as np\n",
    "from scipy.optimize import curve_fit\n",
    "import math\n",
    "import pandas as pd"
   ]
  },
  {
   "cell_type": "markdown",
   "metadata": {},
   "source": [
    "# Curva\n",
    "### Gerador de distribuição aleatória, baseada na curva normal"
   ]
  },
  {
   "cell_type": "code",
   "execution_count": 95,
   "metadata": {},
   "outputs": [],
   "source": [
    "numero_peneiras = 7 #Escolhendo o número de peneiras a ser utilizadas\n",
    "razao = (2)**(1/2) #Escolhendo a razão entre os diâmetros das peneiras Raiz quadrada\n",
    "abertura_1_penei = 6000 #Abertura da primeira peneira em microns \n",
    "media_dia = 4000 #Usando a media da distribuição normal,\n",
    "                 #baseada no dado fornecido pela literatura\n",
    "massa_total = 5680 #gramas \n",
    "var = 0.3 #Uma variação da curva normal para gerar os dados"
   ]
  },
  {
   "cell_type": "code",
   "execution_count": 96,
   "metadata": {},
   "outputs": [],
   "source": [
    "random.seed(10)\n",
    "dist_norm = []\n",
    "for _ in range(int(massa_total)):\n",
    "    dist_norm.append(random.normalvariate(media_dia,\n",
    "                                          media_dia*var))"
   ]
  },
  {
   "cell_type": "markdown",
   "metadata": {},
   "source": [
    "# Distribuição binária"
   ]
  },
  {
   "cell_type": "code",
   "execution_count": 97,
   "metadata": {},
   "outputs": [],
   "source": [
    "numero_peneiras = 7 #Escolhendo o número de peneiras a ser utilizadas\n",
    "razao = (2)**(1/2) #Escolhendo a razão entre os diâmetros das peneiras Raiz quadrada\n",
    "abertura_1_penei = 6000 #Abertura da primeira peneira em microns \n",
    "media_dia1 = 5700 #Usando a media da distribuição normal,\n",
    "                 #baseada no dado fornecido pela literatura\n",
    "var1 = 0.05 #Uma variação da curva normal para gerar os dados\n",
    "media_dia2 = 2700\n",
    "massa_total = 5680 #gramas \n",
    "var2 = 0.2 #Uma variação da curva normal para gerar os dados"
   ]
  },
  {
   "cell_type": "code",
   "execution_count": 98,
   "metadata": {},
   "outputs": [],
   "source": [
    "random.seed(10)\n",
    "dist_norm = []\n",
    "for _ in range(int(massa_total/2)):\n",
    "    dist_norm.append(random.normalvariate(media_dia1,\n",
    "                                          media_dia1*var1))\n",
    "    dist_norm.append(random.normalvariate(media_dia2,\n",
    "                                          media_dia2*var2))"
   ]
  },
  {
   "cell_type": "markdown",
   "metadata": {},
   "source": [
    "# Tamanho das peneiras escolhidas em Microns"
   ]
  },
  {
   "cell_type": "code",
   "execution_count": 99,
   "metadata": {},
   "outputs": [],
   "source": [
    "peneiras_total = [\n",
    "    6680, #Mesh 3\n",
    "    4699, #Mesh 4\n",
    "    3327, #Mesh 6\n",
    "    2362, #Mesh 8\n",
    "    1651, #Mesh 10\n",
    "    1168, #Mesh 14\n",
    "    833,  #Mesh 20\n",
    "    589,  #Mesh 28\n",
    "    0     #Fundo\n",
    "]"
   ]
  },
  {
   "cell_type": "code",
   "execution_count": 100,
   "metadata": {},
   "outputs": [],
   "source": [
    "peneiras_menor = [ #Usadas no diâmetro menor\n",
    "    3327, #Mesh 6\n",
    "    2362, #Mesh 8\n",
    "    1651, #Mesh 10\n",
    "    1168, #Mesh 14\n",
    "    833,  #Mesh 20\n",
    "    589,  #Mesh 28\n",
    "    0     #Fundo\n",
    "]"
   ]
  },
  {
   "cell_type": "code",
   "execution_count": 101,
   "metadata": {},
   "outputs": [],
   "source": [
    "peneiras_maior = [\n",
    "    6680, #Mesh 3\n",
    "    4699, #Mesh 4\n",
    "    3327,\n",
    "    0     #Fundo\n",
    "]"
   ]
  },
  {
   "cell_type": "code",
   "execution_count": 102,
   "metadata": {},
   "outputs": [],
   "source": [
    "peneiras = peneiras_maior\n",
    "# peneiras = peneiras_menor\n",
    "# peneiras = peneiras_total\n",
    "\n",
    "peneiras = np.asarray(peneiras, dtype='int')"
   ]
  },
  {
   "cell_type": "code",
   "execution_count": 103,
   "metadata": {},
   "outputs": [
    {
     "name": "stdout",
     "output_type": "stream",
     "text": [
      "Razão entre a peneira  6680 e a    peneira  4699: 1.422\n",
      "Razão entre a peneira  4699 e a    peneira  3327: 1.412\n"
     ]
    }
   ],
   "source": [
    "for i in range(len(peneiras)-2):\n",
    "    print(f'Razão entre a peneira {peneiras[i]:5} e a\\\n",
    "    peneira {peneiras[i+1]:5}: {peneiras[i]/peneiras[i+1]:.4}')"
   ]
  },
  {
   "cell_type": "markdown",
   "metadata": {},
   "source": [
    "Usando a distribuição gerada acima e as peneiras selecionadas       \n",
    "fazemos a classificação das partículas   \n",
    "A célula abaixo salva em um dicionário a classificação,    \n",
    "e calcula o diâmetro médio de cada peneira $\\frac{Di_{sup}}{Di_{inf}}$"
   ]
  },
  {
   "cell_type": "code",
   "execution_count": 104,
   "metadata": {},
   "outputs": [],
   "source": [
    "penei = {} #Criando um dicionário com os dados \n",
    "bins = [] #Será usado como base para distribuição do histograma\n",
    "d_i = [None, ]\n",
    "lista =[]\n",
    "itens = 0\n",
    "\n",
    "penei.update({str(peneiras[0]): []})\n",
    "            \n",
    "for j in range(len(peneiras)-1):\n",
    "    lista =[]\n",
    "    for i in dist_norm:\n",
    "        if peneiras[j] > i >=peneiras[j+1]:\n",
    "            lista.append(i)\n",
    "            itens += 1\n",
    "    bins.append(peneiras[j+1])\n",
    "    d_i += [(peneiras[j] + peneiras[j+1])/2]        \n",
    "    penei.update({str(peneiras[j+1]): lista})\n",
    "    \n",
    "penei[str(peneiras[-1])] = []"
   ]
  },
  {
   "cell_type": "markdown",
   "metadata": {},
   "source": [
    "A variável `diametro_inferior` contém o diâmetro                            \n",
    "da peneira onde a massa de partículas fica retida.                       \n",
    "A variável `massa_retida` contém a massa retida em cada uma das peneiras.    \n",
    "\n",
    "`x_i`: Fração mássica por peneira.   \n",
    "`X_i`: Fração mássica acumuladada por peneira.\n"
   ]
  },
  {
   "cell_type": "code",
   "execution_count": 105,
   "metadata": {},
   "outputs": [],
   "source": [
    "diametro_inferior = []\n",
    "massa_retida = []\n",
    "for nome in penei:\n",
    "    diametro_inferior.append(int(nome))\n",
    "    massa_retida.append(len(penei[nome]))\n",
    "\n",
    "itens = max(np.cumsum(massa_retida))"
   ]
  },
  {
   "cell_type": "code",
   "execution_count": 106,
   "metadata": {},
   "outputs": [],
   "source": [
    "# massa_retida = [0, 1457, 2556, 1090, 359, 101, 23, 10, 0]"
   ]
  },
  {
   "cell_type": "code",
   "execution_count": 107,
   "metadata": {},
   "outputs": [],
   "source": [
    "diametro_inferior = np.asarray(diametro_inferior[::]) \n",
    "                        #Isso é um array com o diâmetro da peneira inferior\n",
    "                        #presente em cada uma das peneiras\n",
    "massa_retida = np.asarray(massa_retida[::]) #Massa de material presente em cada peneira\n",
    "x_i = massa_retida/(itens-1)\n",
    "X_i = np.cumsum(massa_retida[::-1])/itens#Calculando a fração acumulada\n",
    "X_i = X_i[::-1]\n",
    "bins = np.asarray(bins[::-1])\n",
    "d_i = np.asarray(d_i)"
   ]
  },
  {
   "cell_type": "code",
   "execution_count": 108,
   "metadata": {},
   "outputs": [],
   "source": [
    "df = pd.DataFrame((diametro_inferior[::], massa_retida[::], x_i*100, X_i*100, d_i))\n",
    "# df.rename(columns={0:'+3', 1:'-3\\t+4',\n",
    "#                    2:'-4\\t+6', 3:'-6\\t+8',\n",
    "#                    4:'-8\\t+10', 5:'-10\\t+14',\n",
    "#                    6:'-14\\t+20', 7:'-20\\t+28',\n",
    "#                    8:'Fundo\\t'}, inplace=True)\n",
    "df.rename(index={0:'Diâmetro peneira ($\\mu$m)', 1:'Massa Retida (g)',\n",
    "                 2:'Frequência Ponderal', 3:'Fração Acumulada',\n",
    "                 4:'Diâmetro médio ($\\mu$m)'}, inplace=True)"
   ]
  },
  {
   "cell_type": "markdown",
   "metadata": {},
   "source": [
    "# Frequencia"
   ]
  },
  {
   "cell_type": "code",
   "execution_count": 109,
   "metadata": {},
   "outputs": [
    {
     "data": {
      "text/html": [
       "<div>\n",
       "<style scoped>\n",
       "    .dataframe tbody tr th:only-of-type {\n",
       "        vertical-align: middle;\n",
       "    }\n",
       "\n",
       "    .dataframe tbody tr th {\n",
       "        vertical-align: top;\n",
       "    }\n",
       "\n",
       "    .dataframe thead th {\n",
       "        text-align: right;\n",
       "    }\n",
       "</style>\n",
       "<table border=\"1\" class=\"dataframe\">\n",
       "  <thead>\n",
       "    <tr style=\"text-align: right;\">\n",
       "      <th></th>\n",
       "      <th>0</th>\n",
       "      <th>1</th>\n",
       "      <th>2</th>\n",
       "      <th>3</th>\n",
       "    </tr>\n",
       "  </thead>\n",
       "  <tbody>\n",
       "    <tr>\n",
       "      <th>Diâmetro peneira ($\\mu$m)</th>\n",
       "      <td>6680.0</td>\n",
       "      <td>4699.000000</td>\n",
       "      <td>3327.000000</td>\n",
       "      <td>0.0</td>\n",
       "    </tr>\n",
       "    <tr>\n",
       "      <th>Massa Retida (g)</th>\n",
       "      <td>0.0</td>\n",
       "      <td>2839.000000</td>\n",
       "      <td>330.000000</td>\n",
       "      <td>0.0</td>\n",
       "    </tr>\n",
       "    <tr>\n",
       "      <th>Frequência Ponderal</th>\n",
       "      <td>0.0</td>\n",
       "      <td>89.614899</td>\n",
       "      <td>10.416667</td>\n",
       "      <td>0.0</td>\n",
       "    </tr>\n",
       "    <tr>\n",
       "      <th>Fração Acumulada</th>\n",
       "      <td>100.0</td>\n",
       "      <td>100.000000</td>\n",
       "      <td>10.413380</td>\n",
       "      <td>0.0</td>\n",
       "    </tr>\n",
       "    <tr>\n",
       "      <th>Diâmetro médio ($\\mu$m)</th>\n",
       "      <td>NaN</td>\n",
       "      <td>5689.500000</td>\n",
       "      <td>4013.000000</td>\n",
       "      <td>1663.5</td>\n",
       "    </tr>\n",
       "  </tbody>\n",
       "</table>\n",
       "</div>"
      ],
      "text/plain": [
       "                                0            1            2       3\n",
       "Diâmetro peneira ($\\mu$m)  6680.0  4699.000000  3327.000000     0.0\n",
       "Massa Retida (g)              0.0  2839.000000   330.000000     0.0\n",
       "Frequência Ponderal           0.0    89.614899    10.416667     0.0\n",
       "Fração Acumulada            100.0   100.000000    10.413380     0.0\n",
       "Diâmetro médio ($\\mu$m)       NaN  5689.500000  4013.000000  1663.5"
      ]
     },
     "execution_count": 109,
     "metadata": {},
     "output_type": "execute_result"
    }
   ],
   "source": [
    "df"
   ]
  },
  {
   "cell_type": "markdown",
   "metadata": {},
   "source": [
    "# Plot da distribuição"
   ]
  },
  {
   "cell_type": "raw",
   "metadata": {},
   "source": [
    "fig = plt.figure(figsize=(15,8), dpi=200)\n",
    "# plt.plot(diametro_inferior, x_i*100, marker='.', color='red')\n",
    "\n",
    "plt.hist(diametro_inferior, weights=x_i*100, bins=diametro_inferior[::-1],\n",
    "         density=False, alpha = 0.5, color='green', label='Histograma')\n",
    "plt.xticks(diametro_inferior)\n",
    "plt.title('Distribuição granulométrica')\n",
    "plt.xlabel('Diâmetro peneira ($\\mu$m)')\n",
    "plt.ylabel('Fração mássica retida (%)')\n",
    "plt.show()"
   ]
  },
  {
   "cell_type": "raw",
   "metadata": {},
   "source": [
    "fig = plt.figure(figsize=(15,8), dpi=200)\n",
    "plt.plot(diametro_inferior, X_i*100, marker='.', color='red')\n",
    "plt.xticks(diametro_inferior)\n",
    "plt.title('Distribuição Acumulada')\n",
    "plt.xlabel('Diâmetro peneira ($\\mu$m)')\n",
    "plt.ylabel('Fração Acumulada (%)')\n",
    "plt.show()"
   ]
  },
  {
   "cell_type": "code",
   "execution_count": 110,
   "metadata": {},
   "outputs": [
    {
     "data": {
      "image/png": "[encoded data removed]",
      "text/plain": [
       "<Figure size 3000x1600 with 2 Axes>"
      ]
     },
     "metadata": {
      "needs_background": "light"
     },
     "output_type": "display_data"
    }
   ],
   "source": [
    "fig = plt.figure(figsize=(15,8), dpi=200)\n",
    "ax = plt.axes()\n",
    "\n",
    "# plt.xlim((math.ceil(0), math.floor(max(diametro_inferior))))\n",
    "plt.xticks(diametro_inferior)\n",
    "plt.hist(diametro_inferior, weights=x_i*100, bins=diametro_inferior[::-1],\n",
    "         density=False, alpha = 0.5, color='green', label='Histograma')\n",
    "plt.title('Histograma')\n",
    "plt.xlabel('Diâmetro peneira ($\\mu$m)')\n",
    "plt.ylabel('Fração mássica retida  (%)')\n",
    "\n",
    "ax_bis = ax.twinx()\n",
    "ax_bis.plot(diametro_inferior, X_i*100, color='red', label='Fração Acumulada')\n",
    "plt.xticks(diametro_inferior)\n",
    "plt.xlabel('Diâmetro peneira ($\\mu$m)')\n",
    "plt.ylabel('Fração Acumulada  (%)')\n",
    "ax_bis.grid(True)\n",
    "ax.grid(True, axis='y', color='gray')\n",
    "ax_bis.legend()\n",
    "ax.legend()\n",
    "plt.show()"
   ]
  },
  {
   "cell_type": "markdown",
   "metadata": {},
   "source": [
    "# Modelos"
   ]
  },
  {
   "cell_type": "code",
   "execution_count": 111,
   "metadata": {},
   "outputs": [],
   "source": [
    "%matplotlib inline"
   ]
  },
  {
   "cell_type": "code",
   "execution_count": 112,
   "metadata": {},
   "outputs": [],
   "source": [
    "# %matplotlib qt"
   ]
  },
  {
   "cell_type": "code",
   "execution_count": 113,
   "metadata": {},
   "outputs": [
    {
     "data": {
      "image/png": "[encoded data removed]",
      "text/plain": [
       "<Figure size 3000x1600 with 1 Axes>"
      ]
     },
     "metadata": {
      "needs_background": "light"
     },
     "output_type": "display_data"
    }
   ],
   "source": [
    "# d_linha = 1980\n",
    "# d_linha = 4000\n",
    "# d_linha = 3700\n",
    "\n",
    "global d_linha\n",
    "# d_linha = 1980\n",
    "d_linha = 4000\n",
    "# d_linha = 3700\n",
    "# d_linha = 3099.5\n",
    "\n",
    "def func(x, b):\n",
    "    return 1 - np.exp(-(x/d_linha)**b)\n",
    "\n",
    "xdata = diametro_inferior\n",
    "ydata = X_i\n",
    "\n",
    "fig = plt.figure(figsize=(15,8), dpi=200)\n",
    "\n",
    "plt.plot(xdata, ydata, '--', label='Experimental', color='blue', marker='o')\n",
    "popt, pcov = curve_fit(func, xdata, ydata)\n",
    "n = popt[0]\n",
    "\n",
    "# axis = np.linspace(min(xdata), max(xdata), 100)\n",
    "axis = xdata\n",
    "\n",
    "ax = plt.plot(axis, func(axis, *popt), 'r-',\n",
    "    label=f\"X = 1 - exp[-(d$_i$/d)$^n$]\\nn: {popt[0]:5.4}\\nd': {d_linha}\\n$\\sigma$: {np.sqrt(np.diag(pcov))[0]:5.4}\",\n",
    "    color='red', marker='.')\n",
    "\n",
    "plt.title('Modelo de distribuição Rosin-Ramler-Bennet')\n",
    "plt.xlabel('Diâmetro peneira ($\\mu$m)')\n",
    "plt.axhline(0.632, color='black')\n",
    "plt.axvline(d_linha,color='black')\n",
    "plt.ylabel('X$_i$')\n",
    "plt.legend()\n",
    "plt.show()"
   ]
  },
  {
   "cell_type": "code",
   "execution_count": 114,
   "metadata": {},
   "outputs": [],
   "source": [
    "soma1 = 0\n",
    "soma3 = 0\n",
    "for i in range(1,len(d_i)):\n",
    "    soma1+= (x_i[i]/d_i[i])\n",
    "    soma3+= (x_i[i]/d_i[i]**3)"
   ]
  },
  {
   "cell_type": "code",
   "execution_count": 115,
   "metadata": {},
   "outputs": [],
   "source": [
    "d_sauter = 1/soma1\n",
    "d_2 = soma1/soma3\n",
    "d_3 = 1/soma3"
   ]
  },
  {
   "cell_type": "markdown",
   "metadata": {},
   "source": [
    "# Propriedades do Fluido"
   ]
  },
  {
   "cell_type": "code",
   "execution_count": 116,
   "metadata": {},
   "outputs": [
    {
     "data": {
      "text/plain": [
       "5450.584115284178"
      ]
     },
     "execution_count": 116,
     "metadata": {},
     "output_type": "execute_result"
    }
   ],
   "source": [
    "# d_sauter = 3586.68*10**-6\n",
    "d_sauter = d_sauter*10**-6\n",
    "densi_gas = 1.116\n",
    "temp = 43\n",
    "# densi_part = 557.10\n",
    "densi_part = 1217 #Aparente\n",
    "g = 9.81\n",
    "visc = 18*10**-6\n",
    "esf = 0.35\n",
    "# esf = 1\n",
    "d_sauter*10**6"
   ]
  },
  {
   "cell_type": "markdown",
   "metadata": {},
   "source": [
    "# Diâmetro de Sauter"
   ]
  },
  {
   "cell_type": "code",
   "execution_count": 117,
   "metadata": {},
   "outputs": [
    {
     "name": "stdout",
     "output_type": "stream",
     "text": [
      "Diâmetro de Sauter:  5450.58 microns\n"
     ]
    }
   ],
   "source": [
    "print(f'Diâmetro de Sauter: {d_sauter*10**6:8.6} microns')"
   ]
  },
  {
   "cell_type": "markdown",
   "metadata": {},
   "source": [
    "# Características do Equipamento/leito"
   ]
  },
  {
   "cell_type": "code",
   "execution_count": 118,
   "metadata": {},
   "outputs": [],
   "source": [
    "D_c = 0.25"
   ]
  },
  {
   "cell_type": "code",
   "execution_count": 119,
   "metadata": {},
   "outputs": [
    {
     "name": "stdout",
     "output_type": "stream",
     "text": [
      "Arquimedes: 6652876.69\n"
     ]
    }
   ],
   "source": [
    "Ar = (d_sauter**3) * densi_gas * (densi_part - densi_gas) * g/(visc**2)\n",
    "print(f'Arquimedes: {Ar:.9}')"
   ]
  },
  {
   "cell_type": "markdown",
   "metadata": {},
   "source": [
    "# Velocidade terminal"
   ]
  },
  {
   "cell_type": "code",
   "execution_count": 120,
   "metadata": {},
   "outputs": [],
   "source": [
    "def find_u_t(u_mf, d_p, densi_gas, visc, esf, g=9.81, err=0.0001):\n",
    "    from math import exp\n",
    "    i = 0\n",
    "    u_old = 10*u_mf\n",
    "    \n",
    "    while i < 100:\n",
    "        i += 1\n",
    "        Re_p = ((d_p*u_old*densi_gas)/(visc))\n",
    "        A = (1 + (8.1716*(exp(-4.0655*esf)))*Re_p**(0.0964+0.5565*esf)) \n",
    "        B = ((73.69*exp(-5.0748*esf)*Re_p)/(Re_p + 5.378*exp(6.2122*esf)))\n",
    "        Cd= ((24/Re_p)*A + B)\n",
    "        u_new = ((4*d_p*(densi_part-densi_gas)*g)/(3*densi_gas*Cd))**(1/2)\n",
    "        \n",
    "        dif = abs((u_new-u_old)/u_new)\n",
    "        \n",
    "        if dif < err:\n",
    "#             print(Re_p)\n",
    "            break\n",
    "        u_old = u_new\n",
    "    return u_new, Cd"
   ]
  },
  {
   "cell_type": "code",
   "execution_count": 121,
   "metadata": {},
   "outputs": [],
   "source": [
    "Ks = {\n",
    "    'Wen': (33.7, 0.0408),\n",
    "    'Richardson': (25.7, 0.0365),\n",
    "    'Saxena': (25.3, 0.0571),\n",
    "    'Babu': (25.3, 0.0651),\n",
    "    'Grace': (27.2, 0.0408),\n",
    "    'Chitester': (28.7, 0.0494),\n",
    "    'Tannous': (25.83, 0.043)\n",
    "}"
   ]
  },
  {
   "cell_type": "code",
   "execution_count": 122,
   "metadata": {},
   "outputs": [
    {
     "name": "stdout",
     "output_type": "stream",
     "text": [
      "Número de Arquimedes:  6652876.7\n",
      "Diâmetro utilizado:  5450.58\n",
      "Autor\t\tK1\tK2\t\tRe\t\tUₘ (m/s)\tUt (m/s)\tCd\n",
      "Wen     \t33.7\t0.0408\t\t 488.385\t  1.4452\t 2.51892\t12.2419\n",
      "Richardson\t25.7\t0.0365\t\t 467.748\t 1.38413\t 2.51892\t12.2419\n",
      "Saxena  \t25.3\t0.0571\t\t 591.563\t 1.75052\t 2.51892\t12.2419\n",
      "Babu    \t25.3\t0.0651\t\t 633.291\t   1.874\t 2.51892\t12.2419\n",
      "Grace   \t27.2\t0.0408\t\t 494.506\t 1.46331\t 2.51892\t12.2419\n",
      "Chitester\t28.7\t0.0494\t\t   545.3\t 1.61362\t 2.51892\t12.2419\n",
      "Tannous \t25.83\t0.043\t\t 509.652\t 1.50813\t 2.51892\t12.2419\n",
      "Velocidade mínima de fluidização (Tannous): 1.50813\n"
     ]
    }
   ],
   "source": [
    "print(f'Número de Arquimedes: {Ar:10.8}')\n",
    "print(f'Diâmetro utilizado: {d_sauter*10**6:8.6}')\n",
    "print('Autor\\t\\tK1\\tK2\\t\\tRe\\t\\tUₘ (m/s)\\tUt (m/s)\\tCd')\n",
    "for autor in Ks:\n",
    "    K1 = Ks[autor][0]\n",
    "    K2 = Ks[autor][1]\n",
    "    Re_pmf = ((K1)**2 + K2*Ar)**(1/2) - K1\n",
    "    u_mf = ((Re_pmf * visc)/(d_sauter*densi_gas))\n",
    "    u_t, cd = find_u_t(u_mf, d_sauter, densi_gas, visc, esf, g=9.81)\n",
    "    if autor == 'Tannous':\n",
    "        Umf = u_mf\n",
    "    print(f'{autor:8}\\t{K1}\\t{K2}\\t\\t{Re_pmf:8.6}\\t{u_mf:8.6}\\t{u_t:8.6}\\t{cd:.6}')\n",
    "\n",
    "print(f'Velocidade mínima de fluidização (Tannous): {Umf:.6}')"
   ]
  },
  {
   "cell_type": "code",
   "execution_count": 123,
   "metadata": {},
   "outputs": [
    {
     "name": "stdout",
     "output_type": "stream",
     "text": [
      "Ufi: 1.455\tUs:1.508\tUfc:1.517\n"
     ]
    }
   ],
   "source": [
    "Ufi = Umf*(1 - 0.49*np.exp(-0.22*n))\n",
    "Ufc = Umf*(1 + 1.05*np.exp(-0.43*n))\n",
    "Us = Umf*(1 + 0.56*np.exp(-1.09*n))\n",
    "print(f'Ufi: {Ufi:5.4}\\tUs:{Us:5.4}\\tUfc:{Ufc:5.4}')"
   ]
  },
  {
   "cell_type": "markdown",
   "metadata": {},
   "source": [
    "# Velocidade para cada diâmetro considerando polidispersa"
   ]
  },
  {
   "cell_type": "code",
   "execution_count": 124,
   "metadata": {},
   "outputs": [
    {
     "name": "stdout",
     "output_type": "stream",
     "text": [
      "Diâmetro\tFração\t\tRe\t\tUₘ (m/s)\tUt (m/s)\n",
      "  5689.5\t     0.0 %\t 545.162\t 1.54547\t 2.57151\n",
      "  4013.0\t  89.615 %\t 313.048\t  1.2582\t 2.17738\n",
      "  1663.5\t  10.417 %\t  67.976\t0.659084\t 1.46739\n"
     ]
    }
   ],
   "source": [
    "Ufc_poli = 0 \n",
    "print('Diâmetro\\tFração\\t\\tRe\\t\\tUₘ (m/s)\\tUt (m/s)')\n",
    "for i in range(len(peneiras)-1):\n",
    "    sup = peneiras[i]\n",
    "#     print(sup)\n",
    "    inf = peneiras[i+1]\n",
    "    d_p = ((sup+inf)/2)*10**-6\n",
    "    Ar_temp = (d_p**3) * densi_gas * (densi_part - densi_gas) * g/(visc**2)\n",
    "    Re_pmf = ((25.83)**2 + 0.043*Ar_temp)**(1/2) - 25.83\n",
    "    u_mf = ((Re_pmf * visc)/(d_p*densi_gas))\n",
    "    u_t, cd = find_u_t(u_mf, d_p, densi_gas, visc, esf, g=9.81)\n",
    "    Ufc_poli += x_i[i]*u_mf\n",
    "    \n",
    "    print(f'{d_p*10**6:8.6}\\t{x_i[i]*100:8.5} %\\t{Re_pmf:8.6}\\t{u_mf:8.6}\\t{u_t:8.6}')"
   ]
  },
  {
   "cell_type": "code",
   "execution_count": 125,
   "metadata": {},
   "outputs": [
    {
     "name": "stdout",
     "output_type": "stream",
     "text": [
      "Ufc_poli: 1.196\n"
     ]
    }
   ],
   "source": [
    "print(f'Ufc_poli: {Ufc_poli:5.4}')"
   ]
  },
  {
   "cell_type": "markdown",
   "metadata": {},
   "source": [
    "# Resultados"
   ]
  },
  {
   "cell_type": "code",
   "execution_count": 126,
   "metadata": {},
   "outputs": [
    {
     "name": "stdout",
     "output_type": "stream",
     "text": [
      "Diâmetro\tFração\t\tCumulativo\tRe\t\tUₘ (m/s)\tUt (m/s)\n",
      "  5689.5\t  89.615 %\t   100.0 %\t 545.162\t 1.54547\t 2.57151\n",
      "  4013.0\t  10.417 %\t  10.413 %\t 313.048\t  1.2582\t 2.17738\n",
      "  1663.5\t     0.0 %\t     0.0 %\t  67.976\t0.659084\t 1.46739\n",
      "\n",
      "\n",
      "\n",
      "\n",
      "\n",
      "\n",
      "\n",
      "Número de Arquimedes:  6652876.7\n",
      "Diâmetro utilizado:  5450.58\n",
      "Autor\t\tK1\tK2\t\tRe\t\tUₘ (m/s)\tUt (m/s)\tCd\n",
      "Wen     \t33.7\t0.0408\t\t 488.385\t  1.4452\t 2.51892\t12.2419\n",
      "Richardson\t25.7\t0.0365\t\t 467.748\t 1.38413\t 2.51892\t12.2419\n",
      "Saxena  \t25.3\t0.0571\t\t 591.563\t 1.75052\t 2.51892\t12.2419\n",
      "Babu    \t25.3\t0.0651\t\t 633.291\t   1.874\t 2.51892\t12.2419\n",
      "Grace   \t27.2\t0.0408\t\t 494.506\t 1.46331\t 2.51892\t12.2419\n",
      "Chitester\t28.7\t0.0494\t\t   545.3\t 1.61362\t 2.51892\t12.2419\n",
      "Tannous \t25.83\t0.043\t\t 509.652\t 1.50813\t 2.51892\t12.2419\n",
      "Velocidade mínima de fluidização (Tannous): 1.50813\n",
      "\n",
      "\n",
      "\n",
      "\n",
      "\n",
      "\n",
      "\n",
      "Ufi: 1.455\tUs:1.508\tUfc:1.517\n",
      "\n",
      "\n",
      "\n",
      "\n",
      "\n",
      "\n",
      "\n",
      "Ufc_poli: 1.196\n"
     ]
    }
   ],
   "source": [
    "Ufc_poli = 0 \n",
    "print('Diâmetro\\tFração\\t\\tCumulativo\\tRe\\t\\tUₘ (m/s)\\tUt (m/s)')\n",
    "for i in range(len(peneiras)-1):\n",
    "    sup = peneiras[i]\n",
    "#     print(sup)\n",
    "    inf = peneiras[i+1]\n",
    "    d_p = ((sup+inf)/2)*10**-6\n",
    "    Ar_temp = (d_p**3) * densi_gas * (densi_part - densi_gas) * g/(visc**2)\n",
    "    Re_pmf = ((25.83)**2 + 0.043*Ar_temp)**(1/2) - 25.83\n",
    "    u_mf = ((Re_pmf * visc)/(d_p*densi_gas))\n",
    "    u_t, cd = find_u_t(u_mf, d_p, densi_gas, visc, esf, g=9.81)\n",
    "    Ufc_poli += x_i[i]*u_mf\n",
    "    \n",
    "    print(f'{d_p*10**6:8.6}\\t{x_i[i+1]*100:8.5} %\\t{X_i[i+1]*100:8.5} %\\t{Re_pmf:8.6}\\t{u_mf:8.6}\\t{u_t:8.6}')\n",
    "\n",
    "print('\\n\\n\\n\\n\\n\\n')\n",
    "\n",
    "print(f'Número de Arquimedes: {Ar:10.8}')\n",
    "print(f'Diâmetro utilizado: {d_sauter*10**6:8.6}')\n",
    "print('Autor\\t\\tK1\\tK2\\t\\tRe\\t\\tUₘ (m/s)\\tUt (m/s)\\tCd')\n",
    "for autor in Ks:\n",
    "    K1 = Ks[autor][0]\n",
    "    K2 = Ks[autor][1]\n",
    "    Re_pmf = ((K1)**2 + K2*Ar)**(1/2) - K1\n",
    "    u_mf = ((Re_pmf * visc)/(d_sauter*densi_gas))\n",
    "    u_t, cd = find_u_t(u_mf, d_sauter, densi_gas, visc, esf, g=9.81)\n",
    "    if autor == 'Tannous':\n",
    "        Umf = u_mf\n",
    "    print(f'{autor:8}\\t{K1}\\t{K2}\\t\\t{Re_pmf:8.6}\\t{u_mf:8.6}\\t{u_t:8.6}\\t{cd:.6}')\n",
    "\n",
    "print(f'Velocidade mínima de fluidização (Tannous): {Umf:.6}')\n",
    "\n",
    "\n",
    "\n",
    "print('\\n\\n\\n\\n\\n\\n')\n",
    "Ufi = Umf*(1 - 0.49*np.exp(-0.22*n))\n",
    "Ufc = Umf*(1 + 1.05*np.exp(-0.43*n))\n",
    "Us = Umf*(1 + 0.56*np.exp(-1.09*n))\n",
    "print(f'Ufi: {Ufi:5.4}\\tUs:{Us:5.4}\\tUfc:{Ufc:5.4}')\n",
    "print('\\n\\n\\n\\n\\n\\n')\n",
    "\n",
    "print(f'Ufc_poli: {Ufc_poli:5.4}')"
   ]
  },
  {
   "cell_type": "markdown",
   "metadata": {},
   "source": [
    "# Todas as peneiras"
   ]
  },
  {
   "cell_type": "raw",
   "metadata": {},
   "source": [
    "# distribuição normal\n",
    "Diâmetro\tFração\t\tCumulativo\tRe\t\tUₘ (m/s)\tUt (m/s)\n",
    "  5689.5\t  26.041 %\t   100.0 %\t 545.162\t 1.54547\t 2.57151\n",
    "  4013.0\t  45.684 %\t  73.964 %\t 313.048\t  1.2582\t 2.17738\n",
    "  2844.5\t  19.482 %\t  28.288 %\t 177.461\t 1.00625\t 1.85717\n",
    "  2006.5\t  6.4164 %\t  8.8099 %\t 96.3935\t0.774849\t 1.59055\n",
    "  1409.5\t  1.8052 %\t  2.3946 %\t 49.0981\t0.561833\t 1.36815\n",
    "  1000.5\t 0.41108 %\t 0.58971 %\t 23.5307\t0.379338\t 1.18443\n",
    "   711.0\t 0.17873 %\t  0.1787 %\t 10.2555\t0.232647\t 1.01703\n",
    "   294.5\t     0.0 %\t     0.0 %\t0.859185\t0.0470554\t0.552301\n",
    "\n",
    "\n",
    "\n",
    "\n",
    "\n",
    "\n",
    "\n",
    "Número de Arquimedes:  1881498.5\n",
    "Diâmetro utilizado:  3577.73\n",
    "Autor\t\tK1\tK2\t\tRe\t\tUₘ (m/s)\tUt (m/s)\tCd\n",
    "Wen     \t33.7\t0.0408\t\t 245.407\t 1.10634\t 2.06356\t11.9732\n",
    "Richardson\t25.7\t0.0365\t\t 237.616\t 1.07121\t 2.06356\t11.9732\n",
    "Saxena  \t25.3\t0.0571\t\t 303.446\t 1.36798\t 2.06356\t11.9732\n",
    "Babu    \t25.3\t0.0651\t\t 325.593\t 1.46783\t 2.06356\t11.9732\n",
    "Grace   \t27.2\t0.0408\t\t 251.197\t 1.13244\t 2.06356\t11.9732\n",
    "Chitester\t28.7\t0.0494\t\t 277.518\t  1.2511\t 2.06356\t11.9732\n",
    "Tannous \t25.83\t0.043\t\t 259.777\t 1.17112\t 2.06356\t11.9732\n",
    "Velocidade mínima de fluidização (Tannous): 1.17112\n",
    "\n",
    "\n",
    "\n",
    "\n",
    "\n",
    "\n",
    "\n",
    "Ufi: 0.9318\tUs: 1.18\tUfc:1.394\n",
    "\n",
    "\n",
    "\n",
    "\n",
    "\n",
    "\n",
    "\n",
    "Ufc_poli: 0.9822"
   ]
  },
  {
   "cell_type": "markdown",
   "metadata": {},
   "source": [
    "# Peneiras Maiores"
   ]
  },
  {
   "cell_type": "raw",
   "metadata": {},
   "source": [
    "Diâmetro\tFração\t\tCumulativo\tRe\t\tUₘ (m/s)\tUt (m/s)\n",
    "  5689.5\t  89.615 %\t   100.0 %\t 545.162\t 1.54547\t 2.57151\n",
    "  4013.0\t  10.417 %\t  10.413 %\t 313.048\t  1.2582\t 2.17738\n",
    "  1663.5\t     0.0 %\t     0.0 %\t  67.976\t0.659084\t 1.46739\n",
    "\n",
    "\n",
    "\n",
    "\n",
    "\n",
    "\n",
    "\n",
    "Número de Arquimedes:  6652876.7\n",
    "Diâmetro utilizado:  5450.58\n",
    "Autor\t\tK1\tK2\t\tRe\t\tUₘ (m/s)\tUt (m/s)\tCd\n",
    "Wen     \t33.7\t0.0408\t\t 488.385\t  1.4452\t 2.51892\t12.2419\n",
    "Richardson\t25.7\t0.0365\t\t 467.748\t 1.38413\t 2.51892\t12.2419\n",
    "Saxena  \t25.3\t0.0571\t\t 591.563\t 1.75052\t 2.51892\t12.2419\n",
    "Babu    \t25.3\t0.0651\t\t 633.291\t   1.874\t 2.51892\t12.2419\n",
    "Grace   \t27.2\t0.0408\t\t 494.506\t 1.46331\t 2.51892\t12.2419\n",
    "Chitester\t28.7\t0.0494\t\t   545.3\t 1.61362\t 2.51892\t12.2419\n",
    "Tannous \t25.83\t0.043\t\t 509.652\t 1.50813\t 2.51892\t12.2419\n",
    "Velocidade mínima de fluidização (Tannous): 1.50813\n",
    "\n",
    "\n",
    "\n",
    "\n",
    "\n",
    "\n",
    "\n",
    "Ufi: 1.455\tUs:1.508\tUfc:1.517\n",
    "\n",
    "\n",
    "\n",
    "\n",
    "\n",
    "\n",
    "\n",
    "Ufc_poli: 1.196"
   ]
  },
  {
   "cell_type": "markdown",
   "metadata": {},
   "source": [
    "# Peneiras Menores"
   ]
  },
  {
   "cell_type": "raw",
   "metadata": {},
   "source": [
    "Diâmetro\tFração\t\tCumulativo\tRe\t\tUₘ (m/s)\tUt (m/s)\n",
    "  2844.5\t  70.387 %\t   100.0 %\t 177.461\t 1.00625\t 1.85717\n",
    "  2006.5\t  26.305 %\t  29.641 %\t 96.3935\t0.774849\t 1.59055\n",
    "  1409.5\t   3.069 %\t  3.3466 %\t 49.0981\t0.561833\t 1.36815\n",
    "  1000.5\t 0.23914 %\t 0.27888 %\t 23.5307\t0.379338\t 1.18443\n",
    "   711.0\t0.039857 %\t0.039841 %\t 10.2555\t0.232647\t 1.01703\n",
    "   294.5\t     0.0 %\t     0.0 %\t0.859185\t0.0470554\t0.552301\n",
    "\n",
    "\n",
    "\n",
    "\n",
    "\n",
    "\n",
    "\n",
    "Número de Arquimedes:  626446.71\n",
    "Diâmetro utilizado:  2479.71\n",
    "Autor\t\tK1\tK2\t\tRe\t\tUₘ (m/s)\tUt (m/s)\tCd\n",
    "Wen     \t33.7\t0.0408\t\t 129.685\t0.843524\t 1.74596\t11.5922\n",
    "Richardson\t25.7\t0.0365\t\t 127.681\t0.830489\t 1.74596\t11.5922\n",
    "Saxena  \t25.3\t0.0571\t\t 165.515\t 1.07657\t 1.74596\t11.5922\n",
    "Babu    \t25.3\t0.0651\t\t 178.223\t 1.15924\t 1.74596\t11.5922\n",
    "Grace   \t27.2\t0.0408\t\t 134.969\t0.877894\t 1.74596\t11.5922\n",
    "Chitester\t28.7\t0.0494\t\t 149.542\t 0.97268\t 1.74596\t11.5922\n",
    "Tannous \t25.83\t0.043\t\t 140.316\t0.912669\t 1.74596\t11.5922\n",
    "Velocidade mínima de fluidização (Tannous): 0.912669\n",
    "\n",
    "\n",
    "\n",
    "\n",
    "\n",
    "\n",
    "\n",
    "Ufi: 0.803\tUs:0.9132\tUfc:0.9741\n",
    "\n",
    "\n",
    "\n",
    "\n",
    "\n",
    "\n",
    "\n",
    "Ufc_poli: 0.7054\n",
    "\n"
   ]
  },
  {
   "cell_type": "code",
   "execution_count": 127,
   "metadata": {},
   "outputs": [
    {
     "data": {
      "text/html": [
       "<div>\n",
       "<style scoped>\n",
       "    .dataframe tbody tr th:only-of-type {\n",
       "        vertical-align: middle;\n",
       "    }\n",
       "\n",
       "    .dataframe tbody tr th {\n",
       "        vertical-align: top;\n",
       "    }\n",
       "\n",
       "    .dataframe thead th {\n",
       "        text-align: right;\n",
       "    }\n",
       "</style>\n",
       "<table border=\"1\" class=\"dataframe\">\n",
       "  <thead>\n",
       "    <tr style=\"text-align: right;\">\n",
       "      <th></th>\n",
       "      <th>0</th>\n",
       "      <th>1</th>\n",
       "      <th>2</th>\n",
       "      <th>3</th>\n",
       "    </tr>\n",
       "  </thead>\n",
       "  <tbody>\n",
       "    <tr>\n",
       "      <th>Diâmetro peneira ($\\mu$m)</th>\n",
       "      <td>6680.0</td>\n",
       "      <td>4699.000000</td>\n",
       "      <td>3327.000000</td>\n",
       "      <td>0.0</td>\n",
       "    </tr>\n",
       "    <tr>\n",
       "      <th>Massa Retida (g)</th>\n",
       "      <td>0.0</td>\n",
       "      <td>2839.000000</td>\n",
       "      <td>330.000000</td>\n",
       "      <td>0.0</td>\n",
       "    </tr>\n",
       "    <tr>\n",
       "      <th>Frequência Ponderal</th>\n",
       "      <td>0.0</td>\n",
       "      <td>89.614899</td>\n",
       "      <td>10.416667</td>\n",
       "      <td>0.0</td>\n",
       "    </tr>\n",
       "    <tr>\n",
       "      <th>Fração Acumulada</th>\n",
       "      <td>100.0</td>\n",
       "      <td>100.000000</td>\n",
       "      <td>10.413380</td>\n",
       "      <td>0.0</td>\n",
       "    </tr>\n",
       "    <tr>\n",
       "      <th>Diâmetro médio ($\\mu$m)</th>\n",
       "      <td>NaN</td>\n",
       "      <td>5689.500000</td>\n",
       "      <td>4013.000000</td>\n",
       "      <td>1663.5</td>\n",
       "    </tr>\n",
       "  </tbody>\n",
       "</table>\n",
       "</div>"
      ],
      "text/plain": [
       "                                0            1            2       3\n",
       "Diâmetro peneira ($\\mu$m)  6680.0  4699.000000  3327.000000     0.0\n",
       "Massa Retida (g)              0.0  2839.000000   330.000000     0.0\n",
       "Frequência Ponderal           0.0    89.614899    10.416667     0.0\n",
       "Fração Acumulada            100.0   100.000000    10.413380     0.0\n",
       "Diâmetro médio ($\\mu$m)       NaN  5689.500000  4013.000000  1663.5"
      ]
     },
     "execution_count": 127,
     "metadata": {},
     "output_type": "execute_result"
    }
   ],
   "source": [
    "df"
   ]
  },
  {
   "cell_type": "raw",
   "metadata": {},
   "source": [
    "Diâmetro\tFração\t\tCumulativo\tRe\t\tUₘ (m/s)\tUt (m/s)\n",
    "  5689.5\t    50.0 %\t   100.0 %\t 545.162\t 1.54547\t 2.57151\n",
    "  4013.0\t  5.8119 %\t  50.009 %\t 313.048\t  1.2582\t 2.17738\n",
    "  2844.5\t  31.103 %\t  44.198 %\t 177.461\t 1.00625\t 1.85717\n",
    "  2006.5\t  11.624 %\t  13.101 %\t 96.3935\t0.774849\t 1.59055\n",
    "  1409.5\t  1.3561 %\t  1.4791 %\t 49.0981\t0.561833\t 1.36815\n",
    "  1000.5\t 0.10567 %\t 0.12326 %\t 23.5307\t0.379338\t 1.18443\n",
    "   711.0\t0.017612 %\t0.017609 %\t 10.2555\t0.232647\t 1.01703\n",
    "   294.5\t     0.0 %\t     0.0 %\t0.859185\t0.0470554\t0.552301"
   ]
  },
  {
   "cell_type": "code",
   "execution_count": 128,
   "metadata": {},
   "outputs": [],
   "source": [
    "# Imergíveis\n",
    "# Emergíveis\n",
    "\n",
    "di =(6680+4699)/2\n",
    "\n",
    "xi = .59\n",
    "de = (3327+2362)/2\n",
    "\n",
    "xe = .41"
   ]
  },
  {
   "cell_type": "code",
   "execution_count": 129,
   "metadata": {},
   "outputs": [],
   "source": [
    "# Imergíveis\n",
    "# Emergíveis\n",
    "\n",
    "di = 5451.03 #por sauter\n",
    "# di = di*10**-6\n",
    "\n",
    "xi = 0.55811906\n",
    "\n",
    "\n",
    "de = 2479.71\n",
    "# de = de*10**-6\n",
    "\n",
    "xe = 0.44188094  #por sauter"
   ]
  },
  {
   "cell_type": "code",
   "execution_count": 130,
   "metadata": {},
   "outputs": [
    {
     "data": {
      "text/plain": [
       "0.9692557981549274"
      ]
     },
     "execution_count": 130,
     "metadata": {},
     "output_type": "execute_result"
    }
   ],
   "source": [
    "R0 = xi*densi_part + xe*densi_part\n",
    "R1 = xi*densi_part*di + xe*densi_part*de\n",
    "\n",
    "densi_med = densi_part\n",
    "\n",
    "dm = di*de*(R0/R1)\n",
    "\n",
    "Ar = (dm**3) * densi_gas * (densi_med - densi_gas) * g/(visc**2)\n",
    "\n",
    "T_Uma = (visc/(dm*densi_med))*((19.2**2 + 0.032*Ar)**0.5 -19.9)\n",
    "T_Uma\n",
    "# dm"
   ]
  },
  {
   "cell_type": "code",
   "execution_count": 131,
   "metadata": {},
   "outputs": [
    {
     "data": {
      "text/plain": [
       "0.9687127300554066"
      ]
     },
     "execution_count": 131,
     "metadata": {},
     "output_type": "execute_result"
    }
   ],
   "source": [
    "# Mais pessado é o I\n",
    "\n",
    "\n",
    "M0 = xi*densi_part + xe*densi_part\n",
    "M1 =  xe*densi_part*di + xi*densi_part*de\n",
    "\n",
    "densi_med = densi_part\n",
    "\n",
    "dm = di*de*(M0/M1)*10**-5.16\n",
    "\n",
    "Ar = (dm**3) * densi_gas * (densi_med - densi_gas) * g/(visc**2)\n",
    "\n",
    "M_Uma = (visc/(dm*densi_med))*((5.5210**-4 )* (Ar**1.044))\n",
    "M_Uma\n",
    "# Ar\n",
    "# M0\n",
    "# M1\n",
    "# dm*10**3"
   ]
  },
  {
   "cell_type": "raw",
   "metadata": {},
   "source": [
    "# Imergíveis\n",
    "# Emergíveis\n",
    "\n",
    "di = 5451.03 #por sauter\n",
    "di = di*10**-6\n",
    "\n",
    "xi = .50\n",
    "\n",
    "\n",
    "de = 2479.71\n",
    "de = de*10**-6\n",
    "\n",
    "xe = .30  #por sauter"
   ]
  },
  {
   "cell_type": "code",
   "execution_count": null,
   "metadata": {},
   "outputs": [],
   "source": []
  }
 ],
 "metadata": {
  "kernelspec": {
   "display_name": "Python 3",
   "language": "python",
   "name": "python3"
  },
  "language_info": {
   "codemirror_mode": {
    "name": "ipython",
    "version": 3
   },
   "file_extension": ".py",
   "mimetype": "text/x-python",
   "name": "python",
   "nbconvert_exporter": "python",
   "pygments_lexer": "ipython3",
   "version": "3.7.3"
  }
 },
 "nbformat": 4,
 "nbformat_minor": 4
}
