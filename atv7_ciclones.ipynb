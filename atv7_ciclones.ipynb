{
 "cells": [
  {
   "cell_type": "markdown",
   "metadata": {},
   "source": [
    "# Atividade 7 EQ024: Tecnologia da Fluidização"
   ]
  },
  {
   "cell_type": "markdown",
   "metadata": {},
   "source": [
    "## Aluno: João Eduardo Levandoski"
   ]
  },
  {
   "cell_type": "markdown",
   "metadata": {},
   "source": [
    "# Seguindo as recomendações do professor da FURG"
   ]
  },
  {
   "cell_type": "markdown",
   "metadata": {},
   "source": [
    "## Passos (TUDO SI)\n",
    "## [Parte 1 - Encontrar o $D_c$](#Parte-1---Encontrar-o-Dc)\n",
    "\n",
    " 1. Conhecer as propriedades e qual distribuição granulométrica a amostra segue;\n",
    " 1. Saber qual tipo de ciclone será utilizado;\n",
    " 1. Sabendo a vazão, temos que supor uma velocidade de entrada entre $5 < v_e (m/s) < 20$ no caso do Lapple;\n",
    " 1. Supor uma eficiência normalmente de 80 %;\n",
    " 1. Usar o gráfico condizente com com a distribuição escolhida para encontrar o diâmetro de corte;\n",
    " 1. Usando a Eq de projeto, encontramos $D_c$;\n",
    "     - $d_{pc} = \\bigg(\\frac{9 \\mu B_c}{10 \\pi v_e (\\rho_{part} - \\rho_{gas})}\\bigg)^{\\frac{1}{2}}$;\n",
    "     - $Q = v_e A_e$\n",
    "     - $A_e = 2B_c^2$;\n",
    "     - Recomendo usar uma função encontrar zeros aqui (Solver), pois é chato isolar o $B_c$;\n",
    " 1. Calcular o $D_c$.\n",
    "     - $D_c = 4B_c$\n",
    " \n",
    "### [Parte 2 - Encontrar o número de ciclones](#Parte-2---Encontrar-o-numero-de-ciclones)\n",
    "\n",
    " 1. Com a velocidade e o $D_c$ podemos encontrar a vazão de cada ciclone;\n",
    " 1. O N será a divisão da vazão total pela vazão individual;\n",
    "    - $N = \\frac{Q_t}{Q}$;\n",
    " 1. Após isso arredondar para mais ou para menos o número de ciclones;\n",
    " 1. Calcular a nova vazão;\n",
    "    - $Q = \\frac{Q_t}{N}$;\n",
    " 1. Usando a Eq de projeto calcular o novo diâmetro;\n",
    "     - Mantendo o mesmo $d_{pc}$;\n",
    "     - $d_{pc} = \\bigg(\\frac{9 \\mu B_c}{10 \\pi v_e (\\rho_{part} - \\rho_{gas})}\\bigg)^{\\frac{1}{2}}$;\n",
    " 1. Calcular a nova $v_e$;\n",
    "     - $v_e = \\frac{Q}{A_e}$;\n",
    "     - Ver se a $v_e$ está dentro do limite.\n",
    "\n",
    "### [Parte 3 - Encontrar a perda de carga](#Parte-3---Encontrar-a-perda-de-carga)\n",
    "\n",
    " 1. Calcular a perda de carga (Pa);\n",
    "     - $\\beta = \\frac{\\Delta P}{\\rho_g \\frac{v_c^2}{v}}$\n",
    "     - $v_c = \\frac{Q_i}{\\frac{\\pi D_c^2}{4}}$\n",
    "     - $\\beta = 315$ - padrão Lapple\n",
    "\n",
    "### [Parte 4 - Encontrar a potência do soprador](#Parte-4---Encontrar-a-potencia-do-soprador)\n",
    " 1. $Pot_p = Q_{total} \\frac{\\Delta P_1}{\\eta} (W)$"
   ]
  },
  {
   "cell_type": "code",
   "execution_count": 1,
   "metadata": {},
   "outputs": [],
   "source": [
    "from math import pi, ceil\n",
    "import numpy as np"
   ]
  },
  {
   "cell_type": "code",
   "execution_count": 2,
   "metadata": {},
   "outputs": [
    {
     "data": {
      "text/plain": [
       "5.743224069843841"
      ]
     },
     "execution_count": 2,
     "metadata": {},
     "output_type": "execute_result"
    }
   ],
   "source": [
    "umf = 1.17 # Tannous\n",
    "u = 100*umf # pq a vazão estava muito baixa\n",
    "d_sauter = 3586.68*10**-6 # está em metros\n",
    "d_med = d_sauter\n",
    "densi_gas = 1.116\n",
    "densi_part = 1217 #Real\n",
    "densi_part_apa = 557.10\n",
    "densi_h2o = 1000\n",
    "g = 9.81\n",
    "visc = 18*10**-6\n",
    "D_c = 0.25 \n",
    "A_sec = (pi*D_c**2)/4\n",
    "Ne = 5\n",
    "Q_t = A_sec*u\n",
    "Q_t"
   ]
  },
  {
   "cell_type": "code",
   "execution_count": 3,
   "metadata": {},
   "outputs": [],
   "source": [
    "def zero(a=0, b=1, err=1e-5, max_inter=100):\n",
    "    n = 0\n",
    "    \n",
    "    if func(a) * func(b) > 0:\n",
    "        print('Intervalo inválido')\n",
    "        return None\n",
    "\n",
    "    while n < max_inter:\n",
    "        if n == 0:\n",
    "            new_ant = b\n",
    "        new = (a+b)/2\n",
    "#         print(func(new), new, a,b,n)\n",
    "        if func(new) == 0.0 or abs((new - new_ant)/new) < err:\n",
    "            # print(func(new), new, n)\n",
    "            return new\n",
    "        elif func(a) * func(new) < 0:\n",
    "            b = new\n",
    "        else:\n",
    "            a = new\n",
    "\n",
    "        new_ant = new\n",
    "        n += 1\n",
    "\n",
    "    print(f'Excedeu o número de interações máximo. ({max_inter} {n})')\n",
    "    return None"
   ]
  },
  {
   "cell_type": "markdown",
   "metadata": {},
   "source": [
    "# Parte 1 - Encontrar o Dc\n",
    "## Neste caso eu encontrei o Bc primeiro"
   ]
  },
  {
   "cell_type": "markdown",
   "metadata": {},
   "source": [
    "![rrb_n](rrb_n.png)"
   ]
  },
  {
   "cell_type": "code",
   "execution_count": 21,
   "metadata": {},
   "outputs": [
    {
     "data": {
      "text/plain": [
       "1.347608695652174e-06"
      ]
     },
     "execution_count": 21,
     "metadata": {},
     "output_type": "execute_result"
    }
   ],
   "source": [
    "# tomando eficiencia como = 0.8\n",
    "# meu n = 3.975\n",
    "d_linha = 3099.5e-9 #diametros maiores dá errado, tive que mentir meu d_linha\n",
    "\n",
    "dpc = d_linha/2.3\n",
    "dpc"
   ]
  },
  {
   "cell_type": "code",
   "execution_count": 22,
   "metadata": {},
   "outputs": [],
   "source": [
    "def func(Bc):\n",
    "    return - dpc + (0.095*((9*visc*Bc)/((10*pi*ve*(densi_part - densi_gas))))**(1/2))"
   ]
  },
  {
   "cell_type": "code",
   "execution_count": 23,
   "metadata": {},
   "outputs": [
    {
     "data": {
      "text/plain": [
       "0.4741668701171875"
      ]
     },
     "execution_count": 23,
     "metadata": {},
     "output_type": "execute_result"
    }
   ],
   "source": [
    "ve = 10\n",
    "Bc = zero(a=0, b=100, err=1e-3)\n",
    "Bc"
   ]
  },
  {
   "cell_type": "code",
   "execution_count": 24,
   "metadata": {},
   "outputs": [
    {
     "data": {
      "text/plain": [
       "1.89666748046875"
      ]
     },
     "execution_count": 24,
     "metadata": {},
     "output_type": "execute_result"
    }
   ],
   "source": [
    "Dc = 4*Bc\n",
    "Dc"
   ]
  },
  {
   "cell_type": "markdown",
   "metadata": {},
   "source": [
    "# Parte 2 - Encontrar o numero de ciclones"
   ]
  },
  {
   "cell_type": "code",
   "execution_count": 25,
   "metadata": {},
   "outputs": [
    {
     "data": {
      "text/plain": [
       "4.496684414334595"
      ]
     },
     "execution_count": 25,
     "metadata": {},
     "output_type": "execute_result"
    }
   ],
   "source": [
    "Q_c = ve*0.5*0.25*Dc**2\n",
    "Q_c"
   ]
  },
  {
   "cell_type": "code",
   "execution_count": 26,
   "metadata": {},
   "outputs": [
    {
     "data": {
      "text/plain": [
       "1.2772130620364437"
      ]
     },
     "execution_count": 26,
     "metadata": {},
     "output_type": "execute_result"
    }
   ],
   "source": [
    "N = Q_t/Q_c\n",
    "N"
   ]
  },
  {
   "cell_type": "code",
   "execution_count": 27,
   "metadata": {},
   "outputs": [
    {
     "data": {
      "text/plain": [
       "2"
      ]
     },
     "execution_count": 27,
     "metadata": {},
     "output_type": "execute_result"
    }
   ],
   "source": [
    "N = ceil(N)\n",
    "N"
   ]
  },
  {
   "cell_type": "code",
   "execution_count": 28,
   "metadata": {},
   "outputs": [
    {
     "data": {
      "text/plain": [
       "2.8716120349219203"
      ]
     },
     "execution_count": 28,
     "metadata": {},
     "output_type": "execute_result"
    }
   ],
   "source": [
    "Q1 = Q_t/N\n",
    "Q1"
   ]
  },
  {
   "cell_type": "code",
   "execution_count": 29,
   "metadata": {},
   "outputs": [],
   "source": [
    "def func(Bc):\n",
    "    ve = Q1/(2*Bc**2)\n",
    "    return - dpc + (0.095*((9*visc*Bc)/((10*pi*ve*(densi_part - densi_gas))))**(1/2))"
   ]
  },
  {
   "cell_type": "code",
   "execution_count": 30,
   "metadata": {},
   "outputs": [
    {
     "data": {
      "text/plain": [
       "0.4085640362930298"
      ]
     },
     "execution_count": 30,
     "metadata": {},
     "output_type": "execute_result"
    }
   ],
   "source": [
    "Bc1 = zero(a=1e-5, b=100, err=1e-3)\n",
    "Bc1"
   ]
  },
  {
   "cell_type": "code",
   "execution_count": 31,
   "metadata": {},
   "outputs": [
    {
     "data": {
      "text/plain": [
       "1.6342561451721191"
      ]
     },
     "execution_count": 31,
     "metadata": {},
     "output_type": "execute_result"
    }
   ],
   "source": [
    "Dc1 = 4*Bc1\n",
    "Dc1"
   ]
  },
  {
   "cell_type": "code",
   "execution_count": 32,
   "metadata": {},
   "outputs": [
    {
     "data": {
      "text/plain": [
       "8.601525841226598"
      ]
     },
     "execution_count": 32,
     "metadata": {},
     "output_type": "execute_result"
    }
   ],
   "source": [
    "ve1 = Q1/(2*Bc1**2)\n",
    "ve1"
   ]
  },
  {
   "cell_type": "markdown",
   "metadata": {},
   "source": [
    "# Parte 3 - Encontrar a perda de carga"
   ]
  },
  {
   "cell_type": "code",
   "execution_count": 33,
   "metadata": {},
   "outputs": [
    {
     "data": {
      "text/plain": [
       "315"
      ]
     },
     "execution_count": 33,
     "metadata": {},
     "output_type": "execute_result"
    }
   ],
   "source": [
    "beta = 315\n",
    "beta"
   ]
  },
  {
   "cell_type": "code",
   "execution_count": 17,
   "metadata": {},
   "outputs": [],
   "source": [
    "n = 0.5"
   ]
  },
  {
   "cell_type": "code",
   "execution_count": 18,
   "metadata": {},
   "outputs": [
    {
     "data": {
      "text/plain": [
       "1.3689753557638864"
      ]
     },
     "execution_count": 18,
     "metadata": {},
     "output_type": "execute_result"
    }
   ],
   "source": [
    "v_c = Q1/((pi*Dc1**2)/(4))\n",
    "v_c"
   ]
  },
  {
   "cell_type": "code",
   "execution_count": 19,
   "metadata": {},
   "outputs": [
    {
     "data": {
      "text/plain": [
       "164.70470941728038"
      ]
     },
     "execution_count": 19,
     "metadata": {},
     "output_type": "execute_result"
    }
   ],
   "source": [
    "P = beta*(densi_gas*v_c**2)/4\n",
    "P"
   ]
  },
  {
   "cell_type": "markdown",
   "metadata": {},
   "source": [
    "# Parte 4 - Encontrar a potencia do soprador"
   ]
  },
  {
   "cell_type": "code",
   "execution_count": 20,
   "metadata": {},
   "outputs": [
    {
     "data": {
      "text/plain": [
       "1891.8721030839204"
      ]
     },
     "execution_count": 20,
     "metadata": {},
     "output_type": "execute_result"
    }
   ],
   "source": [
    "Pot = Q_t * P/n\n",
    "Pot"
   ]
  }
 ],
 "metadata": {
  "kernelspec": {
   "display_name": "Python 3",
   "language": "python",
   "name": "python3"
  },
  "language_info": {
   "codemirror_mode": {
    "name": "ipython",
    "version": 3
   },
   "file_extension": ".py",
   "mimetype": "text/x-python",
   "name": "python",
   "nbconvert_exporter": "python",
   "pygments_lexer": "ipython3",
   "version": "3.7.3"
  }
 },
 "nbformat": 4,
 "nbformat_minor": 4
}
