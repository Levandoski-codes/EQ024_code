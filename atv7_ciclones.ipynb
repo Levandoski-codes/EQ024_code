{
 "cells": [
  {
   "cell_type": "markdown",
   "metadata": {},
   "source": [
    "# Atividade 7 EQ024: Tecnologia da Fluidização"
   ]
  },
  {
   "cell_type": "markdown",
   "metadata": {},
   "source": [
    "## Aluno: João Eduardo Levandoski"
   ]
  },
  {
   "cell_type": "code",
   "execution_count": 1,
   "metadata": {},
   "outputs": [],
   "source": [
    "from math import pi, ceil\n",
    "import numpy as np"
   ]
  },
  {
   "cell_type": "code",
   "execution_count": 2,
   "metadata": {},
   "outputs": [
    {
     "data": {
      "text/plain": [
       "3.51"
      ]
     },
     "execution_count": 2,
     "metadata": {},
     "output_type": "execute_result"
    }
   ],
   "source": [
    "umf = 1.17 # Tannous\n",
    "u = 3*umf\n",
    "# u = 2\n",
    "F = 15/3600  ##################### Foi um chute\n",
    "u"
   ]
  },
  {
   "cell_type": "code",
   "execution_count": 3,
   "metadata": {},
   "outputs": [],
   "source": [
    "L_mf = 0.203\n",
    "\n",
    "H = 1.15633 * L_mf"
   ]
  },
  {
   "cell_type": "code",
   "execution_count": 4,
   "metadata": {},
   "outputs": [],
   "source": [
    "d_sauter = 3586.68*10**-6\n",
    "d_med = d_sauter\n",
    "densi_gas = 1.116\n",
    "densi_part = 1217 #Real\n",
    "densi_part_apa = 557.10\n",
    "densi_h2o = 1000\n",
    "g = 9.81\n",
    "visc = 18*10**-6\n",
    "D_c = 0.25\n",
    "A_sec = (pi*D_c**2)/4\n",
    "Ne = 5\n",
    "Q = A_sec*u"
   ]
  },
  {
   "cell_type": "raw",
   "metadata": {},
   "source": [
    "b =((dpc**2)*2*pi*Ne*u*(densi_part-densi_gas)/(9*visc))\n",
    "b "
   ]
  },
  {
   "cell_type": "code",
   "execution_count": 5,
   "metadata": {},
   "outputs": [],
   "source": [
    "def _Dc(dpc, Q, densi_part, densi_gas, visc):\n",
    "    return (((dpc**2)*Q*(densi_part - densi_gas))/(visc*0.095**2))**(1/3)\n",
    "def _dpc(Dc, densi_part, densi_gas, u, Ne=5):\n",
    "    return ((9*visc*0.25*Dc)/((densi_part-densi_gas)*u*2*pi*Ne))**(1/2)"
   ]
  },
  {
   "cell_type": "code",
   "execution_count": 6,
   "metadata": {},
   "outputs": [],
   "source": [
    "def calc_dpc(D_c, densi_part, densi_gas, u, A_sec, visc, d_med):\n",
    "    i =0\n",
    "    Dc = D_c\n",
    "    u = umf*3\n",
    "    A_sec = 0.049\n",
    "    while True and i < 100:\n",
    "        i+=1\n",
    "\n",
    "        dpc = _dpc(Dc, densi_part, densi_gas, u, Ne=5)\n",
    "        Dc = _Dc(dpc, A_sec*u, densi_part, densi_gas, visc)\n",
    "        n = (1+ (1.25/((d_med/100)/dpc))**2.64)**(-2/3)\n",
    "        if i > 1:\n",
    "            erro = abs(dpc - dpc_ant)/dpc\n",
    "            if erro <= 1e-4:\n",
    "                break\n",
    "        dpc_ant = dpc\n",
    "        \n",
    "    return dpc, Dc"
   ]
  },
  {
   "cell_type": "markdown",
   "metadata": {},
   "source": [
    "# Passo 1 - distribuição"
   ]
  },
  {
   "cell_type": "code",
   "execution_count": 7,
   "metadata": {
    "jupyter": {
     "source_hidden": true
    }
   },
   "outputs": [],
   "source": [
    "d_p = np.array([6680,\n",
    "                4699,\n",
    "                3327,\n",
    "                2362,\n",
    "                1651,\n",
    "                1168,\n",
    "                833,\n",
    "                589,\n",
    "                0])\n",
    "\n",
    "x_i = np.array([0.,\n",
    "                0.2597611,\n",
    "                0.4556962,\n",
    "                0.19433054,\n",
    "                0.06400428,\n",
    "                0.01800677,\n",
    "                0.00410055,\n",
    "                0.00178285,\n",
    "                0.])"
   ]
  },
  {
   "cell_type": "markdown",
   "metadata": {},
   "source": [
    "# Passo 2 - Cálculo do d* (diâmetro de corte)"
   ]
  },
  {
   "cell_type": "code",
   "execution_count": 8,
   "metadata": {},
   "outputs": [
    {
     "data": {
      "text/plain": [
       "1.3724237986458393e-05"
      ]
     },
     "execution_count": 8,
     "metadata": {},
     "output_type": "execute_result"
    }
   ],
   "source": [
    "dpc, _ = calc_dpc(D_c, densi_part, densi_gas, u, A_sec, visc, d_med) # Fiz um recursão, mas nao sei se isso é verdadeiro\n",
    "dpc"
   ]
  },
  {
   "cell_type": "markdown",
   "metadata": {},
   "source": [
    "# Passo 3 - Cálculo do parâmetro b do ciclone"
   ]
  },
  {
   "cell_type": "code",
   "execution_count": 9,
   "metadata": {},
   "outputs": [
    {
     "data": {
      "text/plain": [
       "0.15588725113869456"
      ]
     },
     "execution_count": 9,
     "metadata": {},
     "output_type": "execute_result"
    }
   ],
   "source": [
    "b =((dpc**2)*2*pi*Ne*u*(densi_part-densi_gas)/(9*visc))\n",
    "b "
   ]
  },
  {
   "cell_type": "markdown",
   "metadata": {},
   "source": [
    "# Passo 4 - Cálculo do diâmetro da base"
   ]
  },
  {
   "cell_type": "code",
   "execution_count": 10,
   "metadata": {},
   "outputs": [
    {
     "data": {
      "text/plain": [
       "0.6235490045547782"
      ]
     },
     "execution_count": 10,
     "metadata": {},
     "output_type": "execute_result"
    }
   ],
   "source": [
    "Dc = 4*b\n",
    "Dc"
   ]
  },
  {
   "cell_type": "markdown",
   "metadata": {},
   "source": [
    "# Passo 5 - Cálculo do número de ciclones (Paralelos)"
   ]
  },
  {
   "cell_type": "code",
   "execution_count": 11,
   "metadata": {},
   "outputs": [
    {
     "data": {
      "text/plain": [
       "0.3117745022773891"
      ]
     },
     "execution_count": 11,
     "metadata": {},
     "output_type": "execute_result"
    }
   ],
   "source": [
    "a = Dc/2\n",
    "a"
   ]
  },
  {
   "cell_type": "code",
   "execution_count": 12,
   "metadata": {},
   "outputs": [
    {
     "data": {
      "text/plain": [
       "1.0099937939546713"
      ]
     },
     "execution_count": 12,
     "metadata": {},
     "output_type": "execute_result"
    }
   ],
   "source": [
    "N = Q/(u*a*b)\n",
    "N"
   ]
  },
  {
   "cell_type": "markdown",
   "metadata": {},
   "source": [
    "# Passo 6 - Cálculo da perda de carga"
   ]
  },
  {
   "cell_type": "code",
   "execution_count": 13,
   "metadata": {},
   "outputs": [
    {
     "data": {
      "text/plain": [
       "2"
      ]
     },
     "execution_count": 13,
     "metadata": {},
     "output_type": "execute_result"
    }
   ],
   "source": [
    "N = ceil(N)\n",
    "N"
   ]
  },
  {
   "cell_type": "code",
   "execution_count": 14,
   "metadata": {},
   "outputs": [
    {
     "data": {
      "text/plain": [
       "0.0861483610476576"
      ]
     },
     "execution_count": 14,
     "metadata": {},
     "output_type": "execute_result"
    }
   ],
   "source": [
    "\n",
    "Q_1 = Q/N\n",
    "Q_1"
   ]
  },
  {
   "cell_type": "markdown",
   "metadata": {},
   "source": [
    "# Passo 7 - Cálculo da potência"
   ]
  },
  {
   "cell_type": "code",
   "execution_count": 15,
   "metadata": {},
   "outputs": [
    {
     "data": {
      "text/plain": [
       "0.4952205323863333"
      ]
     },
     "execution_count": 15,
     "metadata": {},
     "output_type": "execute_result"
    }
   ],
   "source": [
    "Dc_1 = ((dpc**2)*Q_1*(densi_part-densi_gas)/(visc*(0.095**2)))**(1/3)\n",
    "Dc_1"
   ]
  },
  {
   "cell_type": "code",
   "execution_count": 16,
   "metadata": {},
   "outputs": [
    {
     "data": {
      "text/plain": [
       "1.772539108390448"
      ]
     },
     "execution_count": 16,
     "metadata": {},
     "output_type": "execute_result"
    }
   ],
   "source": [
    "u_1 = Q_1/(a*b)\n",
    "u_1"
   ]
  },
  {
   "cell_type": "code",
   "execution_count": 17,
   "metadata": {},
   "outputs": [
    {
     "data": {
      "text/plain": [
       "1.5283956880733942"
      ]
     },
     "execution_count": 17,
     "metadata": {},
     "output_type": "execute_result"
    }
   ],
   "source": [
    "hl = (N*(u**2)/(2*g))*(densi_part/densi_h2o)\n",
    "hl"
   ]
  },
  {
   "cell_type": "code",
   "execution_count": 18,
   "metadata": {},
   "outputs": [
    {
     "data": {
      "text/plain": [
       "0.0035111675615954623"
      ]
     },
     "execution_count": 18,
     "metadata": {},
     "output_type": "execute_result"
    }
   ],
   "source": [
    "E = 0.5\n",
    "P = Q_1*hl/(75*E)\n",
    "P "
   ]
  },
  {
   "cell_type": "code",
   "execution_count": null,
   "metadata": {},
   "outputs": [],
   "source": []
  }
 ],
 "metadata": {
  "kernelspec": {
   "display_name": "Python 3",
   "language": "python",
   "name": "python3"
  },
  "language_info": {
   "codemirror_mode": {
    "name": "ipython",
    "version": 3
   },
   "file_extension": ".py",
   "mimetype": "text/x-python",
   "name": "python",
   "nbconvert_exporter": "python",
   "pygments_lexer": "ipython3",
   "version": "3.7.3"
  }
 },
 "nbformat": 4,
 "nbformat_minor": 4
}
