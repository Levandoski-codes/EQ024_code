{
 "cells": [
  {
   "cell_type": "markdown",
   "metadata": {},
   "source": [
    "# Atividade 6 parte 2 (Elutriação) EQ024: Tecnologia da Fluidização"
   ]
  },
  {
   "cell_type": "markdown",
   "metadata": {},
   "source": [
    "## Aluno: João Eduardo Levandoski"
   ]
  },
  {
   "cell_type": "code",
   "execution_count": 62,
   "metadata": {},
   "outputs": [],
   "source": [
    "import numpy as np"
   ]
  },
  {
   "cell_type": "markdown",
   "metadata": {},
   "source": [
    "# Dados e propriedades"
   ]
  },
  {
   "cell_type": "markdown",
   "metadata": {},
   "source": [
    "**Equipamento:**\n",
    "\n",
    " - Diâmetro: 0.250 m\n",
    " - Altura: 0.800 m **Porém será considerado 1.5 m** \n",
    " \n",
    " \n",
    "**Leito:**\n",
    "\n",
    " - Altura fixo: 0.203 m  "
   ]
  },
  {
   "cell_type": "code",
   "execution_count": 119,
   "metadata": {},
   "outputs": [],
   "source": [
    "umf = 1.17 # Tannous\n",
    "u = 3*umf\n",
    "# u = 2\n",
    "F = 15 #kg/h\n",
    "F = F/3600  ##################### Foi um chute"
   ]
  },
  {
   "cell_type": "code",
   "execution_count": 120,
   "metadata": {},
   "outputs": [],
   "source": [
    "L_mf = 0.203\n",
    "\n",
    "H = 1.15633 * L_mf"
   ]
  },
  {
   "cell_type": "code",
   "execution_count": 121,
   "metadata": {},
   "outputs": [],
   "source": [
    "d_sauter = 3586.68*10**-6\n",
    "densi_gas = 1.116\n",
    "densi_part = 1217 #Real\n",
    "densi_part_apa = 557.10\n",
    "g = 9.81\n",
    "visc = 18*10**-6\n",
    "D_c = 0.25\n",
    "A_sec = (3.14*D_c**2)/4"
   ]
  },
  {
   "cell_type": "code",
   "execution_count": 122,
   "metadata": {},
   "outputs": [],
   "source": [
    "d_p = np.array([6680,\n",
    "                4699,\n",
    "                3327,\n",
    "                2362,\n",
    "                1651,\n",
    "                1168,\n",
    "                833,\n",
    "                589,\n",
    "                0])\n",
    "\n",
    "x_i = np.array([0.,\n",
    "                0.2597611,\n",
    "                0.4556962,\n",
    "                0.19433054,\n",
    "                0.06400428,\n",
    "                0.01800677,\n",
    "                0.00410055,\n",
    "                0.00178285,\n",
    "                0.])\n",
    "\n",
    "d_med = np.array([5689.5,\n",
    "                  4013.0,\n",
    "                  2844.5,\n",
    "                  2006.5,\n",
    "                  1409.5,\n",
    "                  1000.5,\n",
    "                  711.0,\n",
    "                  294.5])\n",
    "x_imed = np.array([0.26041,\n",
    "                   0.45684,\n",
    "                   0.19482,\n",
    "                   0.064164,\n",
    "                   0.018052,\n",
    "                   0.0041108,\n",
    "                   0.0017873,\n",
    "                   0.])\n",
    "u_mf = np.array([1.54547,\n",
    "                 1.2582,\n",
    "                 1.00625,\n",
    "                 0.774849,\n",
    "                 0.561833,\n",
    "                 0.379338,\n",
    "                 0.232647,\n",
    "                 0.0470554])\n",
    "U_t = np.array([2.57151,\n",
    "                2.17738,\n",
    "                1.85717,\n",
    "                1.59055,\n",
    "                1.36815,\n",
    "                1.18443,\n",
    "                1.01703,\t\n",
    "                0.55230])"
   ]
  },
  {
   "cell_type": "code",
   "execution_count": 123,
   "metadata": {},
   "outputs": [],
   "source": [
    "def k_geldart(U, Uti, densi_gas):\n",
    "    return densi_gas*U*23.7*np.exp(-5.4*Uti/U)"
   ]
  },
  {
   "cell_type": "code",
   "execution_count": 124,
   "metadata": {},
   "outputs": [],
   "source": [
    "def k_zenz(Ug, dpi, densi_part, densi_gas, g=9.81):\n",
    "    A = (Ug**2)/(g*dpi*(densi_part**2))\n",
    "    \n",
    "    if A < 3*10**-4:\n",
    "        ki = densi_gas*Ug*(1.26*10**7)*(A**1.88)\n",
    "    else:\n",
    "        ki = densi_gas*Ug*(4.31*10**4)*(A**1.18)\n",
    "    return ki"
   ]
  },
  {
   "cell_type": "code",
   "execution_count": 125,
   "metadata": {},
   "outputs": [],
   "source": [
    "def wen_chen(U, Uti, d_i, densi_part, densi_gas, g, D_c):\n",
    "    \n",
    "    A = densi_gas*d_i*(U - Uti)/visc\n",
    "    \n",
    "    if A <= (2.38/D_c):\n",
    "        B = (D_c**2)*5.17*A**-1.5\n",
    "    else:\n",
    "        B = (D_c)*12.3*A**-2.5\n",
    "        \n",
    "    lamb = (B*d_i**2)/(densi_part*(visc/densi_gas)**2.5)\n",
    "    \n",
    "    Ei = (1+(lamb*(U-Uti)**2)/(2*g*D_c))**(-1/4.7)\n",
    "    \n",
    "    Ki = densi_part*(1-Ei)*(U-Uti)\n",
    "    \n",
    "    return Ki\n",
    "    \n",
    "    "
   ]
  },
  {
   "cell_type": "code",
   "execution_count": 126,
   "metadata": {},
   "outputs": [],
   "source": [
    "def calc_xbi(xfi, F, kih, A, Rt=0, err=0.01):\n",
    "    xbi = _xbi(xfi, F, kih, A, Rt)\n",
    "    i=0\n",
    "    while True and i < 100:\n",
    "               \n",
    "        xbi_ant = xbi\n",
    "        Rt = _Rt(kih, A, xbi)\n",
    "        xbi = _xbi(xfi, F, kih, A, Rt)\n",
    "        i+=1        \n",
    "        diff = abs((xbi-xbi_ant)/xbi)\n",
    "#         print(i, Rt, xbi, diff)\n",
    "        if diff <= err:\n",
    "            break\n",
    "    return xbi, Rt\n",
    "\n",
    "def calc_xBi(xfi, F, kih, A, n=1, Rt=0, err=0.01):\n",
    "    xBi = _xBi(xfi, F, kih, A, Rt)\n",
    "    i=0\n",
    "    while True and i < 100:\n",
    "               \n",
    "        xBi_ant = xBi\n",
    "        Rt = _Rt(kih, A, xBi)\n",
    "        xBi = _xBi(xfi, F, kih, A, Rt)\n",
    "        i+=1        \n",
    "        diff = abs((xBi-xBi_ant)/xBi)\n",
    "#         print(i, Rt, xBi, diff)\n",
    "        if diff <= err:\n",
    "            break\n",
    "    return xBi, Rt"
   ]
  },
  {
   "cell_type": "code",
   "execution_count": 127,
   "metadata": {},
   "outputs": [],
   "source": [
    "def _xbi(xfi, F, kih, A, Rt):\n",
    "    return xfi*F/(kih*A + F - Rt)\n",
    "\n",
    "def _xBi(xfi, F, kih, A, Rt, n=1):\n",
    "    return xfi*F/(kih*A + F +n*Rt-(1-n)*Rt)\n",
    "\n",
    "def _Rt(kih, A, xbi):\n",
    "    return kih*A*xbi\n",
    "\n",
    "def _Eih(kih, xbi):\n",
    "    return kih*xbi"
   ]
  },
  {
   "cell_type": "raw",
   "metadata": {},
   "source": [
    "TDH (F)\n",
    "U = 3.51 m/s\n",
    "Baron: 15.686\n",
    "Hambullahpu: 1.2438\n",
    "Cipolato: 0.77128\n",
    "Sciazko: 0.72056\n",
    "Pinto: 0.97494"
   ]
  },
  {
   "cell_type": "code",
   "execution_count": null,
   "metadata": {},
   "outputs": [],
   "source": []
  },
  {
   "cell_type": "code",
   "execution_count": null,
   "metadata": {},
   "outputs": [],
   "source": []
  },
  {
   "cell_type": "markdown",
   "metadata": {},
   "source": [
    "# Elutriação"
   ]
  },
  {
   "cell_type": "markdown",
   "metadata": {},
   "source": [
    "# Passo 1"
   ]
  },
  {
   "cell_type": "code",
   "execution_count": null,
   "metadata": {},
   "outputs": [],
   "source": []
  },
  {
   "cell_type": "code",
   "execution_count": null,
   "metadata": {},
   "outputs": [],
   "source": []
  },
  {
   "cell_type": "code",
   "execution_count": null,
   "metadata": {},
   "outputs": [],
   "source": []
  },
  {
   "cell_type": "code",
   "execution_count": null,
   "metadata": {},
   "outputs": [],
   "source": []
  },
  {
   "cell_type": "markdown",
   "metadata": {},
   "source": [
    "# Passo 2"
   ]
  },
  {
   "cell_type": "code",
   "execution_count": null,
   "metadata": {},
   "outputs": [],
   "source": []
  },
  {
   "cell_type": "code",
   "execution_count": null,
   "metadata": {},
   "outputs": [],
   "source": []
  },
  {
   "cell_type": "code",
   "execution_count": null,
   "metadata": {},
   "outputs": [],
   "source": []
  },
  {
   "cell_type": "code",
   "execution_count": null,
   "metadata": {},
   "outputs": [],
   "source": []
  },
  {
   "cell_type": "markdown",
   "metadata": {},
   "source": [
    "# Passo 3"
   ]
  },
  {
   "cell_type": "code",
   "execution_count": 128,
   "metadata": {},
   "outputs": [
    {
     "name": "stdout",
     "output_type": "stream",
     "text": [
      "      dpi  \tki_ge\t ki_zenz     ki_wen\t\tki_med\t     xfi\txbi\tRt\t\tEih\t   Eih*A\n",
      "    5689.5|    1.7765|    3.1559|    1.7058        |    1.7412|   0.26041|  0.012254| 0.0010468        |  0.021336| 0.0010468\n",
      "    4013.0|    3.2577|    6.0834|    2.4203        |     2.839|   0.45684|  0.013444| 0.0018727        |  0.038169| 0.0018727\n",
      "    2844.5|    5.3316|    11.618|    3.2007        |    4.2662|   0.19482| 0.0038168| 0.0007989        |  0.016283| 0.0007989\n",
      "    2006.5|    8.0353|    17.621|    4.1049        |    6.0701|  0.064164| 0.0008861|0.00026389        | 0.0053787|0.00026389\n",
      "    1409.5|    11.313|    26.731|    5.1702        |    8.2419|  0.018052|0.00018415|7.4463e-05        | 0.0015177|7.4463e-05\n",
      "    1000.5|    15.009|    40.055|    6.3895        |    10.699| 0.0041108|3.2374e-05|1.6994e-05        |0.00034637|1.6994e-05\n",
      "     711.0|    19.418|    59.939|    7.8402        |    13.629| 0.0017873|1.1068e-05| 7.401e-06        |0.00015085| 7.401e-06\n",
      "\n",
      "\n",
      "\n",
      "\n",
      "\n",
      "\n",
      "Eh:   0.083182 Rt:  0.0040811 Eh*A/F (%):     97.947    Eh/U (Kg/m³):   0.023699\n"
     ]
    }
   ],
   "source": [
    "k_gedart_res = []\n",
    "k_zenz_res = []\n",
    "k_wen_chen_res = []\n",
    "xbi_res = []\n",
    "Rt_res = []\n",
    "ki_med_res = []\n",
    "Eih_res = []\n",
    "xpi_res = []\n",
    "Rt = 0\n",
    "Eh = 0\n",
    "xp = 0\n",
    "i = []\n",
    "# print('len:', len(d_med))\n",
    "print(f'      dpi  \\tki_ge\\t ki_zenz     ki_wen\\t\\tki_med\\t     xfi\\txbi\\tRt\\t\\tEih\\t   Eih*A')\n",
    "for j in range(len(d_med)-1):\n",
    "    i.append(j)\n",
    "    dpi = d_med[j]*10**-6\n",
    "    Uti = U_t[j]\n",
    "    xfi = x_imed[j]\n",
    "    \n",
    "    ki_ge = k_geldart(u, Uti, densi_gas)\n",
    "    ki_zenz = k_zenz(u, dpi, densi_part, densi_gas)\n",
    "    ki_wen = wen_chen(u, Uti, dpi, densi_part, densi_gas, g, D_c)\n",
    "    ki_med = (ki_ge+ki_wen)/2\n",
    "    xbi, Rti = calc_xbi(xfi, F, kih=ki_med, A=A_sec, err=1e-5)\n",
    "    Eih = ki_med*xbi\n",
    "#     print(Eih, A_sec, Rt,'\\n\\n\\n\\n')\n",
    "    xpi = Eih*A_sec\n",
    "    init = 10\n",
    "    form = 5\n",
    "    print(f'{dpi*10**6:{init}.{form}}|{ki_ge:{init}.{form}}|{ki_zenz:{init}.{form}}|{ki_wen:{init}.{form}}\\\n",
    "        |{ki_med:{init}.{form}}|{xfi:{init}.{form}}|{xbi:{init}.{form}}|{Rti:{init}.{form}}\\\n",
    "        |{Eih:{init}.{form}}|{Eih*A_sec:{init}.{form}}')\n",
    "#     print(j, ki_ge, ki_zenz, ki_wen, ki_med, xbi, Rt, Eih)\n",
    "    \n",
    "    \n",
    "    \n",
    "    \n",
    "    Rt += Rti\n",
    "    Eh += Eih\n",
    "    xp += xpi\n",
    "    \n",
    "    k_gedart_res.append(ki_ge)\n",
    "    k_zenz_res.append(ki_zenz)\n",
    "    k_wen_chen_res.append(ki_wen)\n",
    "    ki_med_res.append(ki_med)\n",
    "    xbi_res.append(xbi)\n",
    "    Rt_res.append(Rt)\n",
    "    Eih_res.append(Eih)\n",
    "    xpi_res.append(xpi)\n",
    "print('\\n\\n\\n\\n\\n')\n",
    "print(f'Eh: {Eh:{init}.{form}} Rt: {Rt:{init}.{form}} Eh*A/F (%): {Eh*A_sec*100/F:{init}.{form}}\\\n",
    "    Eh/U (Kg/m³): {Eh/u:{init}.{form}}')"
   ]
  },
  {
   "cell_type": "markdown",
   "metadata": {},
   "source": [
    "# Passo 4"
   ]
  },
  {
   "cell_type": "code",
   "execution_count": 129,
   "metadata": {},
   "outputs": [
    {
     "data": {
      "text/plain": [
       "0.004081109497309255"
      ]
     },
     "execution_count": 129,
     "metadata": {},
     "output_type": "execute_result"
    }
   ],
   "source": [
    "Rt"
   ]
  },
  {
   "cell_type": "code",
   "execution_count": 130,
   "metadata": {},
   "outputs": [
    {
     "data": {
      "text/plain": [
       "8.555716935741177e-05"
      ]
     },
     "execution_count": 130,
     "metadata": {},
     "output_type": "execute_result"
    }
   ],
   "source": [
    "Q = F - Rt\n",
    "Q"
   ]
  },
  {
   "cell_type": "code",
   "execution_count": 132,
   "metadata": {},
   "outputs": [
    {
     "data": {
      "text/plain": [
       "0.004166666666666667"
      ]
     },
     "execution_count": 132,
     "metadata": {},
     "output_type": "execute_result"
    }
   ],
   "source": [
    "F"
   ]
  },
  {
   "cell_type": "code",
   "execution_count": 133,
   "metadata": {},
   "outputs": [
    {
     "name": "stdout",
     "output_type": "stream",
     "text": [
      "    dpi\t\t  xbi\t\t   xfi\t\t\txpi\n",
      "    5689.5\t|    0.0123\t|      0.26        |     0.266\n",
      "    4013.0\t|    0.0134\t|     0.457        |     0.466\n",
      "    2844.5\t|   0.00382\t|     0.195        |     0.199\n",
      "    2006.5\t|  0.000886\t|    0.0642        |    0.0655\n",
      "    1409.5\t|  0.000184\t|    0.0181        |    0.0184\n",
      "    1000.5\t|  3.24e-05\t|   0.00411        |    0.0042\n",
      "     711.0\t|  1.11e-05\t|   0.00179        |   0.00182\n"
     ]
    }
   ],
   "source": [
    "xfi_res = []\n",
    "print(f'    dpi\\t\\t  xbi\\t\\t   xfi\\t\\t\\txpi')\n",
    "for i,_ in enumerate(xbi_res):\n",
    "    xbi = xbi_res[i]\n",
    "    xfi = x_imed[i]\n",
    "    xpi = (xfi*F-xbi*Q)/Rt\n",
    "    xpi_res.append(xpi)\n",
    "    init = 10\n",
    "    form = 3\n",
    "    print(f'{d_med[i]:{init}.5}\\t|{xbi:{init}.{form}}\\t|{xfi:{init}.{form}}\\\n",
    "        |{xpi:{init}.{form}}')\n",
    "#     print(xbi, xpi, xfi)"
   ]
  },
  {
   "cell_type": "code",
   "execution_count": null,
   "metadata": {},
   "outputs": [],
   "source": []
  },
  {
   "cell_type": "markdown",
   "metadata": {},
   "source": [
    "# Passo 5 N = 1"
   ]
  },
  {
   "cell_type": "code",
   "execution_count": 134,
   "metadata": {},
   "outputs": [
    {
     "name": "stdout",
     "output_type": "stream",
     "text": [
      "      dpi  \tki_ge\t ki_zenz     ki_wen\t\tki_med\t     xBi\tRT\t\tEih\t   Eih*A\n",
      "    5689.5|    1.7765|    3.1559|    1.7058        |    2.2128| 0.0095375| 0.0010354        |  0.021104| 0.0010354\n",
      "    4013.0|    3.2577|    6.0834|    2.4203        |    3.9205| 0.0095961| 0.0018458        |  0.037621| 0.0018458\n",
      "    2844.5|    5.3316|    11.618|    3.2007        |    6.7168| 0.0024267|0.00079969        |    0.0163| 0.0007997\n",
      "    2006.5|    8.0353|    17.621|    4.1049        |    9.9205|0.00054433|0.00026494        |    0.0054|0.00026494\n",
      "    1409.5|    11.313|    26.731|    5.1702        |    14.405|0.00010579|7.4768e-05        | 0.0015239|7.4768e-05\n",
      "    1000.5|    15.009|    40.055|    6.3895        |    20.485|1.6972e-05|1.7057e-05        |0.00034767|1.7057e-05\n",
      "     711.0|    19.418|    59.939|    7.8402        |    29.066| 5.207e-06|7.4254e-06        |0.00015134|7.4253e-06\n",
      "\n",
      "\n",
      "\n",
      "\n",
      "\n",
      "\n",
      "Eh:   0.082448 RT:  0.0040451 Eh*A/F (%):     97.083    Eh/U (Kg/m³):    0.02349\n"
     ]
    }
   ],
   "source": [
    "k_gedart_res = []\n",
    "k_zenz_res = []\n",
    "k_wen_chen_res = []\n",
    "xBi_res = []\n",
    "RT_res = []\n",
    "ki_med_res = []\n",
    "Eih_res = []\n",
    "xPi_res = []\n",
    "RT = 0\n",
    "Eh = 0\n",
    "xP = 0\n",
    "i = []\n",
    "# print('len:', len(d_med))\n",
    "print(f'      dpi  \\tki_ge\\t ki_zenz     ki_wen\\t\\tki_med\\t     xBi\\tRT\\t\\tEih\\t   Eih*A')\n",
    "for j in range(len(d_med)-1):\n",
    "    i.append(j)\n",
    "    dpi = d_med[j]*10**-6\n",
    "    Uti = U_t[j]\n",
    "    xFi = x_imed[j]\n",
    "    \n",
    "    ki_ge = k_geldart(u, Uti, densi_gas)\n",
    "    ki_zenz = k_zenz(u, dpi, densi_part, densi_gas)\n",
    "    ki_wen = wen_chen(u, Uti, dpi, densi_part, densi_gas, g, D_c)\n",
    "    ki_med = (ki_ge+ki_zenz+ki_wen)/3\n",
    "    xBi, RTi = calc_xBi(xFi, F, kih=ki_med, A=A_sec, err=1e-5)\n",
    "    Eih = ki_med*xBi\n",
    "#     print(Eih, A_sec, RT,'\\n\\n\\n\\n')\n",
    "    xPi = Eih*A_sec\n",
    "    init = 10\n",
    "    form = 5\n",
    "    print(f'{dpi*10**6:{init}.{form}}|{ki_ge:{init}.{form}}|{ki_zenz:{init}.{form}}|{ki_wen:{init}.{form}}\\\n",
    "        |{ki_med:{init}.{form}}|{xBi:{init}.{form}}|{RTi:{init}.{form}}\\\n",
    "        |{Eih:{init}.{form}}|{Eih*A_sec:{init}.{form}}')\n",
    "#     print(j, ki_ge, ki_zenz, ki_wen, ki_med, xBi, RT, Eih)\n",
    "    \n",
    "    \n",
    "    \n",
    "    \n",
    "    RT += RTi\n",
    "    Eh += Eih\n",
    "    xP += xPi\n",
    "    \n",
    "    k_gedart_res.append(ki_ge)\n",
    "    k_zenz_res.append(ki_zenz)\n",
    "    k_wen_chen_res.append(ki_wen)\n",
    "    ki_med_res.append(ki_med)\n",
    "    xBi_res.append(xBi)\n",
    "    RT_res.append(RT)\n",
    "    Eih_res.append(Eih)\n",
    "    xPi_res.append(xPi)\n",
    "print('\\n\\n\\n\\n\\n')\n",
    "print(f'Eh: {Eh:{init}.{form}} RT: {RT:{init}.{form}} Eh*A/F (%): {Eh*A_sec*100/F:{init}.{form}}\\\n",
    "    Eh/U (Kg/m³): {Eh/u:{init}.{form}}') # ver a unidade kg/m³ estou criando materia # mesmo q"
   ]
  },
  {
   "cell_type": "code",
   "execution_count": 135,
   "metadata": {},
   "outputs": [
    {
     "data": {
      "text/plain": [
       "0.004045114517308936"
      ]
     },
     "execution_count": 135,
     "metadata": {},
     "output_type": "execute_result"
    }
   ],
   "source": [
    "RT"
   ]
  },
  {
   "cell_type": "code",
   "execution_count": 136,
   "metadata": {},
   "outputs": [
    {
     "data": {
      "text/plain": [
       "0.00012155214935773064"
      ]
     },
     "execution_count": 136,
     "metadata": {},
     "output_type": "execute_result"
    }
   ],
   "source": [
    "Q_1 = F - RT \n",
    "Q_1"
   ]
  },
  {
   "cell_type": "code",
   "execution_count": 137,
   "metadata": {},
   "outputs": [
    {
     "data": {
      "text/plain": [
       "0.004166666666666667"
      ]
     },
     "execution_count": 137,
     "metadata": {},
     "output_type": "execute_result"
    }
   ],
   "source": [
    "F"
   ]
  },
  {
   "cell_type": "code",
   "execution_count": 146,
   "metadata": {},
   "outputs": [
    {
     "name": "stdout",
     "output_type": "stream",
     "text": [
      "    dpi\t\t  xfi\t\t   xri\t\t\txQi\n",
      "    5689.5\t|      0.26\t|     0.256        |     0.248\n",
      "    4013.0\t|     0.457\t|     0.456        |     0.438\n",
      "    2844.5\t|     0.195\t|     0.198        |     0.188\n",
      "    2006.5\t|    0.0642\t|    0.0655        |    0.0622\n",
      "    1409.5\t|    0.0181\t|    0.0185        |    0.0175\n",
      "    1000.5\t|   0.00411\t|   0.00422        |     0.004\n",
      "     711.0\t|   0.00179\t|   0.00184        |   0.00174\n"
     ]
    }
   ],
   "source": [
    "xFi_res = []\n",
    "print(f'    dpi\\t\\t  xFi\\t\\t   xRi\\t\\t\\txQi')\n",
    "for i,_ in enumerate(xbi_res):\n",
    "    xBi = xBi_res[i]\n",
    "    xFi = x_imed[i]\n",
    "    xRi = (Eih_res[i]*A_sec/RT)\n",
    "    xQi = (xFi*F+xRi*RT)/(Q*100)\n",
    "#     xPi_res.append(xpi)\n",
    "    init = 10\n",
    "    form = 3\n",
    "    print(f'{d_med[i]:{init}.5}\\t|{xFi:{init}.{form}}\\t|{xRi:{init}.{form}}\\\n",
    "        |{xQi:{init}.{form}}')\n",
    "# print()"
   ]
  },
  {
   "cell_type": "code",
   "execution_count": null,
   "metadata": {},
   "outputs": [],
   "source": []
  },
  {
   "cell_type": "markdown",
   "metadata": {},
   "source": [
    "# Passo 6"
   ]
  },
  {
   "cell_type": "code",
   "execution_count": null,
   "metadata": {},
   "outputs": [],
   "source": []
  },
  {
   "cell_type": "code",
   "execution_count": null,
   "metadata": {},
   "outputs": [],
   "source": []
  }
 ],
 "metadata": {
  "kernelspec": {
   "display_name": "Python 3",
   "language": "python",
   "name": "python3"
  },
  "language_info": {
   "codemirror_mode": {
    "name": "ipython",
    "version": 3
   },
   "file_extension": ".py",
   "mimetype": "text/x-python",
   "name": "python",
   "nbconvert_exporter": "python",
   "pygments_lexer": "ipython3",
   "version": "3.7.3"
  }
 },
 "nbformat": 4,
 "nbformat_minor": 4
}
